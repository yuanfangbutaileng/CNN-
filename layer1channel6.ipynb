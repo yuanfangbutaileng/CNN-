{
 "cells": [
  {
   "cell_type": "markdown",
   "metadata": {},
   "source": [
    "# CNN"
   ]
  },
  {
   "cell_type": "code",
   "execution_count": 4,
   "metadata": {},
   "outputs": [
    {
     "data": {
      "text/plain": [
       "[name: \"/device:CPU:0\"\n",
       " device_type: \"CPU\"\n",
       " memory_limit: 268435456\n",
       " locality {\n",
       " }\n",
       " incarnation: 9349446384773312517]"
      ]
     },
     "execution_count": 4,
     "metadata": {},
     "output_type": "execute_result"
    }
   ],
   "source": [
    "#TensorFlowがGPUを認識しているか確認\n",
    "from tensorflow.python.client import device_lib\n",
    "device_lib.list_local_devices()"
   ]
  },
  {
   "cell_type": "code",
   "execution_count": 5,
   "metadata": {},
   "outputs": [],
   "source": [
    "#tensorflowをtfとしてインポート\n",
    "import tensorflow as tf\n",
    "\n",
    "#pltをインポート\n",
    "%matplotlib inline\n",
    "import matplotlib.pyplot as plt\n",
    "\n",
    "import keras\n",
    "from keras.utils import np_utils\n",
    "from keras.layers.convolutional import Conv2D, MaxPooling2D\n",
    "from keras.models import Sequential, Model\n",
    "from keras.layers.core import Dense, Dropout, Activation, Flatten\n",
    "from keras.preprocessing.image import array_to_img, img_to_array, load_img\n",
    "import numpy as np\n",
    "import pandas as pd\n",
    "from sklearn.model_selection import train_test_split\n",
    "import matplotlib.pyplot as plt\n",
    "import os\n",
    "import re"
   ]
  },
  {
   "cell_type": "code",
   "execution_count": 6,
   "metadata": {},
   "outputs": [
    {
     "name": "stdout",
     "output_type": "stream",
     "text": [
      "WARNING:tensorflow:From /Users/li/anaconda3/envs/tensorflow/lib/python3.7/site-packages/tensorflow/python/framework/op_def_library.py:263: colocate_with (from tensorflow.python.framework.ops) is deprecated and will be removed in a future version.\n",
      "Instructions for updating:\n",
      "Colocations handled automatically by placer.\n",
      "_________________________________________________________________\n",
      "Layer (type)                 Output Shape              Param #   \n",
      "=================================================================\n",
      "conv2d_1 (Conv2D)            (None, 64, 64, 6)         60        \n",
      "_________________________________________________________________\n",
      "activation_1 (Activation)    (None, 64, 64, 6)         0         \n",
      "_________________________________________________________________\n",
      "max_pooling2d_1 (MaxPooling2 (None, 32, 32, 6)         0         \n",
      "_________________________________________________________________\n",
      "flatten_1 (Flatten)          (None, 6144)              0         \n",
      "_________________________________________________________________\n",
      "dense_1 (Dense)              (None, 5)                 30725     \n",
      "_________________________________________________________________\n",
      "activation_2 (Activation)    (None, 5)                 0         \n",
      "=================================================================\n",
      "Total params: 30,785\n",
      "Trainable params: 30,785\n",
      "Non-trainable params: 0\n",
      "_________________________________________________________________\n"
     ]
    }
   ],
   "source": [
    "#import circle.py\n",
    "from keras.models import Sequential\n",
    "from keras.layers import Activation,Dense,Dropout, Flatten\n",
    "from keras.layers import Conv2D, MaxPooling2D\n",
    "from keras.preprocessing.image import ImageDataGenerator\n",
    "\n",
    "x_train, x_test, y_train, y_test = np.load('./data/dataset.npy', allow_pickle = True)\n",
    "batch_size = 1\n",
    "epochs = 1\n",
    "\n",
    "#モデルを作成\n",
    "model = Sequential()\n",
    "#conv１層目\n",
    "model.add(Conv2D(6, (3, 3), padding='same', input_shape=(64, 64, 1)))\n",
    "model.add(Activation('relu'))\n",
    "model.add(MaxPooling2D(pool_size=(2, 2)))\n",
    "\n",
    "#conv２層目\n",
    "#model.add(Conv2D(4, (3, 3),padding='same'))\n",
    "#model.add(Activation('relu'))\n",
    "#model.add(MaxPooling2D(pool_size=(2, 2)))\n",
    "\n",
    "#conv３層目\n",
    "#model.add(Conv2D(128, (3, 3), padding='same'))\n",
    "#model.add(Activation('relu'))\n",
    "#model.add(MaxPooling2D(pool_size=(2,2)))\n",
    "        \n",
    "#conv４層目\n",
    "#model.add(Conv2D(256, (3, 3), padding='same'))\n",
    "#model.add(Activation('relu'))\n",
    "#model.add(MaxPooling2D(pool_size=(2,2)))\n",
    "\n",
    "#conv５層目\n",
    "#model.add(Conv2D(512, (3, 3), padding='same'))\n",
    "#model.add(Activation('relu'))\n",
    "        \n",
    "#conv６層目\n",
    "#model.add(Conv2D(256, (1, 1), padding='same'))\n",
    "#model.add(Activation('relu'))\n",
    "\n",
    "#conv７層目          \n",
    "#model.add(Conv2D(512, (3, 3), padding='same'))\n",
    "#model.add(Activation('relu'))\n",
    "\n",
    "#conv８層目          \n",
    "#model.add(Conv2D(256, (1, 1), padding='same'))\n",
    "#model.add(Activation('relu'))\n",
    "          \n",
    "model.add(Flatten())\n",
    "#model.add(Dropout(0.5))\n",
    "#model.add(Dense(64))\n",
    "#model.add(Activation('relu'))\n",
    "model.add(Dense(5))\n",
    "model.add(Activation('softmax'))\n",
    "          \n",
    "# サマリーを出力\n",
    "model.summary()"
   ]
  },
  {
   "cell_type": "code",
   "execution_count": 7,
   "metadata": {},
   "outputs": [
    {
     "name": "stdout",
     "output_type": "stream",
     "text": [
      "WARNING:tensorflow:From /Users/li/anaconda3/envs/tensorflow/lib/python3.7/site-packages/tensorflow/python/ops/math_ops.py:3066: to_int32 (from tensorflow.python.ops.math_ops) is deprecated and will be removed in a future version.\n",
      "Instructions for updating:\n",
      "Use tf.cast instead.\n",
      "Train on 35840 samples, validate on 8960 samples\n",
      "Epoch 1/30\n",
      "35840/35840 [==============================] - 97s 3ms/step - loss: 1.1727 - acc: 0.5207 - val_loss: 0.8189 - val_acc: 0.7404\n",
      "Epoch 2/30\n",
      "35840/35840 [==============================] - 125s 3ms/step - loss: 0.6113 - acc: 0.8306 - val_loss: 0.4762 - val_acc: 0.8773\n",
      "Epoch 3/30\n",
      "35840/35840 [==============================] - 122s 3ms/step - loss: 0.3529 - acc: 0.9288 - val_loss: 0.3019 - val_acc: 0.9388\n",
      "Epoch 4/30\n",
      "35840/35840 [==============================] - 121s 3ms/step - loss: 0.2228 - acc: 0.9669 - val_loss: 0.2138 - val_acc: 0.9621\n",
      "Epoch 5/30\n",
      "35840/35840 [==============================] - 123s 3ms/step - loss: 0.1490 - acc: 0.9828 - val_loss: 0.1514 - val_acc: 0.9730\n",
      "Epoch 6/30\n",
      "35840/35840 [==============================] - 123s 3ms/step - loss: 0.1034 - acc: 0.9912 - val_loss: 0.1154 - val_acc: 0.9818\n",
      "Epoch 7/30\n",
      "35840/35840 [==============================] - 121s 3ms/step - loss: 0.0733 - acc: 0.9954 - val_loss: 0.0861 - val_acc: 0.9883\n",
      "Epoch 8/30\n",
      "35840/35840 [==============================] - 120s 3ms/step - loss: 0.0525 - acc: 0.9975 - val_loss: 0.0672 - val_acc: 0.9901\n",
      "Epoch 9/30\n",
      "35840/35840 [==============================] - 119s 3ms/step - loss: 0.0371 - acc: 0.9990 - val_loss: 0.0537 - val_acc: 0.9925\n",
      "Epoch 10/30\n",
      "35840/35840 [==============================] - 117s 3ms/step - loss: 0.0268 - acc: 0.9995 - val_loss: 0.0427 - val_acc: 0.9940\n",
      "Epoch 11/30\n",
      "35840/35840 [==============================] - 116s 3ms/step - loss: 0.0196 - acc: 0.9997 - val_loss: 0.0356 - val_acc: 0.9952\n",
      "Epoch 12/30\n",
      "35840/35840 [==============================] - 117s 3ms/step - loss: 0.0143 - acc: 0.9999 - val_loss: 0.0273 - val_acc: 0.9979\n",
      "Epoch 13/30\n",
      "35840/35840 [==============================] - 117s 3ms/step - loss: 0.0105 - acc: 0.9999 - val_loss: 0.0226 - val_acc: 0.9978\n",
      "Epoch 14/30\n",
      "35840/35840 [==============================] - 117s 3ms/step - loss: 0.0079 - acc: 1.0000 - val_loss: 0.0181 - val_acc: 0.9982\n",
      "Epoch 15/30\n",
      "35840/35840 [==============================] - 116s 3ms/step - loss: 0.0057 - acc: 1.0000 - val_loss: 0.0150 - val_acc: 0.9991\n",
      "Epoch 16/30\n",
      "35840/35840 [==============================] - 114s 3ms/step - loss: 0.0042 - acc: 1.0000 - val_loss: 0.0126 - val_acc: 0.9990\n",
      "Epoch 17/30\n",
      "35840/35840 [==============================] - 92s 3ms/step - loss: 0.0038 - acc: 0.9999 - val_loss: 0.0105 - val_acc: 0.9992\n",
      "Epoch 18/30\n",
      "35840/35840 [==============================] - 89s 2ms/step - loss: 0.0024 - acc: 1.0000 - val_loss: 0.0091 - val_acc: 0.9992\n",
      "Epoch 19/30\n",
      "35840/35840 [==============================] - 89s 2ms/step - loss: 0.0019 - acc: 1.0000 - val_loss: 0.0083 - val_acc: 0.9989\n",
      "Epoch 20/30\n",
      "35840/35840 [==============================] - 89s 2ms/step - loss: 0.0014 - acc: 1.0000 - val_loss: 0.0075 - val_acc: 0.9993\n",
      "Epoch 21/30\n",
      "35840/35840 [==============================] - 89s 2ms/step - loss: 0.0013 - acc: 1.0000 - val_loss: 0.0100 - val_acc: 0.9979\n",
      "Epoch 22/30\n",
      "35840/35840 [==============================] - 89s 2ms/step - loss: 9.1796e-04 - acc: 1.0000 - val_loss: 0.0049 - val_acc: 0.9993\n",
      "Epoch 23/30\n",
      "35840/35840 [==============================] - 89s 2ms/step - loss: 6.3304e-04 - acc: 1.0000 - val_loss: 0.0050 - val_acc: 0.9992\n",
      "Epoch 24/30\n",
      "35840/35840 [==============================] - 89s 2ms/step - loss: 6.0802e-04 - acc: 1.0000 - val_loss: 0.0048 - val_acc: 0.9992\n",
      "Epoch 25/30\n",
      "35840/35840 [==============================] - 89s 2ms/step - loss: 4.1578e-04 - acc: 1.0000 - val_loss: 0.0042 - val_acc: 0.9990\n",
      "Epoch 26/30\n",
      "35840/35840 [==============================] - 89s 2ms/step - loss: 3.4929e-04 - acc: 1.0000 - val_loss: 0.0041 - val_acc: 0.9994\n",
      "Epoch 27/30\n",
      "35840/35840 [==============================] - 89s 2ms/step - loss: 2.5968e-04 - acc: 1.0000 - val_loss: 0.0034 - val_acc: 0.9993\n",
      "Epoch 28/30\n",
      "35840/35840 [==============================] - 89s 2ms/step - loss: 1.9224e-04 - acc: 1.0000 - val_loss: 0.0032 - val_acc: 0.9990\n",
      "Epoch 29/30\n",
      "35840/35840 [==============================] - 89s 2ms/step - loss: 2.3267e-04 - acc: 1.0000 - val_loss: 0.0031 - val_acc: 0.9992\n",
      "Epoch 30/30\n",
      "35840/35840 [==============================] - 89s 2ms/step - loss: 1.2686e-04 - acc: 1.0000 - val_loss: 0.0026 - val_acc: 0.9993\n"
     ]
    },
    {
     "data": {
      "image/png": "[encoded data removed]",
      "text/plain": [
       "<Figure size 432x288 with 1 Axes>"
      ]
     },
     "metadata": {
      "needs_background": "light"
     },
     "output_type": "display_data"
    }
   ],
   "source": [
    "#モデルのコンパイル\n",
    "#WEIGHTS_PATH = 'layer1channel8_weights.hdf5'\n",
    "#model.load_weights(WEIGHTS_PATH)\n",
    "model.compile(optimizer='adam',\n",
    "                           loss='categorical_crossentropy',\n",
    "                           metrics=['accuracy'])\n",
    "history = model.fit(x_train, y_train, epochs=30, validation_data = (x_test, y_test))\n",
    "\n",
    "# 绘制训练 & 验证的准确率值\n",
    "plt.plot(history.history['acc'])\n",
    "plt.plot(history.history['val_acc'])\n",
    "plt.title('Model accuracy')\n",
    "plt.ylabel('Accuracy')\n",
    "plt.xlabel('Epoch')\n",
    "plt.legend(['Train', 'Test'], loc='upper left')\n",
    "plt.show()"
   ]
  },
  {
   "cell_type": "code",
   "execution_count": 8,
   "metadata": {},
   "outputs": [
    {
     "name": "stdout",
     "output_type": "stream",
     "text": [
      "8960/8960 [==============================] - 9s 1ms/step\n",
      "test loss: 0.0026462445287571816\n",
      "test acc: 0.9993303571428571\n"
     ]
    }
   ],
   "source": [
    "#学習済みのモデルでテスト\n",
    "score = model.evaluate(x_test, y_test)\n",
    "print('test loss:',score[0])\n",
    "print('test acc:',score[1])"
   ]
  },
  {
   "cell_type": "code",
   "execution_count": 6,
   "metadata": {},
   "outputs": [
    {
     "ename": "KeyError",
     "evalue": "'accuracy'",
     "output_type": "error",
     "traceback": [
      "\u001b[0;31m---------------------------------------------------------------------------\u001b[0m",
      "\u001b[0;31mKeyError\u001b[0m                                  Traceback (most recent call last)",
      "\u001b[0;32m<ipython-input-6-e8ae370d0f4b>\u001b[0m in \u001b[0;36m<module>\u001b[0;34m\u001b[0m\n\u001b[1;32m      2\u001b[0m \u001b[0mloss\u001b[0m \u001b[0;34m=\u001b[0m \u001b[0mhistory\u001b[0m\u001b[0;34m.\u001b[0m\u001b[0mhistory\u001b[0m\u001b[0;34m[\u001b[0m\u001b[0;34m'loss'\u001b[0m\u001b[0;34m]\u001b[0m\u001b[0;34m\u001b[0m\u001b[0;34m\u001b[0m\u001b[0m\n\u001b[1;32m      3\u001b[0m \u001b[0mval_loss\u001b[0m \u001b[0;34m=\u001b[0m \u001b[0mhistory\u001b[0m\u001b[0;34m.\u001b[0m\u001b[0mhistory\u001b[0m\u001b[0;34m[\u001b[0m\u001b[0;34m'val_loss'\u001b[0m\u001b[0;34m]\u001b[0m\u001b[0;34m\u001b[0m\u001b[0;34m\u001b[0m\u001b[0m\n\u001b[0;32m----> 4\u001b[0;31m \u001b[0macc\u001b[0m \u001b[0;34m=\u001b[0m \u001b[0mhistory\u001b[0m\u001b[0;34m.\u001b[0m\u001b[0mhistory\u001b[0m\u001b[0;34m[\u001b[0m\u001b[0;34m'accuracy'\u001b[0m\u001b[0;34m]\u001b[0m\u001b[0;34m\u001b[0m\u001b[0;34m\u001b[0m\u001b[0m\n\u001b[0m\u001b[1;32m      5\u001b[0m \u001b[0mval_acc\u001b[0m \u001b[0;34m=\u001b[0m \u001b[0mhistory\u001b[0m\u001b[0;34m.\u001b[0m\u001b[0mhistory\u001b[0m\u001b[0;34m[\u001b[0m\u001b[0;34m'val_accuracy'\u001b[0m\u001b[0;34m]\u001b[0m\u001b[0;34m\u001b[0m\u001b[0;34m\u001b[0m\u001b[0m\n\u001b[1;32m      6\u001b[0m \u001b[0mepochs\u001b[0m \u001b[0;34m=\u001b[0m \u001b[0mlen\u001b[0m\u001b[0;34m(\u001b[0m\u001b[0mloss\u001b[0m\u001b[0;34m)\u001b[0m\u001b[0;34m\u001b[0m\u001b[0;34m\u001b[0m\u001b[0m\n",
      "\u001b[0;31mKeyError\u001b[0m: 'accuracy'"
     ]
    }
   ],
   "source": [
    "# 学習結果を表示\n",
    "loss = history.history['loss']\n",
    "val_loss = history.history['val_loss']\n",
    "acc = history.history['accuracy']\n",
    "val_acc = history.history['val_accuracy']\n",
    "epochs = len(loss)\n",
    "\n",
    "#訓練データ(トレーニングデータ)とは、機械学習の教師あり学習において、人工知能のニューラルネットワークがあらかじめ与えられる、例題と答えについてのデータ。\n",
    "#この大量のデータをもとに、ニューラルネットワーク自体が出力結果の正否を判断し、最適化を行う。\n",
    "#統計学や機械学習において何らかの推定を行う際に、トレーニングデータだけでは学習されたモデルを十分に評価できないという問題がある。\n",
    "#この問題は過剰適合や過学習と呼ばれる。この問題を解決するために、学習に用いないデータを用意し、いくつかの学習モデルの評価を行うことがある。\n",
    "#この、評価を行うためのデータがテストデータと呼ばれる。\n",
    "#交差検証においては、標本データをあらかじめトレーニングデータとテストデータに分割し、トレーニングデータで学習し、\n",
    "#テストデータに学習モデルを適用させることで性能の評価を行う。\n",
    "plt.plot(range(epochs), loss, label='loss(training data)') #トレーニングデータに対する判定結果のloss\n",
    "plt.plot(range(epochs), val_loss, label='val_loss(test data)')\n",
    "plt.legend(loc='best')\n",
    "plt.grid()\n",
    "plt.xlabel('epoch')\n",
    "plt.ylabel('loss')\n",
    "plt.show()\n",
    "\n",
    "plt.plot(range(epochs), acc, label='acc(training data)')\n",
    "plt.plot(range(epochs), val_acc,  label='val_acc(test data)')\n",
    "plt.legend(loc='best')\n",
    "plt.grid()\n",
    "plt.xlabel('epoch')\n",
    "plt.ylabel('acc')\n",
    "plt.show()"
   ]
  },
  {
   "cell_type": "code",
   "execution_count": 34,
   "metadata": {},
   "outputs": [
    {
     "name": "stdout",
     "output_type": "stream",
     "text": [
      "8960/8960 [==============================] - 8s 898us/step\n",
      "[1.5201994e-07 9.9999988e-01 5.1261375e-17 3.3464995e-10 2.8703035e-20]\n"
     ]
    }
   ],
   "source": [
    "classes = model.predict(x_test, batch_size=128, verbose=True)\n",
    "print(classes[0])"
   ]
  },
  {
   "cell_type": "code",
   "execution_count": 36,
   "metadata": {},
   "outputs": [
    {
     "name": "stdout",
     "output_type": "stream",
     "text": [
      "./data/circle/circler04_3103.jpg -> [[0.25733003 0.7345206  0.0008168  0.00566471 0.00166785]] は other\n"
     ]
    }
   ],
   "source": [
    "#circleに対して、各画像のクラス確率\n",
    "from keras.preprocessing.image import img_to_array, load_img\n",
    "from keras.models import load_model\n",
    "import numpy as np\n",
    "import glob\n",
    "\n",
    "# テストする画像が入っているディレクトリ\n",
    "img_path = './data/circle/'\n",
    "\n",
    "img_list = glob.glob(img_path + '*')\n",
    "size = (64, 64, 1)\n",
    "\n",
    "for index, i in enumerate(img_list):\n",
    "    # 画像をサイズを変えて読み込み、配列化\n",
    "    test_img = img_to_array(load_img(i, grayscale=True, target_size=size))\n",
    "    # 0~1の範囲にする\n",
    "    test_img = test_img / 255\n",
    "    # 4次元配列に\n",
    "    test_img = test_img[np.newaxis, ...]\n",
    "    # 予測\n",
    "    pre = model.predict(test_img)\n",
    "    #if np.max(pre[0]) == pre[0, 0]:\n",
    "     #   print(f'{img_list[index]} -> {pre} は circle')\n",
    "    if np.max(pre[0]) == pre[0, 1]:\n",
    "        print(f'{img_list[index]} -> {pre} は other')\n",
    "        "
   ]
  },
  {
   "cell_type": "code",
   "execution_count": 11,
   "metadata": {},
   "outputs": [],
   "source": [
    "#circleに対して、各画像のクラス確率\n",
    "from keras.preprocessing.image import img_to_array, load_img\n",
    "from keras.models import load_model\n",
    "import numpy as np\n",
    "import glob\n",
    "\n",
    "# テストする画像が入っているディレクトリ\n",
    "img_path = './data/other/'\n",
    "\n",
    "img_list = glob.glob(img_path + '*')\n",
    "size = (64, 64, 1)\n",
    "\n",
    "for index, i in enumerate(img_list):\n",
    "    # 画像をサイズを変えて読み込み、配列化\n",
    "    test_img = img_to_array(load_img(i, grayscale=True, target_size=size))\n",
    "    # 0~1の範囲にする\n",
    "    test_img = test_img / 255\n",
    "    # 4次元配列に\n",
    "    test_img = test_img[np.newaxis, ...]\n",
    "    # 予測\n",
    "    pre = model.predict(test_img)\n",
    "    if np.max(pre[0]) == pre[0, 0]:\n",
    "        print(f'{img_list[index]} -> {pre} は circle')\n",
    "        #if np.max(pre[0]) == pre[0, 1]:\n",
    "         #   print(f'{img_list[index]} -> {pre} は other')"
   ]
  },
  {
   "cell_type": "code",
   "execution_count": 26,
   "metadata": {},
   "outputs": [],
   "source": [
    "#save model\n",
    "model_layer2channel2_json = model.to_json()\n",
    "open(\"model_architecture.json\", mode='w').write(model_layer2channel2_json)\n",
    "\n",
    "#save weight\n",
    "model.save_weights(\"layer2channel2_weights.hdf5\")"
   ]
  },
  {
   "cell_type": "code",
   "execution_count": 27,
   "metadata": {},
   "outputs": [
    {
     "data": {
      "text/plain": [
       "[<tf.Tensor 'conv2d_1/BiasAdd:0' shape=(?, 64, 64, 6) dtype=float32>,\n",
       " <tf.Tensor 'activation_1/Relu:0' shape=(?, 64, 64, 6) dtype=float32>,\n",
       " <tf.Tensor 'max_pooling2d_1/MaxPool:0' shape=(?, 32, 32, 6) dtype=float32>,\n",
       " <tf.Tensor 'flatten_1/Reshape:0' shape=(?, ?) dtype=float32>,\n",
       " <tf.Tensor 'dense_1/BiasAdd:0' shape=(?, 5) dtype=float32>,\n",
       " <tf.Tensor 'activation_2/Softmax:0' shape=(?, 5) dtype=float32>]"
      ]
     },
     "execution_count": 27,
     "metadata": {},
     "output_type": "execute_result"
    }
   ],
   "source": [
    "#出力する中間層を指定\n",
    "layer_outputs = [layer.output for layer in model.layers[0:6]]\n",
    "layer_outputs"
   ]
  },
  {
   "cell_type": "code",
   "execution_count": 28,
   "metadata": {},
   "outputs": [
    {
     "name": "stdout",
     "output_type": "stream",
     "text": [
      "_________________________________________________________________\n",
      "Layer (type)                 Output Shape              Param #   \n",
      "=================================================================\n",
      "conv2d_1_input (InputLayer)  (None, 64, 64, 1)         0         \n",
      "_________________________________________________________________\n",
      "conv2d_1 (Conv2D)            (None, 64, 64, 6)         60        \n",
      "_________________________________________________________________\n",
      "activation_1 (Activation)    (None, 64, 64, 6)         0         \n",
      "_________________________________________________________________\n",
      "max_pooling2d_1 (MaxPooling2 (None, 32, 32, 6)         0         \n",
      "_________________________________________________________________\n",
      "flatten_1 (Flatten)          (None, 6144)              0         \n",
      "_________________________________________________________________\n",
      "dense_1 (Dense)              (None, 5)                 30725     \n",
      "_________________________________________________________________\n",
      "activation_2 (Activation)    (None, 5)                 0         \n",
      "=================================================================\n",
      "Total params: 30,785\n",
      "Trainable params: 30,785\n",
      "Non-trainable params: 0\n",
      "_________________________________________________________________\n"
     ]
    }
   ],
   "source": [
    "#中間層を出力するモデルを作成\n",
    "activation_model = Model(inputs=model.input, outputs=layer_outputs)\n",
    "activation_model.summary()"
   ]
  },
  {
   "cell_type": "code",
   "execution_count": 29,
   "metadata": {},
   "outputs": [
    {
     "data": {
      "text/plain": [
       "array([[[[ 1.4520433 , -1.7984333 , -0.17762192,  0.23827386,\n",
       "           1.3789892 , -1.6807998 ]],\n",
       "\n",
       "        [[-4.9013715 ,  2.4281492 , -1.5008259 ,  0.31323677,\n",
       "          -2.5138817 ,  0.09674756]],\n",
       "\n",
       "        [[ 1.2563396 , -4.260966  ,  1.7553277 ,  0.3104751 ,\n",
       "          -1.3341138 ,  1.2277777 ]]],\n",
       "\n",
       "\n",
       "       [[[ 3.1680157 , -1.5126851 ,  0.81130147,  0.3748686 ,\n",
       "           0.42790747,  1.8837242 ]],\n",
       "\n",
       "        [[ 0.28694522,  1.2171694 ,  0.9675098 ,  0.3275883 ,\n",
       "          -3.1844072 , -1.0533499 ]],\n",
       "\n",
       "        [[-1.7443802 , -3.9527402 , -1.8175784 ,  0.33323002,\n",
       "          -0.5881684 , -0.8915564 ]]],\n",
       "\n",
       "\n",
       "       [[[ 0.5158498 ,  0.28897068,  0.04548761, -0.28292236,\n",
       "           1.8469216 , -0.43846464]],\n",
       "\n",
       "        [[ 0.86567765,  3.9743721 , -1.0710623 ,  0.01265997,\n",
       "           3.1975532 ,  1.0322125 ]],\n",
       "\n",
       "        [[-3.483968  ,  0.5030772 ,  0.96241623, -0.14022814,\n",
       "          -3.875754  , -0.3336717 ]]]], dtype=float32)"
      ]
     },
     "execution_count": 29,
     "metadata": {},
     "output_type": "execute_result"
    }
   ],
   "source": [
    "weights = model.get_layer(\"conv2d_1\").get_weights()[0]\n",
    "weights.shape\n",
    "weights"
   ]
  },
  {
   "cell_type": "code",
   "execution_count": 30,
   "metadata": {},
   "outputs": [
    {
     "data": {
      "image/png": "[encoded data removed]",
      "text/plain": [
       "<Figure size 432x288 with 6 Axes>"
      ]
     },
     "metadata": {},
     "output_type": "display_data"
    }
   ],
   "source": [
    "def plot_conv_weights(filters):\n",
    "    filter_num = filters.shape[3]\n",
    "    \n",
    "    for i in range(filter_num):\n",
    "        plt.subplot(filter_num/6 + 1, 4, i+1)\n",
    "        plt.imshow(filters[:,:,0,i], cmap=\"gray\")\n",
    "        plt.xticks([])\n",
    "        plt.yticks([])\n",
    "        \n",
    "plot_conv_weights(model.layers[0].get_weights()[0])"
   ]
  },
  {
   "cell_type": "code",
   "execution_count": 31,
   "metadata": {},
   "outputs": [
    {
     "ename": "IndexError",
     "evalue": "list index out of range",
     "output_type": "error",
     "traceback": [
      "\u001b[0;31m---------------------------------------------------------------------------\u001b[0m",
      "\u001b[0;31mIndexError\u001b[0m                                Traceback (most recent call last)",
      "\u001b[0;32m<ipython-input-31-a7f78dbef35c>\u001b[0m in \u001b[0;36m<module>\u001b[0;34m\u001b[0m\n\u001b[1;32m      8\u001b[0m         \u001b[0mplt\u001b[0m\u001b[0;34m.\u001b[0m\u001b[0myticks\u001b[0m\u001b[0;34m(\u001b[0m\u001b[0;34m[\u001b[0m\u001b[0;34m]\u001b[0m\u001b[0;34m)\u001b[0m\u001b[0;34m\u001b[0m\u001b[0;34m\u001b[0m\u001b[0m\n\u001b[1;32m      9\u001b[0m \u001b[0;34m\u001b[0m\u001b[0m\n\u001b[0;32m---> 10\u001b[0;31m \u001b[0mplot_conv_weights\u001b[0m\u001b[0;34m(\u001b[0m\u001b[0mmodel\u001b[0m\u001b[0;34m.\u001b[0m\u001b[0mlayers\u001b[0m\u001b[0;34m[\u001b[0m\u001b[0;36m3\u001b[0m\u001b[0;34m]\u001b[0m\u001b[0;34m.\u001b[0m\u001b[0mget_weights\u001b[0m\u001b[0;34m(\u001b[0m\u001b[0;34m)\u001b[0m\u001b[0;34m[\u001b[0m\u001b[0;36m0\u001b[0m\u001b[0;34m]\u001b[0m\u001b[0;34m)\u001b[0m\u001b[0;34m\u001b[0m\u001b[0;34m\u001b[0m\u001b[0m\n\u001b[0m",
      "\u001b[0;31mIndexError\u001b[0m: list index out of range"
     ]
    }
   ],
   "source": [
    "def plot_conv_weights(filters):\n",
    "    filter_num = filters.shape[3]\n",
    "    \n",
    "    for i in range(filter_num):\n",
    "        plt.subplot(filter_num/6 + 1, 4, i+1)\n",
    "        plt.imshow(filters[:,:,0,i], cmap=\"gray\")\n",
    "        plt.xticks([])\n",
    "        plt.yticks([])\n",
    "        \n",
    "plot_conv_weights(model.layers[3].get_weights()[0])"
   ]
  },
  {
   "cell_type": "code",
   "execution_count": 32,
   "metadata": {},
   "outputs": [
    {
     "name": "stdout",
     "output_type": "stream",
     "text": [
      "(1, 64, 64, 1)\n",
      "(1, 64, 64, 6)\n"
     ]
    },
    {
     "data": {
      "image/png": "[encoded data removed]",
      "text/plain": [
       "<Figure size 432x288 with 1 Axes>"
      ]
     },
     "metadata": {},
     "output_type": "display_data"
    },
    {
     "data": {
      "image/png": "[encoded data removed]",
      "text/plain": [
       "<Figure size 432x288 with 1 Axes>"
      ]
     },
     "metadata": {},
     "output_type": "display_data"
    },
    {
     "data": {
      "image/png": "[encoded data removed]",
      "text/plain": [
       "<Figure size 432x288 with 1 Axes>"
      ]
     },
     "metadata": {},
     "output_type": "display_data"
    },
    {
     "data": {
      "image/png": "[encoded data removed]",
      "text/plain": [
       "<Figure size 432x288 with 1 Axes>"
      ]
     },
     "metadata": {},
     "output_type": "display_data"
    },
    {
     "data": {
      "image/png": "[encoded data removed]",
      "text/plain": [
       "<Figure size 432x288 with 1 Axes>"
      ]
     },
     "metadata": {},
     "output_type": "display_data"
    },
    {
     "data": {
      "image/png": "[encoded data removed]",
      "text/plain": [
       "<Figure size 432x288 with 1 Axes>"
      ]
     },
     "metadata": {},
     "output_type": "display_data"
    }
   ],
   "source": [
    "#円の特徴マップ\n",
    "#check input image\n",
    "img_path = './data/circle/circler04_3103.jpg'\n",
    "#img_list = glob.glob(img_path + '*')\n",
    "size = (64, 64, 1)\n",
    "img = load_img(img_path, grayscale = True, target_size=size)\n",
    "x = img_to_array(img)\n",
    "#x = np.expand_dims(x, axis=0)\n",
    "img_tensor = x/255\n",
    "img_tensor = img_tensor[np.newaxis, ...]\n",
    "print(img_tensor.shape)\n",
    "#plt.imshow(img_tensor[0])\n",
    "#plt.show()\n",
    "\n",
    "activations = activation_model.predict(img_tensor)\n",
    "#print(len(activations))\n",
    "#print(activations)\n",
    "\n",
    "first_layer_activation = activations[1]\n",
    "print(first_layer_activation.shape)\n",
    "\n",
    "k = 0\n",
    "for i in range(6):\n",
    "    plt.imshow(first_layer_activation[0,:,:,i],cmap=\"gray\")\n",
    "    plt.xticks([])\n",
    "    plt.yticks([])\n",
    "    k = k + 1\n",
    "    plt.show()"
   ]
  },
  {
   "cell_type": "code",
   "execution_count": 23,
   "metadata": {},
   "outputs": [
    {
     "name": "stdout",
     "output_type": "stream",
     "text": [
      "(1, 64, 64, 1)\n"
     ]
    },
    {
     "ename": "NameError",
     "evalue": "name 'activation_model' is not defined",
     "output_type": "error",
     "traceback": [
      "\u001b[0;31m---------------------------------------------------------------------------\u001b[0m",
      "\u001b[0;31mNameError\u001b[0m                                 Traceback (most recent call last)",
      "\u001b[0;32m<ipython-input-23-4225ff0e205a>\u001b[0m in \u001b[0;36m<module>\u001b[0;34m\u001b[0m\n\u001b[1;32m     13\u001b[0m \u001b[0;31m#plt.show()\u001b[0m\u001b[0;34m\u001b[0m\u001b[0;34m\u001b[0m\u001b[0;34m\u001b[0m\u001b[0m\n\u001b[1;32m     14\u001b[0m \u001b[0;34m\u001b[0m\u001b[0m\n\u001b[0;32m---> 15\u001b[0;31m \u001b[0mactivations\u001b[0m \u001b[0;34m=\u001b[0m \u001b[0mactivation_model\u001b[0m\u001b[0;34m.\u001b[0m\u001b[0mpredict\u001b[0m\u001b[0;34m(\u001b[0m\u001b[0mimg_tensor\u001b[0m\u001b[0;34m)\u001b[0m\u001b[0;34m\u001b[0m\u001b[0;34m\u001b[0m\u001b[0m\n\u001b[0m\u001b[1;32m     16\u001b[0m \u001b[0;31m#print(len(activations))\u001b[0m\u001b[0;34m\u001b[0m\u001b[0;34m\u001b[0m\u001b[0;34m\u001b[0m\u001b[0m\n\u001b[1;32m     17\u001b[0m \u001b[0;31m#print(activations)\u001b[0m\u001b[0;34m\u001b[0m\u001b[0;34m\u001b[0m\u001b[0;34m\u001b[0m\u001b[0m\n",
      "\u001b[0;31mNameError\u001b[0m: name 'activation_model' is not defined"
     ]
    }
   ],
   "source": [
    "#円の特徴マップ\n",
    "#check input image\n",
    "img_path = './data/circle/circler12_1105.jpg'\n",
    "#img_list = glob.glob(img_path + '*')\n",
    "size = (64, 64, 1)\n",
    "img = load_img(img_path, grayscale = True, target_size=size)\n",
    "x = img_to_array(img)\n",
    "#x = np.expand_dims(x, axis=0)\n",
    "img_tensor = x/255\n",
    "img_tensor = img_tensor[np.newaxis, ...]\n",
    "print(img_tensor.shape)\n",
    "#plt.imshow(img_tensor[0])\n",
    "#plt.show()\n",
    "\n",
    "activations = activation_model.predict(img_tensor)\n",
    "#print(len(activations))\n",
    "#print(activations)\n",
    "\n",
    "first_layer_activation = activations[1]\n",
    "print(first_layer_activation.shape)\n",
    "\n",
    "k = 0\n",
    "for i in range(4):\n",
    "    plt.imshow(first_layer_activation[0,:,:,i],cmap=\"gray\")\n",
    "    plt.xticks([])\n",
    "    plt.yticks([])\n",
    "    plt.savefig('data/l2c2/circle/secondcircle12_1105_%d.jpg'%k)\n",
    "    k = k + 1\n",
    "    plt.show()"
   ]
  },
  {
   "cell_type": "code",
   "execution_count": 24,
   "metadata": {},
   "outputs": [
    {
     "name": "stdout",
     "output_type": "stream",
     "text": [
      "(1, 64, 64, 1)\n"
     ]
    },
    {
     "ename": "NameError",
     "evalue": "name 'activation_model' is not defined",
     "output_type": "error",
     "traceback": [
      "\u001b[0;31m---------------------------------------------------------------------------\u001b[0m",
      "\u001b[0;31mNameError\u001b[0m                                 Traceback (most recent call last)",
      "\u001b[0;32m<ipython-input-24-4e0baff4330b>\u001b[0m in \u001b[0;36m<module>\u001b[0;34m\u001b[0m\n\u001b[1;32m     13\u001b[0m \u001b[0;31m#plt.show()\u001b[0m\u001b[0;34m\u001b[0m\u001b[0;34m\u001b[0m\u001b[0;34m\u001b[0m\u001b[0m\n\u001b[1;32m     14\u001b[0m \u001b[0;34m\u001b[0m\u001b[0m\n\u001b[0;32m---> 15\u001b[0;31m \u001b[0mactivations\u001b[0m \u001b[0;34m=\u001b[0m \u001b[0mactivation_model\u001b[0m\u001b[0;34m.\u001b[0m\u001b[0mpredict\u001b[0m\u001b[0;34m(\u001b[0m\u001b[0mimg_tensor\u001b[0m\u001b[0;34m)\u001b[0m\u001b[0;34m\u001b[0m\u001b[0;34m\u001b[0m\u001b[0m\n\u001b[0m\u001b[1;32m     16\u001b[0m \u001b[0;31m#print(len(activations))\u001b[0m\u001b[0;34m\u001b[0m\u001b[0;34m\u001b[0m\u001b[0;34m\u001b[0m\u001b[0m\n\u001b[1;32m     17\u001b[0m \u001b[0;31m#print(activations)\u001b[0m\u001b[0;34m\u001b[0m\u001b[0;34m\u001b[0m\u001b[0;34m\u001b[0m\u001b[0m\n",
      "\u001b[0;31mNameError\u001b[0m: name 'activation_model' is not defined"
     ]
    }
   ],
   "source": [
    "#三角形の特徴マップ\n",
    "#check input image\n",
    "img_path = './data/triangle/triangle12_1105.jpg'\n",
    "#img_list = glob.glob(img_path + '*')\n",
    "size = (64, 64, 1)\n",
    "img = load_img(img_path, grayscale = True, target_size=size)\n",
    "x = img_to_array(img)\n",
    "#x = np.expand_dims(x, axis=0)\n",
    "img_tensor = x/255\n",
    "img_tensor = img_tensor[np.newaxis, ...]\n",
    "print(img_tensor.shape)\n",
    "#plt.imshow(img_tensor[0])\n",
    "#plt.show()\n",
    "\n",
    "activations = activation_model.predict(img_tensor)\n",
    "#print(len(activations))\n",
    "#print(activations)\n",
    "\n",
    "first_layer_activation = activations[1]\n",
    "print(first_layer_activation.shape)\n",
    "\n",
    "k = 0\n",
    "for i in range(6):\n",
    "    plt.imshow(first_layer_activation[0,:,:,i],cmap=\"gray\")\n",
    "    plt.xticks([])\n",
    "    plt.yticks([])\n",
    "    plt.savefig('data/l2c2/triangle/triangle12_1105_%d.jpg'%k)\n",
    "    k = k + 1\n",
    "    plt.show()"
   ]
  },
  {
   "cell_type": "code",
   "execution_count": 18,
   "metadata": {},
   "outputs": [
    {
     "name": "stdout",
     "output_type": "stream",
     "text": [
      "(1, 64, 64, 1)\n",
      "(1, 32, 32, 4)\n"
     ]
    },
    {
     "data": {
      "image/png": "[encoded data removed]",
      "text/plain": [
       "<Figure size 432x288 with 1 Axes>"
      ]
     },
     "metadata": {},
     "output_type": "display_data"
    },
    {
     "data": {
      "image/png": "[encoded data removed]",
      "text/plain": [
       "<Figure size 432x288 with 1 Axes>"
      ]
     },
     "metadata": {},
     "output_type": "display_data"
    },
    {
     "data": {
      "image/png": "[encoded data removed]",
      "text/plain": [
       "<Figure size 432x288 with 1 Axes>"
      ]
     },
     "metadata": {},
     "output_type": "display_data"
    },
    {
     "data": {
      "image/png": "[encoded data removed]",
      "text/plain": [
       "<Figure size 432x288 with 1 Axes>"
      ]
     },
     "metadata": {},
     "output_type": "display_data"
    }
   ],
   "source": [
    "#三角形の特徴マップ\n",
    "#check input image\n",
    "img_path = './data/triangle/triangle12_1105.jpg'\n",
    "#img_list = glob.glob(img_path + '*')\n",
    "size = (64, 64, 1)\n",
    "img = load_img(img_path, grayscale = True, target_size=size)\n",
    "x = img_to_array(img)\n",
    "#x = np.expand_dims(x, axis=0)\n",
    "img_tensor = x/255\n",
    "img_tensor = img_tensor[np.newaxis, ...]\n",
    "print(img_tensor.shape)\n",
    "#plt.imshow(img_tensor[0])\n",
    "#plt.show()\n",
    "\n",
    "activations = activation_model.predict(img_tensor)\n",
    "#print(len(activations))\n",
    "#print(activations)\n",
    "\n",
    "first_layer_activation = activations[4]\n",
    "print(first_layer_activation.shape)\n",
    "\n",
    "k = 0\n",
    "for i in range(4):\n",
    "    plt.imshow(first_layer_activation[0,:,:,i],cmap=\"gray\")\n",
    "    plt.xticks([])\n",
    "    plt.yticks([])\n",
    "    plt.savefig('data/l2c2/triangle/secondtriangle12_1105_%d.jpg'%k)\n",
    "    k = k + 1\n",
    "    plt.show()"
   ]
  },
  {
   "cell_type": "code",
   "execution_count": 19,
   "metadata": {},
   "outputs": [
    {
     "name": "stdout",
     "output_type": "stream",
     "text": [
      "(1, 64, 64, 1)\n",
      "(1, 64, 64, 2)\n"
     ]
    },
    {
     "data": {
      "image/png": "[encoded data removed]",
      "text/plain": [
       "<Figure size 432x288 with 1 Axes>"
      ]
     },
     "metadata": {},
     "output_type": "display_data"
    },
    {
     "data": {
      "image/png": "[encoded data removed]",
      "text/plain": [
       "<Figure size 432x288 with 1 Axes>"
      ]
     },
     "metadata": {},
     "output_type": "display_data"
    }
   ],
   "source": [
    "#四角形の特徴マップ\n",
    "#check input image\n",
    "img_path = './data/rectangle/rectangle12_1105.jpg'\n",
    "#img_list = glob.glob(img_path + '*')\n",
    "size = (64, 64, 1)\n",
    "img = load_img(img_path, grayscale = True, target_size=size)\n",
    "x = img_to_array(img)\n",
    "#x = np.expand_dims(x, axis=0)\n",
    "img_tensor = x/255\n",
    "img_tensor = img_tensor[np.newaxis, ...]\n",
    "print(img_tensor.shape)\n",
    "#plt.imshow(img_tensor[0])\n",
    "#plt.show()\n",
    "\n",
    "activations = activation_model.predict(img_tensor)\n",
    "#print(len(activations))\n",
    "#print(activations)\n",
    "\n",
    "first_layer_activation = activations[1]\n",
    "print(first_layer_activation.shape)\n",
    "\n",
    "k = 0\n",
    "for i in range(2):\n",
    "    plt.imshow(first_layer_activation[0,:,:,i],cmap=\"gray\")\n",
    "    plt.xticks([])\n",
    "    plt.yticks([])\n",
    "    plt.savefig('data/l2c2/rectangle/rectangle12_1105_%d.jpg'%k)\n",
    "    k = k + 1\n",
    "    plt.show()"
   ]
  },
  {
   "cell_type": "code",
   "execution_count": 21,
   "metadata": {},
   "outputs": [
    {
     "name": "stdout",
     "output_type": "stream",
     "text": [
      "(1, 64, 64, 1)\n",
      "(1, 32, 32, 4)\n"
     ]
    },
    {
     "data": {
      "image/png": "[encoded data removed]",
      "text/plain": [
       "<Figure size 432x288 with 1 Axes>"
      ]
     },
     "metadata": {},
     "output_type": "display_data"
    },
    {
     "data": {
      "image/png": "[encoded data removed]",
      "text/plain": [
       "<Figure size 432x288 with 1 Axes>"
      ]
     },
     "metadata": {},
     "output_type": "display_data"
    },
    {
     "data": {
      "image/png": "[encoded data removed]",
      "text/plain": [
       "<Figure size 432x288 with 1 Axes>"
      ]
     },
     "metadata": {},
     "output_type": "display_data"
    },
    {
     "data": {
      "image/png": "[encoded data removed]",
      "text/plain": [
       "<Figure size 432x288 with 1 Axes>"
      ]
     },
     "metadata": {},
     "output_type": "display_data"
    }
   ],
   "source": [
    "#四角形の特徴マップ\n",
    "#check input image\n",
    "img_path = './data/rectangle/rectangle12_1105.jpg'\n",
    "#img_list = glob.glob(img_path + '*')\n",
    "size = (64, 64, 1)\n",
    "img = load_img(img_path, grayscale = True, target_size=size)\n",
    "x = img_to_array(img)\n",
    "#x = np.expand_dims(x, axis=0)\n",
    "img_tensor = x/255\n",
    "img_tensor = img_tensor[np.newaxis, ...]\n",
    "print(img_tensor.shape)\n",
    "#plt.imshow(img_tensor[0])\n",
    "#plt.show()\n",
    "\n",
    "activations = activation_model.predict(img_tensor)\n",
    "#print(len(activations))\n",
    "#print(activations)\n",
    "\n",
    "first_layer_activation = activations[4]\n",
    "print(first_layer_activation.shape)\n",
    "\n",
    "k = 0\n",
    "for i in range(4):\n",
    "    plt.imshow(first_layer_activation[0,:,:,i],cmap=\"gray\")\n",
    "    plt.xticks([])\n",
    "    plt.yticks([])\n",
    "    plt.savefig('data/l2c2/rectangle/secondrectangle12_1105_%d.jpg'%k)\n",
    "    k = k + 1\n",
    "    plt.show()"
   ]
  },
  {
   "cell_type": "code",
   "execution_count": 22,
   "metadata": {},
   "outputs": [
    {
     "name": "stdout",
     "output_type": "stream",
     "text": [
      "(1, 64, 64, 1)\n",
      "(1, 64, 64, 2)\n"
     ]
    },
    {
     "data": {
      "image/png": "[encoded data removed]",
      "text/plain": [
       "<Figure size 432x288 with 1 Axes>"
      ]
     },
     "metadata": {},
     "output_type": "display_data"
    },
    {
     "data": {
      "image/png": "[encoded data removed]",
      "text/plain": [
       "<Figure size 432x288 with 1 Axes>"
      ]
     },
     "metadata": {},
     "output_type": "display_data"
    }
   ],
   "source": [
    "#五角形の特徴マップ\n",
    "#check input image\n",
    "img_path = './data/pentagon/pentagon12_1105.jpg'\n",
    "#img_list = glob.glob(img_path + '*')\n",
    "size = (64, 64, 1)\n",
    "img = load_img(img_path, grayscale = True, target_size=size)\n",
    "x = img_to_array(img)\n",
    "#x = np.expand_dims(x, axis=0)\n",
    "img_tensor = x/255\n",
    "img_tensor = img_tensor[np.newaxis, ...]\n",
    "print(img_tensor.shape)\n",
    "#plt.imshow(img_tensor[0])\n",
    "#plt.show()\n",
    "\n",
    "activations = activation_model.predict(img_tensor)\n",
    "#print(len(activations))\n",
    "#print(activations)\n",
    "\n",
    "first_layer_activation = activations[1]\n",
    "print(first_layer_activation.shape)\n",
    "\n",
    "k = 0\n",
    "for i in range(2):\n",
    "    plt.imshow(first_layer_activation[0,:,:,i],cmap=\"gray\")\n",
    "    plt.xticks([])\n",
    "    plt.yticks([])\n",
    "    plt.savefig('data/l2c2/pentagon/pentagon12_1105_%d.jpg'%k)\n",
    "    k = k + 1\n",
    "    plt.show()"
   ]
  },
  {
   "cell_type": "code",
   "execution_count": 23,
   "metadata": {},
   "outputs": [
    {
     "name": "stdout",
     "output_type": "stream",
     "text": [
      "(1, 64, 64, 1)\n",
      "(1, 32, 32, 4)\n"
     ]
    },
    {
     "data": {
      "image/png": "[encoded data removed]",
      "text/plain": [
       "<Figure size 432x288 with 1 Axes>"
      ]
     },
     "metadata": {},
     "output_type": "display_data"
    },
    {
     "data": {
      "image/png": "[encoded data removed]",
      "text/plain": [
       "<Figure size 432x288 with 1 Axes>"
      ]
     },
     "metadata": {},
     "output_type": "display_data"
    },
    {
     "data": {
      "image/png": "[encoded data removed]",
      "text/plain": [
       "<Figure size 432x288 with 1 Axes>"
      ]
     },
     "metadata": {},
     "output_type": "display_data"
    },
    {
     "data": {
      "image/png": "[encoded data removed]",
      "text/plain": [
       "<Figure size 432x288 with 1 Axes>"
      ]
     },
     "metadata": {},
     "output_type": "display_data"
    }
   ],
   "source": [
    "#五角形の特徴マップ\n",
    "#check input image\n",
    "img_path = './data/pentagon/pentagon12_1105.jpg'\n",
    "#img_list = glob.glob(img_path + '*')\n",
    "size = (64, 64, 1)\n",
    "img = load_img(img_path, grayscale = True, target_size=size)\n",
    "x = img_to_array(img)\n",
    "#x = np.expand_dims(x, axis=0)\n",
    "img_tensor = x/255\n",
    "img_tensor = img_tensor[np.newaxis, ...]\n",
    "print(img_tensor.shape)\n",
    "#plt.imshow(img_tensor[0])\n",
    "#plt.show()\n",
    "\n",
    "activations = activation_model.predict(img_tensor)\n",
    "#print(len(activations))\n",
    "#print(activations)\n",
    "\n",
    "first_layer_activation = activations[4]\n",
    "print(first_layer_activation.shape)\n",
    "\n",
    "k = 0\n",
    "for i in range(4):\n",
    "    plt.imshow(first_layer_activation[0,:,:,i],cmap=\"gray\")\n",
    "    plt.xticks([])\n",
    "    plt.yticks([])\n",
    "    plt.savefig('data/l2c2/pentagon/secondpentagon12_1105_%d.jpg'%k)\n",
    "    k = k + 1\n",
    "    plt.show()"
   ]
  },
  {
   "cell_type": "code",
   "execution_count": 24,
   "metadata": {},
   "outputs": [
    {
     "name": "stdout",
     "output_type": "stream",
     "text": [
      "(1, 64, 64, 1)\n",
      "(1, 64, 64, 2)\n"
     ]
    },
    {
     "data": {
      "image/png": "[encoded data removed]",
      "text/plain": [
       "<Figure size 432x288 with 1 Axes>"
      ]
     },
     "metadata": {},
     "output_type": "display_data"
    },
    {
     "data": {
      "image/png": "[encoded data removed]",
      "text/plain": [
       "<Figure size 432x288 with 1 Axes>"
      ]
     },
     "metadata": {},
     "output_type": "display_data"
    }
   ],
   "source": [
    "#六角形の特徴マップ\n",
    "#check input image\n",
    "img_path = './data/hexagon/hexagon12_1105.jpg'\n",
    "#img_list = glob.glob(img_path + '*')\n",
    "size = (64, 64, 1)\n",
    "img = load_img(img_path, grayscale = True, target_size=size)\n",
    "x = img_to_array(img)\n",
    "#x = np.expand_dims(x, axis=0)\n",
    "img_tensor = x/255\n",
    "img_tensor = img_tensor[np.newaxis, ...]\n",
    "print(img_tensor.shape)\n",
    "#plt.imshow(img_tensor[0])\n",
    "#plt.show()\n",
    "\n",
    "activations = activation_model.predict(img_tensor)\n",
    "#print(len(activations))\n",
    "#print(activations)\n",
    "\n",
    "first_layer_activation = activations[1]\n",
    "print(first_layer_activation.shape)\n",
    "\n",
    "k = 0\n",
    "for i in range(2):\n",
    "    plt.imshow(first_layer_activation[0,:,:,i],cmap=\"gray\")\n",
    "    plt.xticks([])\n",
    "    plt.yticks([])\n",
    "    plt.savefig('data/l2c2/hexagon/hexagon12_1105_%d.jpg'%k)\n",
    "    k = k + 1\n",
    "    plt.show()"
   ]
  },
  {
   "cell_type": "code",
   "execution_count": 41,
   "metadata": {},
   "outputs": [
    {
     "name": "stdout",
     "output_type": "stream",
     "text": [
      "(1, 64, 64, 1)\n",
      "(1, 64, 64, 6)\n"
     ]
    },
    {
     "data": {
      "image/png": "[encoded data removed]",
      "text/plain": [
       "<Figure size 432x288 with 1 Axes>"
      ]
     },
     "metadata": {},
     "output_type": "display_data"
    },
    {
     "data": {
      "image/png": "[encoded data removed]",
      "text/plain": [
       "<Figure size 432x288 with 1 Axes>"
      ]
     },
     "metadata": {},
     "output_type": "display_data"
    },
    {
     "data": {
      "image/png": "[encoded data removed]",
      "text/plain": [
       "<Figure size 432x288 with 1 Axes>"
      ]
     },
     "metadata": {},
     "output_type": "display_data"
    },
    {
     "data": {
      "image/png": "[encoded data removed]",
      "text/plain": [
       "<Figure size 432x288 with 1 Axes>"
      ]
     },
     "metadata": {},
     "output_type": "display_data"
    },
    {
     "data": {
      "image/png": "[encoded data removed]",
      "text/plain": [
       "<Figure size 432x288 with 1 Axes>"
      ]
     },
     "metadata": {},
     "output_type": "display_data"
    },
    {
     "data": {
      "image/png": "[encoded data removed]",
      "text/plain": [
       "<Figure size 432x288 with 1 Axes>"
      ]
     },
     "metadata": {},
     "output_type": "display_data"
    }
   ],
   "source": [
    "#六角形の特徴マップ\n",
    "#check input image\n",
    "img_path = './data/hexagon/hexagon04_3103.jpg'\n",
    "#img_list = glob.glob(img_path + '*')\n",
    "size = (64, 64, 1)\n",
    "img = load_img(img_path, grayscale = True, target_size=size)\n",
    "x = img_to_array(img)\n",
    "#x = np.expand_dims(x, axis=0)\n",
    "img_tensor = x/255\n",
    "img_tensor = img_tensor[np.newaxis, ...]\n",
    "print(img_tensor.shape)\n",
    "#plt.imshow(img_tensor[0])\n",
    "#plt.show()\n",
    "\n",
    "activations = activation_model.predict(img_tensor)\n",
    "#print(len(activations))\n",
    "#print(activations)\n",
    "\n",
    "first_layer_activation = activations[1]\n",
    "print(first_layer_activation.shape)\n",
    "\n",
    "k = 0\n",
    "for i in range(6):\n",
    "    plt.imshow(first_layer_activation[0,:,:,i],cmap=\"gray\")\n",
    "    plt.xticks([])\n",
    "    plt.yticks([])\n",
    "    k = k + 1\n",
    "    plt.show()"
   ]
  },
  {
   "cell_type": "code",
   "execution_count": null,
   "metadata": {},
   "outputs": [],
   "source": []
  }
 ],
 "metadata": {
  "kernelspec": {
   "display_name": "Python 3",
   "language": "python",
   "name": "python3"
  },
  "language_info": {
   "codemirror_mode": {
    "name": "ipython",
    "version": 3
   },
   "file_extension": ".py",
   "mimetype": "text/x-python",
   "name": "python",
   "nbconvert_exporter": "python",
   "pygments_lexer": "ipython3",
   "version": "3.7.3"
  }
 },
 "nbformat": 4,
 "nbformat_minor": 2
}
