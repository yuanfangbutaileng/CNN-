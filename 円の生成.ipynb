{
 "cells": [
  {
   "cell_type": "code",
   "execution_count": 1,
   "metadata": {},
   "outputs": [
    {
     "ename": "SyntaxError",
     "evalue": "invalid syntax (<ipython-input-1-97ec66006779>, line 12)",
     "output_type": "error",
     "traceback": [
      "\u001b[0;36m  File \u001b[0;32m\"<ipython-input-1-97ec66006779>\"\u001b[0;36m, line \u001b[0;32m12\u001b[0m\n\u001b[0;31m    draw.ellipse((0+i, 0+, 8+32, 8+j), fill=255)\u001b[0m\n\u001b[0m                         ^\u001b[0m\n\u001b[0;31mSyntaxError\u001b[0m\u001b[0;31m:\u001b[0m invalid syntax\n"
     ]
    }
   ],
   "source": [
    "from PIL import Image, ImageDraw\n",
    "import matplotlib.pyplot as plt\n",
    "k = 0\n",
    "for j in range(56):\n",
    "    for i in range(56):\n",
    "        image = Image.new(\"L\",(64,64),0)\n",
    "        draw = ImageDraw.Draw(image)\n",
    "        draw.ellipse((0+i, 0+i,8+i, 8+j), fill=255)\n",
    "        image.save('data/circle/circler04_%d.jpg'%k)\n",
    "        k = k + 1 \n",
    "        plt.imshow(image)"
   ]
  },
  {
   "cell_type": "code",
   "execution_count": 4,
   "metadata": {},
   "outputs": [
    {
     "data": {
      "text/plain": [
       "<matplotlib.image.AxesImage at 0x119417780>"
      ]
     },
     "execution_count": 4,
     "metadata": {},
     "output_type": "execute_result"
    },
    {
     "data": {
      "image/png": "[encoded data removed]",
      "text/plain": [
       "<Figure size 432x288 with 1 Axes>"
      ]
     },
     "metadata": {
      "needs_background": "light"
     },
     "output_type": "display_data"
    }
   ],
   "source": [
    "#半径8\n",
    "from PIL import Image, ImageDraw\n",
    "import matplotlib.pyplot as plt\n",
    "image = Image.new(\"L\",(64,64),0)\n",
    "draw = ImageDraw.Draw(image)\n",
    "draw.ellipse((0, 0, 2, 2), fill=255)\n",
    "\n",
    "plt.imshow(image)"
   ]
  },
  {
   "cell_type": "code",
   "execution_count": 3,
   "metadata": {},
   "outputs": [
    {
     "data": {
      "image/png": "[encoded data removed]",
      "text/plain": [
       "<Figure size 432x288 with 1 Axes>"
      ]
     },
     "metadata": {
      "needs_background": "light"
     },
     "output_type": "display_data"
    }
   ],
   "source": [
    "#半径12\n",
    "k = 0\n",
    "for j in range(40):\n",
    "    for i in range(40):\n",
    "        image = Image.new(\"L\",(64,64),0)\n",
    "        draw = ImageDraw.Draw(image)\n",
    "        draw.ellipse((0+i, 0+j, 2, 1), fill=255)\n",
    "        image.save('data/circle/circler12_%d.jpg'%k)\n",
    "        k = k + 1 \n",
    "        plt.imshow(image)"
   ]
  },
  {
   "cell_type": "code",
   "execution_count": 4,
   "metadata": {},
   "outputs": [
    {
     "data": {
      "image/png": "[encoded data removed]",
      "text/plain": [
       "<Figure size 432x288 with 1 Axes>"
      ]
     },
     "metadata": {
      "needs_background": "light"
     },
     "output_type": "display_data"
    }
   ],
   "source": [
    "#半径16\n",
    "k = 0\n",
    "for j in range(32):\n",
    "    for i in range(32):\n",
    "        image = Image.new(\"L\",(64,64),0)\n",
    "        draw = ImageDraw.Draw(image)\n",
    "        draw.ellipse((0+i, 0+j, 32+i, 32+j), fill=255)\n",
    "        image.save('data/circle/circler16_%d.jpg'%k)\n",
    "        k = k + 1 \n",
    "        plt.imshow(image)"
   ]
  },
  {
   "cell_type": "code",
   "execution_count": 5,
   "metadata": {},
   "outputs": [
    {
     "data": {
      "image/png": "[encoded data removed]",
      "text/plain": [
       "<Figure size 432x288 with 1 Axes>"
      ]
     },
     "metadata": {
      "needs_background": "light"
     },
     "output_type": "display_data"
    }
   ],
   "source": [
    "#半径20\n",
    "k = 0\n",
    "for j in range(24):\n",
    "    for i in range(24):\n",
    "        image = Image.new(\"L\",(64,64),0)\n",
    "        draw = ImageDraw.Draw(image)\n",
    "        draw.ellipse((0+i, 0+j, 40+i, 40+j), fill=255)\n",
    "        image.save('data/circle/circler20_%d.jpg'%k)\n",
    "        k = k + 1 \n",
    "        plt.imshow(image)"
   ]
  },
  {
   "cell_type": "code",
   "execution_count": 6,
   "metadata": {},
   "outputs": [
    {
     "data": {
      "image/png": "[encoded data removed]",
      "text/plain": [
       "<Figure size 432x288 with 1 Axes>"
      ]
     },
     "metadata": {
      "needs_background": "light"
     },
     "output_type": "display_data"
    }
   ],
   "source": [
    "#半径24\n",
    "k = 0\n",
    "for j in range(16):\n",
    "    for i in range(16):\n",
    "        image = Image.new(\"L\",(64,64),0)\n",
    "        draw = ImageDraw.Draw(image)\n",
    "        draw.ellipse((0+i, 0+j, 48+i, 48+j), fill=255)\n",
    "        image.save('data/circle/circler24_%d.jpg'%k)\n",
    "        k = k + 1 \n",
    "        plt.imshow(image)"
   ]
  },
  {
   "cell_type": "code",
   "execution_count": 7,
   "metadata": {},
   "outputs": [
    {
     "data": {
      "image/png": "[encoded data removed]",
      "text/plain": [
       "<Figure size 432x288 with 1 Axes>"
      ]
     },
     "metadata": {
      "needs_background": "light"
     },
     "output_type": "display_data"
    }
   ],
   "source": [
    "#半径28\n",
    "k = 0\n",
    "for j in range(8):\n",
    "    for i in range(8):\n",
    "        image = Image.new(\"L\",(64,64),0)\n",
    "        draw = ImageDraw.Draw(image)\n",
    "        draw.ellipse((0+i, 0+j, 56+i, 56+j), fill=255)\n",
    "        image.save('data/circle/circler28_%d.jpg'%k)\n",
    "        k = k + 1 \n",
    "        plt.imshow(image)"
   ]
  }
 ],
 "metadata": {
  "kernelspec": {
   "display_name": "Python 3",
   "language": "python",
   "name": "python3"
  },
  "language_info": {
   "codemirror_mode": {
    "name": "ipython",
    "version": 3
   },
   "file_extension": ".py",
   "mimetype": "text/x-python",
   "name": "python",
   "nbconvert_exporter": "python",
   "pygments_lexer": "ipython3",
   "version": "3.7.3"
  }
 },
 "nbformat": 4,
 "nbformat_minor": 2
}
