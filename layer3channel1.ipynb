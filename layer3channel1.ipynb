{
 "cells": [
  {
   "cell_type": "markdown",
   "metadata": {},
   "source": [
    "# CNN"
   ]
  },
  {
   "cell_type": "code",
   "execution_count": 1,
   "metadata": {
    "scrolled": true
   },
   "outputs": [
    {
     "name": "stderr",
     "output_type": "stream",
     "text": [
      "/home/cuda/.local/lib/python3.6/site-packages/tensorflow/python/framework/dtypes.py:526: FutureWarning: Passing (type, 1) or '1type' as a synonym of type is deprecated; in a future version of numpy, it will be understood as (type, (1,)) / '(1,)type'.\n",
      "  _np_qint8 = np.dtype([(\"qint8\", np.int8, 1)])\n",
      "/home/cuda/.local/lib/python3.6/site-packages/tensorflow/python/framework/dtypes.py:527: FutureWarning: Passing (type, 1) or '1type' as a synonym of type is deprecated; in a future version of numpy, it will be understood as (type, (1,)) / '(1,)type'.\n",
      "  _np_quint8 = np.dtype([(\"quint8\", np.uint8, 1)])\n",
      "/home/cuda/.local/lib/python3.6/site-packages/tensorflow/python/framework/dtypes.py:528: FutureWarning: Passing (type, 1) or '1type' as a synonym of type is deprecated; in a future version of numpy, it will be understood as (type, (1,)) / '(1,)type'.\n",
      "  _np_qint16 = np.dtype([(\"qint16\", np.int16, 1)])\n",
      "/home/cuda/.local/lib/python3.6/site-packages/tensorflow/python/framework/dtypes.py:529: FutureWarning: Passing (type, 1) or '1type' as a synonym of type is deprecated; in a future version of numpy, it will be understood as (type, (1,)) / '(1,)type'.\n",
      "  _np_quint16 = np.dtype([(\"quint16\", np.uint16, 1)])\n",
      "/home/cuda/.local/lib/python3.6/site-packages/tensorflow/python/framework/dtypes.py:530: FutureWarning: Passing (type, 1) or '1type' as a synonym of type is deprecated; in a future version of numpy, it will be understood as (type, (1,)) / '(1,)type'.\n",
      "  _np_qint32 = np.dtype([(\"qint32\", np.int32, 1)])\n",
      "/home/cuda/.local/lib/python3.6/site-packages/tensorflow/python/framework/dtypes.py:535: FutureWarning: Passing (type, 1) or '1type' as a synonym of type is deprecated; in a future version of numpy, it will be understood as (type, (1,)) / '(1,)type'.\n",
      "  np_resource = np.dtype([(\"resource\", np.ubyte, 1)])\n"
     ]
    },
    {
     "data": {
      "text/plain": [
       "[name: \"/device:CPU:0\"\n",
       " device_type: \"CPU\"\n",
       " memory_limit: 268435456\n",
       " locality {\n",
       " }\n",
       " incarnation: 11887363152957058908, name: \"/device:XLA_GPU:0\"\n",
       " device_type: \"XLA_GPU\"\n",
       " memory_limit: 17179869184\n",
       " locality {\n",
       " }\n",
       " incarnation: 1775254773943465033\n",
       " physical_device_desc: \"device: XLA_GPU device\", name: \"/device:XLA_CPU:0\"\n",
       " device_type: \"XLA_CPU\"\n",
       " memory_limit: 17179869184\n",
       " locality {\n",
       " }\n",
       " incarnation: 8343819141293337606\n",
       " physical_device_desc: \"device: XLA_CPU device\", name: \"/device:GPU:0\"\n",
       " device_type: \"GPU\"\n",
       " memory_limit: 3616473088\n",
       " locality {\n",
       "   bus_id: 1\n",
       "   links {\n",
       "   }\n",
       " }\n",
       " incarnation: 10681464036417189614\n",
       " physical_device_desc: \"device: 0, name: GeForce GTX 980, pci bus id: 0000:01:00.0, compute capability: 5.2\"]"
      ]
     },
     "execution_count": 1,
     "metadata": {},
     "output_type": "execute_result"
    }
   ],
   "source": [
    "#TensorFlowがGPUを認識しているか確認\n",
    "from tensorflow.python.client import device_lib\n",
    "device_lib.list_local_devices()"
   ]
  },
  {
   "cell_type": "code",
   "execution_count": 1,
   "metadata": {},
   "outputs": [
    {
     "name": "stderr",
     "output_type": "stream",
     "text": [
      "/home/cuda/.local/lib/python3.6/site-packages/tensorflow/python/framework/dtypes.py:526: FutureWarning: Passing (type, 1) or '1type' as a synonym of type is deprecated; in a future version of numpy, it will be understood as (type, (1,)) / '(1,)type'.\n",
      "  _np_qint8 = np.dtype([(\"qint8\", np.int8, 1)])\n",
      "/home/cuda/.local/lib/python3.6/site-packages/tensorflow/python/framework/dtypes.py:527: FutureWarning: Passing (type, 1) or '1type' as a synonym of type is deprecated; in a future version of numpy, it will be understood as (type, (1,)) / '(1,)type'.\n",
      "  _np_quint8 = np.dtype([(\"quint8\", np.uint8, 1)])\n",
      "/home/cuda/.local/lib/python3.6/site-packages/tensorflow/python/framework/dtypes.py:528: FutureWarning: Passing (type, 1) or '1type' as a synonym of type is deprecated; in a future version of numpy, it will be understood as (type, (1,)) / '(1,)type'.\n",
      "  _np_qint16 = np.dtype([(\"qint16\", np.int16, 1)])\n",
      "/home/cuda/.local/lib/python3.6/site-packages/tensorflow/python/framework/dtypes.py:529: FutureWarning: Passing (type, 1) or '1type' as a synonym of type is deprecated; in a future version of numpy, it will be understood as (type, (1,)) / '(1,)type'.\n",
      "  _np_quint16 = np.dtype([(\"quint16\", np.uint16, 1)])\n",
      "/home/cuda/.local/lib/python3.6/site-packages/tensorflow/python/framework/dtypes.py:530: FutureWarning: Passing (type, 1) or '1type' as a synonym of type is deprecated; in a future version of numpy, it will be understood as (type, (1,)) / '(1,)type'.\n",
      "  _np_qint32 = np.dtype([(\"qint32\", np.int32, 1)])\n",
      "/home/cuda/.local/lib/python3.6/site-packages/tensorflow/python/framework/dtypes.py:535: FutureWarning: Passing (type, 1) or '1type' as a synonym of type is deprecated; in a future version of numpy, it will be understood as (type, (1,)) / '(1,)type'.\n",
      "  np_resource = np.dtype([(\"resource\", np.ubyte, 1)])\n",
      "Using TensorFlow backend.\n"
     ]
    }
   ],
   "source": [
    "#tensorflowをtfとしてインポート\n",
    "import tensorflow as tf\n",
    "\n",
    "#pltをインポート\n",
    "%matplotlib inline\n",
    "import matplotlib.pyplot as plt\n",
    "\n",
    "import keras\n",
    "from keras.utils import np_utils\n",
    "from keras.layers.convolutional import Conv2D, MaxPooling2D\n",
    "from keras.models import Sequential, Model\n",
    "from keras.layers.core import Dense, Dropout, Activation, Flatten\n",
    "from keras.preprocessing.image import array_to_img, img_to_array, load_img\n",
    "import numpy as np\n",
    "import pandas as pd\n",
    "from sklearn.model_selection import train_test_split\n",
    "import matplotlib.pyplot as plt\n",
    "import os\n",
    "import re"
   ]
  },
  {
   "cell_type": "code",
   "execution_count": 2,
   "metadata": {},
   "outputs": [
    {
     "name": "stdout",
     "output_type": "stream",
     "text": [
      "WARNING:tensorflow:From /home/cuda/.local/lib/python3.6/site-packages/tensorflow/python/framework/op_def_library.py:263: colocate_with (from tensorflow.python.framework.ops) is deprecated and will be removed in a future version.\n",
      "Instructions for updating:\n",
      "Colocations handled automatically by placer.\n",
      "_________________________________________________________________\n",
      "Layer (type)                 Output Shape              Param #   \n",
      "=================================================================\n",
      "conv2d_1 (Conv2D)            (None, 64, 64, 1)         10        \n",
      "_________________________________________________________________\n",
      "activation_1 (Activation)    (None, 64, 64, 1)         0         \n",
      "_________________________________________________________________\n",
      "max_pooling2d_1 (MaxPooling2 (None, 32, 32, 1)         0         \n",
      "_________________________________________________________________\n",
      "conv2d_2 (Conv2D)            (None, 32, 32, 2)         20        \n",
      "_________________________________________________________________\n",
      "activation_2 (Activation)    (None, 32, 32, 2)         0         \n",
      "_________________________________________________________________\n",
      "max_pooling2d_2 (MaxPooling2 (None, 16, 16, 2)         0         \n",
      "_________________________________________________________________\n",
      "conv2d_3 (Conv2D)            (None, 16, 16, 4)         76        \n",
      "_________________________________________________________________\n",
      "activation_3 (Activation)    (None, 16, 16, 4)         0         \n",
      "_________________________________________________________________\n",
      "max_pooling2d_3 (MaxPooling2 (None, 8, 8, 4)           0         \n",
      "_________________________________________________________________\n",
      "flatten_1 (Flatten)          (None, 256)               0         \n",
      "_________________________________________________________________\n",
      "dense_1 (Dense)              (None, 5)                 1285      \n",
      "_________________________________________________________________\n",
      "activation_4 (Activation)    (None, 5)                 0         \n",
      "=================================================================\n",
      "Total params: 1,391\n",
      "Trainable params: 1,391\n",
      "Non-trainable params: 0\n",
      "_________________________________________________________________\n"
     ]
    }
   ],
   "source": [
    "#import circle.py\n",
    "from keras.models import Sequential\n",
    "from keras.layers import Activation,Dense,Dropout, Flatten\n",
    "from keras.layers import Conv2D, MaxPooling2D\n",
    "from keras.preprocessing.image import ImageDataGenerator\n",
    "\n",
    "x_train, x_test, y_train, y_test = np.load('./data/dataset.npy', allow_pickle = True)\n",
    "batch_size = 1\n",
    "epochs = 1\n",
    "\n",
    "#モデルを作成\n",
    "model = Sequential()\n",
    "#conv１層目\n",
    "model.add(Conv2D(1, (3, 3), padding='same', input_shape=(64, 64, 1)))\n",
    "model.add(Activation('relu'))\n",
    "model.add(MaxPooling2D(pool_size=(2, 2)))\n",
    "\n",
    "#conv２層目\n",
    "model.add(Conv2D(2, (3, 3),padding='same'))\n",
    "model.add(Activation('relu'))\n",
    "model.add(MaxPooling2D(pool_size=(2, 2)))\n",
    "\n",
    "#conv３層目\n",
    "model.add(Conv2D(4, (3, 3), padding='same'))\n",
    "model.add(Activation('relu'))\n",
    "model.add(MaxPooling2D(pool_size=(2,2)))\n",
    "        \n",
    "#conv４層目\n",
    "#model.add(Conv2D(256, (3, 3), padding='same'))\n",
    "#model.add(Activation('relu'))\n",
    "#model.add(MaxPooling2D(pool_size=(2,2)))\n",
    "\n",
    "          \n",
    "model.add(Flatten())\n",
    "#model.add(Dropout(0.5))\n",
    "#model.add(Dense(64))\n",
    "#model.add(Activation('relu'))\n",
    "model.add(Dense(5))\n",
    "model.add(Activation('softmax'))\n",
    "          \n",
    "# サマリーを出力\n",
    "model.summary()"
   ]
  },
  {
   "cell_type": "code",
   "execution_count": 3,
   "metadata": {},
   "outputs": [
    {
     "name": "stdout",
     "output_type": "stream",
     "text": [
      "WARNING:tensorflow:From /home/cuda/.local/lib/python3.6/site-packages/tensorflow/python/ops/math_ops.py:3066: to_int32 (from tensorflow.python.ops.math_ops) is deprecated and will be removed in a future version.\n",
      "Instructions for updating:\n",
      "Use tf.cast instead.\n",
      "Train on 35840 samples, validate on 8960 samples\n",
      "Epoch 1/50\n",
      "35840/35840 [==============================] - 6s 164us/step - loss: 0.9225 - acc: 0.6204 - val_loss: 0.3140 - val_acc: 0.9096\n",
      "Epoch 2/50\n",
      "35840/35840 [==============================] - 5s 128us/step - loss: 0.1969 - acc: 0.9475 - val_loss: 0.1275 - val_acc: 0.9673\n",
      "Epoch 3/50\n",
      "35840/35840 [==============================] - 5s 128us/step - loss: 0.0955 - acc: 0.9753 - val_loss: 0.0738 - val_acc: 0.9826\n",
      "Epoch 4/50\n",
      "35840/35840 [==============================] - 5s 129us/step - loss: 0.0548 - acc: 0.9866 - val_loss: 0.0435 - val_acc: 0.9882\n",
      "Epoch 5/50\n",
      "35840/35840 [==============================] - 5s 130us/step - loss: 0.0339 - acc: 0.9922 - val_loss: 0.0278 - val_acc: 0.9935\n",
      "Epoch 6/50\n",
      "35840/35840 [==============================] - 5s 129us/step - loss: 0.0226 - acc: 0.9953 - val_loss: 0.0187 - val_acc: 0.9962\n",
      "Epoch 7/50\n",
      "35840/35840 [==============================] - 5s 130us/step - loss: 0.0154 - acc: 0.9975 - val_loss: 0.0157 - val_acc: 0.9971\n",
      "Epoch 8/50\n",
      "35840/35840 [==============================] - 5s 130us/step - loss: 0.0113 - acc: 0.9982 - val_loss: 0.0129 - val_acc: 0.9972\n",
      "Epoch 9/50\n",
      "35840/35840 [==============================] - 5s 130us/step - loss: 0.0082 - acc: 0.9985 - val_loss: 0.0103 - val_acc: 0.9979\n",
      "Epoch 10/50\n",
      "35840/35840 [==============================] - 5s 131us/step - loss: 0.0061 - acc: 0.9992 - val_loss: 0.0069 - val_acc: 0.9990\n",
      "Epoch 11/50\n",
      "35840/35840 [==============================] - 5s 131us/step - loss: 0.0049 - acc: 0.9992 - val_loss: 0.0062 - val_acc: 0.9982\n",
      "Epoch 12/50\n",
      "35840/35840 [==============================] - 5s 133us/step - loss: 0.0038 - acc: 0.9996 - val_loss: 0.0047 - val_acc: 0.9992\n",
      "Epoch 13/50\n",
      "35840/35840 [==============================] - 5s 131us/step - loss: 0.0032 - acc: 0.9997 - val_loss: 0.0042 - val_acc: 0.9992\n",
      "Epoch 14/50\n",
      "35840/35840 [==============================] - 5s 130us/step - loss: 0.0022 - acc: 0.9998 - val_loss: 0.0037 - val_acc: 0.9991\n",
      "Epoch 15/50\n",
      "35840/35840 [==============================] - 5s 131us/step - loss: 0.0019 - acc: 0.9998 - val_loss: 0.0036 - val_acc: 0.9993\n",
      "Epoch 16/50\n",
      "35840/35840 [==============================] - 5s 134us/step - loss: 0.0016 - acc: 0.9999 - val_loss: 0.0042 - val_acc: 0.9991\n",
      "Epoch 17/50\n",
      "35840/35840 [==============================] - 5s 130us/step - loss: 0.0014 - acc: 0.9999 - val_loss: 0.0023 - val_acc: 0.9996\n",
      "Epoch 18/50\n",
      "35840/35840 [==============================] - 5s 129us/step - loss: 0.0010 - acc: 1.0000 - val_loss: 0.0023 - val_acc: 0.9993\n",
      "Epoch 19/50\n",
      "35840/35840 [==============================] - 5s 130us/step - loss: 0.0013 - acc: 0.9999 - val_loss: 0.0016 - val_acc: 0.9997\n",
      "Epoch 20/50\n",
      "35840/35840 [==============================] - 5s 131us/step - loss: 5.8552e-04 - acc: 1.0000 - val_loss: 0.0016 - val_acc: 0.9994\n",
      "Epoch 21/50\n",
      "35840/35840 [==============================] - 5s 131us/step - loss: 7.1899e-04 - acc: 0.9999 - val_loss: 0.0031 - val_acc: 0.9991\n",
      "Epoch 22/50\n",
      "35840/35840 [==============================] - 5s 137us/step - loss: 6.6506e-04 - acc: 0.9999 - val_loss: 0.0015 - val_acc: 0.9997\n",
      "Epoch 23/50\n",
      "35840/35840 [==============================] - 5s 131us/step - loss: 4.9739e-04 - acc: 1.0000 - val_loss: 0.0012 - val_acc: 0.9996\n",
      "Epoch 24/50\n",
      "35840/35840 [==============================] - 5s 129us/step - loss: 0.0015 - acc: 0.9995 - val_loss: 0.0042 - val_acc: 0.9985\n",
      "Epoch 25/50\n",
      "35840/35840 [==============================] - 5s 130us/step - loss: 4.2906e-04 - acc: 1.0000 - val_loss: 0.0012 - val_acc: 0.9998\n",
      "Epoch 26/50\n",
      "35840/35840 [==============================] - 5s 128us/step - loss: 2.6039e-04 - acc: 1.0000 - val_loss: 9.9705e-04 - val_acc: 0.9997\n",
      "Epoch 27/50\n",
      "35840/35840 [==============================] - 5s 131us/step - loss: 2.3125e-04 - acc: 1.0000 - val_loss: 0.0013 - val_acc: 0.9997\n",
      "Epoch 28/50\n",
      "35840/35840 [==============================] - 5s 138us/step - loss: 5.4890e-04 - acc: 0.9999 - val_loss: 0.0019 - val_acc: 0.9993\n",
      "Epoch 29/50\n",
      "35840/35840 [==============================] - 5s 128us/step - loss: 2.2341e-04 - acc: 1.0000 - val_loss: 9.3258e-04 - val_acc: 0.9998\n",
      "Epoch 30/50\n",
      "35840/35840 [==============================] - 5s 128us/step - loss: 1.5136e-04 - acc: 1.0000 - val_loss: 9.0740e-04 - val_acc: 0.9998\n",
      "Epoch 31/50\n",
      "35840/35840 [==============================] - 5s 128us/step - loss: 5.7275e-04 - acc: 0.9999 - val_loss: 0.0024 - val_acc: 0.9993\n",
      "Epoch 32/50\n",
      "35840/35840 [==============================] - 5s 128us/step - loss: 2.5116e-04 - acc: 1.0000 - val_loss: 7.6713e-04 - val_acc: 0.9998\n",
      "Epoch 33/50\n",
      "35840/35840 [==============================] - 5s 129us/step - loss: 1.0678e-04 - acc: 1.0000 - val_loss: 5.0725e-04 - val_acc: 0.9999\n",
      "Epoch 34/50\n",
      "35840/35840 [==============================] - 5s 129us/step - loss: 1.2381e-04 - acc: 1.0000 - val_loss: 4.6464e-04 - val_acc: 0.9999\n",
      "Epoch 35/50\n",
      "35840/35840 [==============================] - 5s 128us/step - loss: 9.0372e-05 - acc: 1.0000 - val_loss: 4.3767e-04 - val_acc: 0.9999\n",
      "Epoch 36/50\n",
      "35840/35840 [==============================] - 5s 130us/step - loss: 7.4333e-05 - acc: 1.0000 - val_loss: 5.0380e-04 - val_acc: 0.9998\n",
      "Epoch 37/50\n",
      "35840/35840 [==============================] - 5s 131us/step - loss: 9.8425e-04 - acc: 0.9998 - val_loss: 5.7909e-04 - val_acc: 0.9999\n",
      "Epoch 38/50\n",
      "35840/35840 [==============================] - 5s 130us/step - loss: 6.6495e-05 - acc: 1.0000 - val_loss: 3.5611e-04 - val_acc: 1.0000\n",
      "Epoch 39/50\n",
      "35840/35840 [==============================] - 5s 131us/step - loss: 5.1696e-05 - acc: 1.0000 - val_loss: 3.9641e-04 - val_acc: 0.9999\n",
      "Epoch 40/50\n",
      "35840/35840 [==============================] - 5s 134us/step - loss: 5.6092e-05 - acc: 1.0000 - val_loss: 3.7332e-04 - val_acc: 0.9998\n",
      "Epoch 41/50\n",
      "35840/35840 [==============================] - 5s 129us/step - loss: 5.0359e-05 - acc: 1.0000 - val_loss: 0.0010 - val_acc: 0.9998\n",
      "Epoch 42/50\n",
      "35840/35840 [==============================] - 5s 128us/step - loss: 0.0014 - acc: 0.9996 - val_loss: 9.3516e-04 - val_acc: 0.9998\n",
      "Epoch 43/50\n",
      "35840/35840 [==============================] - 5s 130us/step - loss: 6.3169e-05 - acc: 1.0000 - val_loss: 6.1054e-04 - val_acc: 0.9998\n",
      "Epoch 44/50\n",
      "35840/35840 [==============================] - 5s 133us/step - loss: 4.6489e-05 - acc: 1.0000 - val_loss: 6.6093e-04 - val_acc: 0.9998\n",
      "Epoch 45/50\n",
      "35840/35840 [==============================] - 5s 130us/step - loss: 4.0704e-05 - acc: 1.0000 - val_loss: 4.5796e-04 - val_acc: 0.9999\n",
      "Epoch 46/50\n",
      "35840/35840 [==============================] - 5s 129us/step - loss: 3.2296e-04 - acc: 0.9999 - val_loss: 0.0038 - val_acc: 0.9983\n",
      "Epoch 47/50\n",
      "35840/35840 [==============================] - 5s 128us/step - loss: 1.4582e-04 - acc: 1.0000 - val_loss: 8.1646e-04 - val_acc: 0.9998\n",
      "Epoch 48/50\n",
      "35840/35840 [==============================] - 5s 129us/step - loss: 3.7903e-05 - acc: 1.0000 - val_loss: 6.9012e-04 - val_acc: 0.9998\n",
      "Epoch 49/50\n",
      "35840/35840 [==============================] - 5s 132us/step - loss: 2.9606e-05 - acc: 1.0000 - val_loss: 5.7674e-04 - val_acc: 0.9998\n",
      "Epoch 50/50\n",
      "35840/35840 [==============================] - 5s 131us/step - loss: 2.7761e-05 - acc: 1.0000 - val_loss: 7.2171e-04 - val_acc: 0.9999\n"
     ]
    }
   ],
   "source": [
    "#モデルのコンパイル\n",
    "#WEIGHTS_PATH = 'layer3channel1_weights.hdf5'\n",
    "#model.load_weights(WEIGHTS_PATH)\n",
    "model.compile(optimizer='adam',\n",
    "                           loss='categorical_crossentropy',\n",
    "                           metrics=['accuracy'])\n",
    "\n",
    "#予測\n",
    "history = model.fit(x_train, y_train, epochs=50, validation_data = (x_test, y_test))"
   ]
  },
  {
   "cell_type": "code",
   "execution_count": 4,
   "metadata": {},
   "outputs": [
    {
     "name": "stdout",
     "output_type": "stream",
     "text": [
      "8960/8960 [==============================] - 0s 52us/step\n",
      "test loss: 0.0007217147444855243\n",
      "test acc: 0.9998883928571428\n"
     ]
    }
   ],
   "source": [
    "#学習済みのモデルでテスト\n",
    "score = model.evaluate(x_test, y_test)\n",
    "print('test loss:',score[0])\n",
    "print('test acc:',score[1])"
   ]
  },
  {
   "cell_type": "code",
   "execution_count": 5,
   "metadata": {},
   "outputs": [
    {
     "name": "stdout",
     "output_type": "stream",
     "text": [
      "8960/8960 [==============================] - 0s 31us/step\n",
      "[1.3749500e-36 1.0000000e+00 2.4366316e-24 2.9516915e-15 0.0000000e+00]\n"
     ]
    }
   ],
   "source": [
    "classes = model.predict(x_test, batch_size=128, verbose=True)\n",
    "print(classes[0])"
   ]
  },
  {
   "cell_type": "code",
   "execution_count": 6,
   "metadata": {},
   "outputs": [],
   "source": [
    "#save model\n",
    "model_layer3channel1_json = model.to_json()\n",
    "open(\"model_architecture.json\", mode='w').write(model_layer3channel1_json)\n",
    "\n",
    "#save weight\n",
    "model.save_weights(\"layer3channel1_weights.hdf5\")"
   ]
  },
  {
   "cell_type": "code",
   "execution_count": 7,
   "metadata": {},
   "outputs": [
    {
     "data": {
      "text/plain": [
       "[<tf.Tensor 'conv2d_1/BiasAdd:0' shape=(?, 64, 64, 1) dtype=float32>,\n",
       " <tf.Tensor 'activation_1/Relu:0' shape=(?, 64, 64, 1) dtype=float32>,\n",
       " <tf.Tensor 'max_pooling2d_1/MaxPool:0' shape=(?, 32, 32, 1) dtype=float32>]"
      ]
     },
     "execution_count": 7,
     "metadata": {},
     "output_type": "execute_result"
    }
   ],
   "source": [
    "#出力する中間層を指定　０〜３そうめ\n",
    "layer_outputs = [layer.output for layer in model.layers[0:3]]\n",
    "layer_outputs"
   ]
  },
  {
   "cell_type": "code",
   "execution_count": 8,
   "metadata": {},
   "outputs": [
    {
     "name": "stdout",
     "output_type": "stream",
     "text": [
      "_________________________________________________________________\n",
      "Layer (type)                 Output Shape              Param #   \n",
      "=================================================================\n",
      "conv2d_1_input (InputLayer)  (None, 64, 64, 1)         0         \n",
      "_________________________________________________________________\n",
      "conv2d_1 (Conv2D)            (None, 64, 64, 1)         10        \n",
      "_________________________________________________________________\n",
      "activation_1 (Activation)    (None, 64, 64, 1)         0         \n",
      "_________________________________________________________________\n",
      "max_pooling2d_1 (MaxPooling2 (None, 32, 32, 1)         0         \n",
      "=================================================================\n",
      "Total params: 10\n",
      "Trainable params: 10\n",
      "Non-trainable params: 0\n",
      "_________________________________________________________________\n"
     ]
    }
   ],
   "source": [
    "#中間層を出力するモデルを作成\n",
    "activation_model = Model(inputs=model.input, outputs=layer_outputs)\n",
    "activation_model.summary()"
   ]
  },
  {
   "cell_type": "code",
   "execution_count": 9,
   "metadata": {},
   "outputs": [
    {
     "data": {
      "text/plain": [
       "array([[[[ 1.3162555 ]],\n",
       "\n",
       "        [[-0.63436174]],\n",
       "\n",
       "        [[-0.5477194 ]]],\n",
       "\n",
       "\n",
       "       [[[-2.0495121 ]],\n",
       "\n",
       "        [[-0.61006445]],\n",
       "\n",
       "        [[ 1.6829942 ]]],\n",
       "\n",
       "\n",
       "       [[[ 1.4094963 ]],\n",
       "\n",
       "        [[ 0.3166146 ]],\n",
       "\n",
       "        [[-1.2461984 ]]]], dtype=float32)"
      ]
     },
     "execution_count": 9,
     "metadata": {},
     "output_type": "execute_result"
    }
   ],
   "source": [
    "weights = model.get_layer(\"conv2d_1\").get_weights()[0]\n",
    "weights.shape\n",
    "weights"
   ]
  },
  {
   "cell_type": "code",
   "execution_count": 10,
   "metadata": {},
   "outputs": [
    {
     "data": {
      "image/png": "[encoded data removed]",
      "text/plain": [
       "<Figure size 432x288 with 1 Axes>"
      ]
     },
     "metadata": {},
     "output_type": "display_data"
    }
   ],
   "source": [
    "def plot_conv_weights(filters):\n",
    "    filter_num = filters.shape[3]\n",
    "    \n",
    "    for i in range(filter_num):\n",
    "        plt.subplot(filter_num/6 + 1, 4, i+1)\n",
    "        plt.imshow(filters[:,:,0,i], cmap=\"gray\")\n",
    "        plt.xticks([])\n",
    "        plt.yticks([])\n",
    "        \n",
    "plot_conv_weights(model.layers[0].get_weights()[0])"
   ]
  },
  {
   "cell_type": "code",
   "execution_count": 11,
   "metadata": {},
   "outputs": [
    {
     "name": "stdout",
     "output_type": "stream",
     "text": [
      "(1, 64, 64, 1)\n",
      "(1, 64, 64, 1)\n"
     ]
    },
    {
     "name": "stderr",
     "output_type": "stream",
     "text": [
      "/home/cuda/.local/lib/python3.6/site-packages/keras_preprocessing/image/utils.py:104: UserWarning: grayscale is deprecated. Please use color_mode = \"grayscale\"\n",
      "  warnings.warn('grayscale is deprecated. Please use '\n"
     ]
    },
    {
     "data": {
      "image/png": "[encoded data removed]",
      "text/plain": [
       "<Figure size 432x288 with 1 Axes>"
      ]
     },
     "metadata": {},
     "output_type": "display_data"
    }
   ],
   "source": [
    "#円の特徴マップ\n",
    "#check input image\n",
    "img_path = './data/circle/circler12_1105.jpg'\n",
    "#img_list = glob.glob(img_path + '*')\n",
    "size = (64, 64, 1)\n",
    "img = load_img(img_path, grayscale = True, target_size=size)\n",
    "x = img_to_array(img)\n",
    "#x = np.expand_dims(x, axis=0)\n",
    "img_tensor = x/255\n",
    "img_tensor = img_tensor[np.newaxis, ...]\n",
    "print(img_tensor.shape)\n",
    "#plt.imshow(img_tensor[0])\n",
    "#plt.show()\n",
    "\n",
    "activations = activation_model.predict(img_tensor)\n",
    "#print(len(activations))\n",
    "#print(activations)\n",
    "\n",
    "first_layer_activation = activations[1]\n",
    "print(first_layer_activation.shape)\n",
    "\n",
    "k = 0\n",
    "for i in range(1):\n",
    "    plt.imshow(first_layer_activation[0,:,:,i],cmap=\"gray\")\n",
    "    plt.xticks([])\n",
    "    plt.yticks([])\n",
    "    plt.savefig('data/l3c1/circle/circle12_1105_%d.jpg'%k)\n",
    "    k = k + 1\n",
    "    plt.show()"
   ]
  },
  {
   "cell_type": "code",
   "execution_count": 13,
   "metadata": {},
   "outputs": [
    {
     "name": "stdout",
     "output_type": "stream",
     "text": [
      "(1, 64, 64, 1)\n",
      "(1, 64, 64, 1)\n"
     ]
    },
    {
     "data": {
      "image/png": "[encoded data removed]",
      "text/plain": [
       "<Figure size 432x288 with 1 Axes>"
      ]
     },
     "metadata": {},
     "output_type": "display_data"
    }
   ],
   "source": [
    "#三角形の特徴マップ\n",
    "#check input image\n",
    "img_path = './data/triangle/triangle12_1105.jpg'\n",
    "#img_list = glob.glob(img_path + '*')\n",
    "size = (64, 64, 1)\n",
    "img = load_img(img_path, grayscale = True, target_size=size)\n",
    "x = img_to_array(img)\n",
    "#x = np.expand_dims(x, axis=0)\n",
    "img_tensor = x/255\n",
    "img_tensor = img_tensor[np.newaxis, ...]\n",
    "print(img_tensor.shape)\n",
    "#plt.imshow(img_tensor[0])\n",
    "#plt.show()\n",
    "\n",
    "activations = activation_model.predict(img_tensor)\n",
    "#print(len(activations))\n",
    "#print(activations)\n",
    "\n",
    "first_layer_activation = activations[1]\n",
    "print(first_layer_activation.shape)\n",
    "\n",
    "k = 0\n",
    "for i in range(1):\n",
    "    plt.imshow(first_layer_activation[0,:,:,i],cmap=\"gray\")\n",
    "    plt.xticks([])\n",
    "    plt.yticks([])\n",
    "    plt.savefig('data/l3c1/triangle/triangle12_1105_%d.jpg'%k)\n",
    "    k = k + 1\n",
    "    plt.show()"
   ]
  },
  {
   "cell_type": "code",
   "execution_count": 15,
   "metadata": {},
   "outputs": [
    {
     "name": "stdout",
     "output_type": "stream",
     "text": [
      "(1, 64, 64, 1)\n",
      "(1, 64, 64, 1)\n"
     ]
    },
    {
     "data": {
      "image/png": "[encoded data removed]",
      "text/plain": [
       "<Figure size 432x288 with 1 Axes>"
      ]
     },
     "metadata": {},
     "output_type": "display_data"
    }
   ],
   "source": [
    "#四角形の特徴マップ\n",
    "#check input image\n",
    "img_path = './data/rectangle/rectangle12_1105.jpg'\n",
    "#img_list = glob.glob(img_path + '*')\n",
    "size = (64, 64, 1)\n",
    "img = load_img(img_path, grayscale = True, target_size=size)\n",
    "x = img_to_array(img)\n",
    "#x = np.expand_dims(x, axis=0)\n",
    "img_tensor = x/255\n",
    "img_tensor = img_tensor[np.newaxis, ...]\n",
    "print(img_tensor.shape)\n",
    "#plt.imshow(img_tensor[0])\n",
    "#plt.show()\n",
    "\n",
    "activations = activation_model.predict(img_tensor)\n",
    "#print(len(activations))\n",
    "#print(activations)\n",
    "\n",
    "first_layer_activation = activations[1]\n",
    "print(first_layer_activation.shape)\n",
    "\n",
    "k = 0\n",
    "for i in range(1):\n",
    "    plt.imshow(first_layer_activation[0,:,:,i],cmap=\"gray\")\n",
    "    plt.xticks([])\n",
    "    plt.yticks([])\n",
    "    plt.savefig('data/l3c1/rectangle/rectangle12_1105_%d.jpg'%k)\n",
    "    k = k + 1\n",
    "    plt.show()"
   ]
  },
  {
   "cell_type": "code",
   "execution_count": 17,
   "metadata": {},
   "outputs": [
    {
     "name": "stdout",
     "output_type": "stream",
     "text": [
      "(1, 64, 64, 1)\n",
      "(1, 64, 64, 1)\n"
     ]
    },
    {
     "data": {
      "image/png": "[encoded data removed]",
      "text/plain": [
       "<Figure size 432x288 with 1 Axes>"
      ]
     },
     "metadata": {},
     "output_type": "display_data"
    }
   ],
   "source": [
    "#五角形の特徴マップ\n",
    "#check input image\n",
    "img_path = './data/pentagon/pentagon12_1105.jpg'\n",
    "#img_list = glob.glob(img_path + '*')\n",
    "size = (64, 64, 1)\n",
    "img = load_img(img_path, grayscale = True, target_size=size)\n",
    "x = img_to_array(img)\n",
    "#x = np.expand_dims(x, axis=0)\n",
    "img_tensor = x/255\n",
    "img_tensor = img_tensor[np.newaxis, ...]\n",
    "print(img_tensor.shape)\n",
    "#plt.imshow(img_tensor[0])\n",
    "#plt.show()\n",
    "\n",
    "activations = activation_model.predict(img_tensor)\n",
    "#print(len(activations))\n",
    "#print(activations)\n",
    "\n",
    "first_layer_activation = activations[1]\n",
    "print(first_layer_activation.shape)\n",
    "\n",
    "k = 0\n",
    "for i in range(1):\n",
    "    plt.imshow(first_layer_activation[0,:,:,i],cmap=\"gray\")\n",
    "    plt.xticks([])\n",
    "    plt.yticks([])\n",
    "    plt.savefig('data/l3c1/pentagon/pentagon12_1105_%d.jpg'%k)\n",
    "    k = k + 1\n",
    "    plt.show()"
   ]
  },
  {
   "cell_type": "code",
   "execution_count": 18,
   "metadata": {},
   "outputs": [
    {
     "name": "stdout",
     "output_type": "stream",
     "text": [
      "(1, 64, 64, 1)\n",
      "(1, 64, 64, 1)\n"
     ]
    },
    {
     "data": {
      "image/png": "[encoded data removed]",
      "text/plain": [
       "<Figure size 432x288 with 1 Axes>"
      ]
     },
     "metadata": {},
     "output_type": "display_data"
    }
   ],
   "source": [
    "#六角形の特徴マップ\n",
    "#check input image\n",
    "img_path = './data/hexagon/hexagon12_1105.jpg'\n",
    "#img_list = glob.glob(img_path + '*')\n",
    "size = (64, 64, 1)\n",
    "img = load_img(img_path, grayscale = True, target_size=size)\n",
    "x = img_to_array(img)\n",
    "#x = np.expand_dims(x, axis=0)\n",
    "img_tensor = x/255\n",
    "img_tensor = img_tensor[np.newaxis, ...]\n",
    "print(img_tensor.shape)\n",
    "#plt.imshow(img_tensor[0])\n",
    "#plt.show()\n",
    "\n",
    "activations = activation_model.predict(img_tensor)\n",
    "#print(len(activations))\n",
    "#print(activations)\n",
    "\n",
    "first_layer_activation = activations[1]\n",
    "print(first_layer_activation.shape)\n",
    "\n",
    "k = 0\n",
    "for i in range(1):\n",
    "    plt.imshow(first_layer_activation[0,:,:,i],cmap=\"gray\")\n",
    "    plt.xticks([])\n",
    "    plt.yticks([])\n",
    "    plt.savefig('data/l3c1/hexagon/hexagon12_1105_%d.jpg'%k)\n",
    "    k = k + 1\n",
    "    plt.show()"
   ]
  }
 ],
 "metadata": {
  "kernelspec": {
   "display_name": "Python 3",
   "language": "python",
   "name": "python3"
  },
  "language_info": {
   "codemirror_mode": {
    "name": "ipython",
    "version": 3
   },
   "file_extension": ".py",
   "mimetype": "text/x-python",
   "name": "python",
   "nbconvert_exporter": "python",
   "pygments_lexer": "ipython3",
   "version": "3.6.9"
  }
 },
 "nbformat": 4,
 "nbformat_minor": 2
}
