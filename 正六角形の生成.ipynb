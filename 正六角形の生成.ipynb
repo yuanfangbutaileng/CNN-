{
 "cells": [
  {
   "cell_type": "code",
   "execution_count": 1,
   "metadata": {},
   "outputs": [
    {
     "data": {
      "text/plain": [
       "<matplotlib.image.AxesImage at 0x7f2b91c31f28>"
      ]
     },
     "execution_count": 1,
     "metadata": {},
     "output_type": "execute_result"
    },
    {
     "data": {
      "image/png": "[encoded data removed]",
      "text/plain": [
       "<Figure size 432x288 with 1 Axes>"
      ]
     },
     "metadata": {
      "needs_background": "light"
     },
     "output_type": "display_data"
    }
   ],
   "source": [
    "from PIL import Image, ImageDraw\n",
    "import matplotlib.pyplot as plt\n",
    "#背景画像を生成\n",
    "#今までは2値化していなかったが今回から2値化\n",
    "#size=64×64\n",
    "#半径4\n",
    "k = 0\n",
    "for j in range(56):\n",
    "    for i in range(56):\n",
    "        image = Image.new(\"L\",(64,64),0)\n",
    "        draw = ImageDraw.Draw(image)\n",
    "        draw.polygon(((4+i, 0+j), (0+i, 2+j),(0+i,6+j),(4+i,8+j),(8+i,6+j),(8+i,2+j)) , fill=255)\n",
    "        image.save('data/hexagon/hexagon04_%d.jpg'%k)\n",
    "        k = k + 1 \n",
    "plt.imshow(image)"
   ]
  },
  {
   "cell_type": "code",
   "execution_count": 2,
   "metadata": {},
   "outputs": [
    {
     "data": {
      "text/plain": [
       "<matplotlib.image.AxesImage at 0x7f2b91710390>"
      ]
     },
     "execution_count": 2,
     "metadata": {},
     "output_type": "execute_result"
    },
    {
     "data": {
      "image/png": "[encoded data removed]",
      "text/plain": [
       "<Figure size 432x288 with 1 Axes>"
      ]
     },
     "metadata": {
      "needs_background": "light"
     },
     "output_type": "display_data"
    }
   ],
   "source": [
    "#半径8\n",
    "k = 0\n",
    "for j in range(48):\n",
    "    for i in range(48):\n",
    "        image = Image.new(\"L\",(64,64),0)\n",
    "        draw = ImageDraw.Draw(image)\n",
    "        draw.polygon(((8+i, 0+j), (0+i, 4+j),(0+i,12+j),(8+i,16+j),(16+i,12+j),(16+i,4+j)) , fill=255)\n",
    "        image.save('data/hexagon/hexagon08_%d.jpg'%k)\n",
    "        k = k + 1 \n",
    "plt.imshow(image)"
   ]
  },
  {
   "cell_type": "code",
   "execution_count": 3,
   "metadata": {},
   "outputs": [
    {
     "data": {
      "text/plain": [
       "<matplotlib.image.AxesImage at 0x7f2b9167f470>"
      ]
     },
     "execution_count": 3,
     "metadata": {},
     "output_type": "execute_result"
    },
    {
     "data": {
      "image/png": "[encoded data removed]",
      "text/plain": [
       "<Figure size 432x288 with 1 Axes>"
      ]
     },
     "metadata": {
      "needs_background": "light"
     },
     "output_type": "display_data"
    }
   ],
   "source": [
    "#半径12\n",
    "k = 0\n",
    "for j in range(40):\n",
    "    for i in range(40):\n",
    "        image = Image.new(\"L\",(64,64),0)\n",
    "        draw = ImageDraw.Draw(image)\n",
    "        draw.polygon(((12+i, 0+j), (0+i, 6+j),(0+i,18+j),(12+i,24+j),(24+i,18+j),(24+i,6+j)) , fill=255)\n",
    "        image.save('data/hexagon/hexagon12_%d.jpg'%k)\n",
    "        k = k + 1 \n",
    "plt.imshow(image)"
   ]
  },
  {
   "cell_type": "code",
   "execution_count": 4,
   "metadata": {},
   "outputs": [
    {
     "data": {
      "text/plain": [
       "<matplotlib.image.AxesImage at 0x7f2b91668080>"
      ]
     },
     "execution_count": 4,
     "metadata": {},
     "output_type": "execute_result"
    },
    {
     "data": {
      "image/png": "[encoded data removed]",
      "text/plain": [
       "<Figure size 432x288 with 1 Axes>"
      ]
     },
     "metadata": {
      "needs_background": "light"
     },
     "output_type": "display_data"
    }
   ],
   "source": [
    "#半径16\n",
    "k = 0\n",
    "for j in range(32):\n",
    "    for i in range(32):\n",
    "        image = Image.new(\"L\",(64,64),0)\n",
    "        draw = ImageDraw.Draw(image)\n",
    "        draw.polygon(((16+i, 0+j), (0+i, 8+j),(0+i,24+j),(16+i,32+j),(32+i,24+j),(32+i,8+j)) , fill=255)\n",
    "        image.save('data/hexagon/hexagon16_%d.jpg'%k)\n",
    "        k = k + 1 \n",
    "plt.imshow(image)"
   ]
  },
  {
   "cell_type": "code",
   "execution_count": 5,
   "metadata": {},
   "outputs": [
    {
     "data": {
      "text/plain": [
       "<matplotlib.image.AxesImage at 0x7f2b915c0c50>"
      ]
     },
     "execution_count": 5,
     "metadata": {},
     "output_type": "execute_result"
    },
    {
     "data": {
      "image/png": "[encoded data removed]",
      "text/plain": [
       "<Figure size 432x288 with 1 Axes>"
      ]
     },
     "metadata": {
      "needs_background": "light"
     },
     "output_type": "display_data"
    }
   ],
   "source": [
    "#半径20\n",
    "k = 0\n",
    "for j in range(24):\n",
    "    for i in range(24):\n",
    "        image = Image.new(\"L\",(64,64),0)\n",
    "        draw = ImageDraw.Draw(image)\n",
    "        draw.polygon(((20+i, 0+j), (0+i, 10+j),(0+i,30+j),(20+i,40+j),(40+i,30+j),(40+i,10+j)) , fill=255)\n",
    "        image.save('data/hexagon/hexagon20_%d.jpg'%k)\n",
    "        k = k + 1 \n",
    "plt.imshow(image)"
   ]
  },
  {
   "cell_type": "code",
   "execution_count": 6,
   "metadata": {},
   "outputs": [
    {
     "data": {
      "text/plain": [
       "<matplotlib.image.AxesImage at 0x7f2b915a7860>"
      ]
     },
     "execution_count": 6,
     "metadata": {},
     "output_type": "execute_result"
    },
    {
     "data": {
      "image/png": "[encoded data removed]",
      "text/plain": [
       "<Figure size 432x288 with 1 Axes>"
      ]
     },
     "metadata": {
      "needs_background": "light"
     },
     "output_type": "display_data"
    }
   ],
   "source": [
    "#半径24\n",
    "k = 0\n",
    "for j in range(16):\n",
    "    for i in range(16):\n",
    "        image = Image.new(\"L\",(64,64),0)\n",
    "        draw = ImageDraw.Draw(image)\n",
    "        draw.polygon(((24+i, 0+j), (0+i, 12+j),(0+i,36+j),(24+i,48+j),(48+i,36+j),(48+i,12+j)) , fill=255)\n",
    "        image.save('data/hexagon/hexagon24_%d.jpg'%k)\n",
    "        k = k + 1 \n",
    "plt.imshow(image)"
   ]
  },
  {
   "cell_type": "code",
   "execution_count": 7,
   "metadata": {},
   "outputs": [
    {
     "data": {
      "text/plain": [
       "<matplotlib.image.AxesImage at 0x7f2b91512470>"
      ]
     },
     "execution_count": 7,
     "metadata": {},
     "output_type": "execute_result"
    },
    {
     "data": {
      "image/png": "[encoded data removed]",
      "text/plain": [
       "<Figure size 432x288 with 1 Axes>"
      ]
     },
     "metadata": {
      "needs_background": "light"
     },
     "output_type": "display_data"
    }
   ],
   "source": [
    "#半径28\n",
    "k = 0\n",
    "for j in range(8):\n",
    "    for i in range(8):\n",
    "        image = Image.new(\"L\",(64,64),0)\n",
    "        draw = ImageDraw.Draw(image)\n",
    "        draw.polygon(((28+i, 0+j), (0+i, 14+j),(0+i,42+j),(28+i,56+j),(56+i,42+j),(56+i,14+j)) , fill=255)\n",
    "        image.save('data/hexagon/hexagon28_%d.jpg'%k)\n",
    "        k = k + 1 \n",
    "plt.imshow(image)"
   ]
  }
 ],
 "metadata": {
  "kernelspec": {
   "display_name": "Python 3",
   "language": "python",
   "name": "python3"
  },
  "language_info": {
   "codemirror_mode": {
    "name": "ipython",
    "version": 3
   },
   "file_extension": ".py",
   "mimetype": "text/x-python",
   "name": "python",
   "nbconvert_exporter": "python",
   "pygments_lexer": "ipython3",
   "version": "3.6.9"
  }
 },
 "nbformat": 4,
 "nbformat_minor": 2
}
