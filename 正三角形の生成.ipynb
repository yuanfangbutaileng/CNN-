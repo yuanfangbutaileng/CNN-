{
 "cells": [
  {
   "cell_type": "code",
   "execution_count": 2,
   "metadata": {},
   "outputs": [
    {
     "data": {
      "text/plain": [
       "<matplotlib.image.AxesImage at 0x7f6527835780>"
      ]
     },
     "execution_count": 2,
     "metadata": {},
     "output_type": "execute_result"
    },
    {
     "data": {
      "image/png": "[encoded data removed]",
      "text/plain": [
       "<Figure size 432x288 with 1 Axes>"
      ]
     },
     "metadata": {
      "needs_background": "light"
     },
     "output_type": "display_data"
    }
   ],
   "source": [
    "from PIL import Image, ImageDraw\n",
    "import matplotlib.pyplot as plt\n",
    "#背景画像を生成\n",
    "#今までは2値化していなかったが今回から2値化\n",
    "#size=64×64\n",
    "#半径4\n",
    "k = 0\n",
    "for j in range(56):\n",
    "    for i in range(56):\n",
    "        image = Image.new(\"L\",(64,64),0)\n",
    "        draw = ImageDraw.Draw(image)\n",
    "        draw.polygon(((0+i, 8+j), (4+i, 0+j),(8+i,8+j)) , fill=255)\n",
    "        image.save('data/triangle/triangle04_%d.jpg'%k)\n",
    "        k = k + 1 \n",
    "plt.imshow(image)"
   ]
  },
  {
   "cell_type": "code",
   "execution_count": 3,
   "metadata": {},
   "outputs": [
    {
     "data": {
      "text/plain": [
       "<matplotlib.image.AxesImage at 0x7f6527306ba8>"
      ]
     },
     "execution_count": 3,
     "metadata": {},
     "output_type": "execute_result"
    },
    {
     "data": {
      "image/png": "[encoded data removed]",
      "text/plain": [
       "<Figure size 432x288 with 1 Axes>"
      ]
     },
     "metadata": {
      "needs_background": "light"
     },
     "output_type": "display_data"
    }
   ],
   "source": [
    "#半径8\n",
    "k = 0\n",
    "for j in range(48):\n",
    "    for i in range(48):\n",
    "        image = Image.new(\"L\",(64,64),0)\n",
    "        draw = ImageDraw.Draw(image)\n",
    "        draw.polygon(((0+i, 16+j), (8+i, 0+j),(16+i,16+j)) , fill=255)\n",
    "        image.save('data/triangle/triangle08_%d.jpg'%k)\n",
    "        k = k + 1 \n",
    "plt.imshow(image)"
   ]
  },
  {
   "cell_type": "code",
   "execution_count": 4,
   "metadata": {},
   "outputs": [
    {
     "data": {
      "text/plain": [
       "<matplotlib.image.AxesImage at 0x7f65272f0c88>"
      ]
     },
     "execution_count": 4,
     "metadata": {},
     "output_type": "execute_result"
    },
    {
     "data": {
      "image/png": "[encoded data removed]",
      "text/plain": [
       "<Figure size 432x288 with 1 Axes>"
      ]
     },
     "metadata": {
      "needs_background": "light"
     },
     "output_type": "display_data"
    }
   ],
   "source": [
    "#半径12\n",
    "k = 0\n",
    "for j in range(40):\n",
    "    for i in range(40):\n",
    "        image = Image.new(\"L\",(64,64),0)\n",
    "        draw = ImageDraw.Draw(image)\n",
    "        draw.polygon(((0+i, 24+j), (12+i, 0+j),(24+i,24+j)) , fill=255)\n",
    "        image.save('data/triangle/triangle12_%d.jpg'%k)\n",
    "        k = k + 1 \n",
    "plt.imshow(image)"
   ]
  },
  {
   "cell_type": "code",
   "execution_count": 5,
   "metadata": {},
   "outputs": [
    {
     "data": {
      "text/plain": [
       "<matplotlib.image.AxesImage at 0x7f6527251898>"
      ]
     },
     "execution_count": 5,
     "metadata": {},
     "output_type": "execute_result"
    },
    {
     "data": {
      "image/png": "[encoded data removed]",
      "text/plain": [
       "<Figure size 432x288 with 1 Axes>"
      ]
     },
     "metadata": {
      "needs_background": "light"
     },
     "output_type": "display_data"
    }
   ],
   "source": [
    "#半径16\n",
    "k = 0\n",
    "for j in range(32):\n",
    "    for i in range(32):\n",
    "        image = Image.new(\"L\",(64,64),0)\n",
    "        draw = ImageDraw.Draw(image)\n",
    "        draw.polygon(((0+i, 32+j), (16+i, 0+j),(32+i,32+j)) , fill=255)\n",
    "        image.save('data/triangle/triangle16_%d.jpg'%k)\n",
    "        k = k + 1 \n",
    "plt.imshow(image)"
   ]
  },
  {
   "cell_type": "code",
   "execution_count": 6,
   "metadata": {},
   "outputs": [
    {
     "data": {
      "text/plain": [
       "<matplotlib.image.AxesImage at 0x7f65271b84a8>"
      ]
     },
     "execution_count": 6,
     "metadata": {},
     "output_type": "execute_result"
    },
    {
     "data": {
      "image/png": "[encoded data removed]",
      "text/plain": [
       "<Figure size 432x288 with 1 Axes>"
      ]
     },
     "metadata": {
      "needs_background": "light"
     },
     "output_type": "display_data"
    }
   ],
   "source": [
    "#半径20\n",
    "k = 0\n",
    "for j in range(24):\n",
    "    for i in range(24):\n",
    "        image = Image.new(\"L\",(64,64),0)\n",
    "        draw = ImageDraw.Draw(image)\n",
    "        draw.polygon(((0+i, 40+j), (20+i, 0+j),(40+i,40+j)) , fill=255)\n",
    "        image.save('data/triangle/triangle20_%d.jpg'%k)\n",
    "        k = k + 1 \n",
    "plt.imshow(image)"
   ]
  },
  {
   "cell_type": "code",
   "execution_count": 7,
   "metadata": {},
   "outputs": [
    {
     "data": {
      "text/plain": [
       "<matplotlib.image.AxesImage at 0x7f65271a00b8>"
      ]
     },
     "execution_count": 7,
     "metadata": {},
     "output_type": "execute_result"
    },
    {
     "data": {
      "image/png": "[encoded data removed]",
      "text/plain": [
       "<Figure size 432x288 with 1 Axes>"
      ]
     },
     "metadata": {
      "needs_background": "light"
     },
     "output_type": "display_data"
    }
   ],
   "source": [
    "#半径24\n",
    "k = 0\n",
    "for j in range(16):\n",
    "    for i in range(16):\n",
    "        image = Image.new(\"L\",(64,64),0)\n",
    "        draw = ImageDraw.Draw(image)\n",
    "        draw.polygon(((0+i, 48+j), (24+i, 0+j),(48+i,48+j)) , fill=255)\n",
    "        image.save('data/triangle/triangle24_%d.jpg'%k)\n",
    "        k = k + 1 \n",
    "plt.imshow(image)"
   ]
  },
  {
   "cell_type": "code",
   "execution_count": 8,
   "metadata": {},
   "outputs": [
    {
     "data": {
      "text/plain": [
       "<matplotlib.image.AxesImage at 0x7f65270ffc88>"
      ]
     },
     "execution_count": 8,
     "metadata": {},
     "output_type": "execute_result"
    },
    {
     "data": {
      "image/png": "[encoded data removed]",
      "text/plain": [
       "<Figure size 432x288 with 1 Axes>"
      ]
     },
     "metadata": {
      "needs_background": "light"
     },
     "output_type": "display_data"
    }
   ],
   "source": [
    "#半径28\n",
    "k = 0\n",
    "for j in range(8):\n",
    "    for i in range(8):\n",
    "        image = Image.new(\"L\",(64,64),0)\n",
    "        draw = ImageDraw.Draw(image)\n",
    "        draw.polygon(((0+i, 56+j), (28+i, 0+j),(56+i,56+j)) , fill=255)\n",
    "        image.save('data/triangle/triangle28_%d.jpg'%k)\n",
    "        k = k + 1 \n",
    "plt.imshow(image)"
   ]
  }
 ],
 "metadata": {
  "kernelspec": {
   "display_name": "Python 3",
   "language": "python",
   "name": "python3"
  },
  "language_info": {
   "codemirror_mode": {
    "name": "ipython",
    "version": 3
   },
   "file_extension": ".py",
   "mimetype": "text/x-python",
   "name": "python",
   "nbconvert_exporter": "python",
   "pygments_lexer": "ipython3",
   "version": "3.7.3"
  }
 },
 "nbformat": 4,
 "nbformat_minor": 2
}
