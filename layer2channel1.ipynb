{
 "cells": [
  {
   "cell_type": "markdown",
   "metadata": {},
   "source": [
    "# CNN"
   ]
  },
  {
   "cell_type": "code",
   "execution_count": 1,
   "metadata": {},
   "outputs": [
    {
     "name": "stderr",
     "output_type": "stream",
     "text": [
      "/home/cuda/.local/lib/python3.6/site-packages/tensorflow/python/framework/dtypes.py:526: FutureWarning: Passing (type, 1) or '1type' as a synonym of type is deprecated; in a future version of numpy, it will be understood as (type, (1,)) / '(1,)type'.\n",
      "  _np_qint8 = np.dtype([(\"qint8\", np.int8, 1)])\n",
      "/home/cuda/.local/lib/python3.6/site-packages/tensorflow/python/framework/dtypes.py:527: FutureWarning: Passing (type, 1) or '1type' as a synonym of type is deprecated; in a future version of numpy, it will be understood as (type, (1,)) / '(1,)type'.\n",
      "  _np_quint8 = np.dtype([(\"quint8\", np.uint8, 1)])\n",
      "/home/cuda/.local/lib/python3.6/site-packages/tensorflow/python/framework/dtypes.py:528: FutureWarning: Passing (type, 1) or '1type' as a synonym of type is deprecated; in a future version of numpy, it will be understood as (type, (1,)) / '(1,)type'.\n",
      "  _np_qint16 = np.dtype([(\"qint16\", np.int16, 1)])\n",
      "/home/cuda/.local/lib/python3.6/site-packages/tensorflow/python/framework/dtypes.py:529: FutureWarning: Passing (type, 1) or '1type' as a synonym of type is deprecated; in a future version of numpy, it will be understood as (type, (1,)) / '(1,)type'.\n",
      "  _np_quint16 = np.dtype([(\"quint16\", np.uint16, 1)])\n",
      "/home/cuda/.local/lib/python3.6/site-packages/tensorflow/python/framework/dtypes.py:530: FutureWarning: Passing (type, 1) or '1type' as a synonym of type is deprecated; in a future version of numpy, it will be understood as (type, (1,)) / '(1,)type'.\n",
      "  _np_qint32 = np.dtype([(\"qint32\", np.int32, 1)])\n",
      "/home/cuda/.local/lib/python3.6/site-packages/tensorflow/python/framework/dtypes.py:535: FutureWarning: Passing (type, 1) or '1type' as a synonym of type is deprecated; in a future version of numpy, it will be understood as (type, (1,)) / '(1,)type'.\n",
      "  np_resource = np.dtype([(\"resource\", np.ubyte, 1)])\n"
     ]
    },
    {
     "data": {
      "text/plain": [
       "[name: \"/device:CPU:0\"\n",
       " device_type: \"CPU\"\n",
       " memory_limit: 268435456\n",
       " locality {\n",
       " }\n",
       " incarnation: 7480355612148436931, name: \"/device:XLA_GPU:0\"\n",
       " device_type: \"XLA_GPU\"\n",
       " memory_limit: 17179869184\n",
       " locality {\n",
       " }\n",
       " incarnation: 11660980289065082405\n",
       " physical_device_desc: \"device: XLA_GPU device\", name: \"/device:XLA_CPU:0\"\n",
       " device_type: \"XLA_CPU\"\n",
       " memory_limit: 17179869184\n",
       " locality {\n",
       " }\n",
       " incarnation: 9220904896319984440\n",
       " physical_device_desc: \"device: XLA_CPU device\", name: \"/device:GPU:0\"\n",
       " device_type: \"GPU\"\n",
       " memory_limit: 3529506816\n",
       " locality {\n",
       "   bus_id: 1\n",
       "   links {\n",
       "   }\n",
       " }\n",
       " incarnation: 8517608385093256816\n",
       " physical_device_desc: \"device: 0, name: GeForce GTX 980, pci bus id: 0000:01:00.0, compute capability: 5.2\"]"
      ]
     },
     "execution_count": 1,
     "metadata": {},
     "output_type": "execute_result"
    }
   ],
   "source": [
    "#TensorFlowがGPUを認識しているか確認\n",
    "from tensorflow.python.client import device_lib\n",
    "device_lib.list_local_devices()"
   ]
  },
  {
   "cell_type": "code",
   "execution_count": 1,
   "metadata": {},
   "outputs": [
    {
     "name": "stderr",
     "output_type": "stream",
     "text": [
      "/home/cuda/.local/lib/python3.6/site-packages/tensorflow/python/framework/dtypes.py:526: FutureWarning: Passing (type, 1) or '1type' as a synonym of type is deprecated; in a future version of numpy, it will be understood as (type, (1,)) / '(1,)type'.\n",
      "  _np_qint8 = np.dtype([(\"qint8\", np.int8, 1)])\n",
      "/home/cuda/.local/lib/python3.6/site-packages/tensorflow/python/framework/dtypes.py:527: FutureWarning: Passing (type, 1) or '1type' as a synonym of type is deprecated; in a future version of numpy, it will be understood as (type, (1,)) / '(1,)type'.\n",
      "  _np_quint8 = np.dtype([(\"quint8\", np.uint8, 1)])\n",
      "/home/cuda/.local/lib/python3.6/site-packages/tensorflow/python/framework/dtypes.py:528: FutureWarning: Passing (type, 1) or '1type' as a synonym of type is deprecated; in a future version of numpy, it will be understood as (type, (1,)) / '(1,)type'.\n",
      "  _np_qint16 = np.dtype([(\"qint16\", np.int16, 1)])\n",
      "/home/cuda/.local/lib/python3.6/site-packages/tensorflow/python/framework/dtypes.py:529: FutureWarning: Passing (type, 1) or '1type' as a synonym of type is deprecated; in a future version of numpy, it will be understood as (type, (1,)) / '(1,)type'.\n",
      "  _np_quint16 = np.dtype([(\"quint16\", np.uint16, 1)])\n",
      "/home/cuda/.local/lib/python3.6/site-packages/tensorflow/python/framework/dtypes.py:530: FutureWarning: Passing (type, 1) or '1type' as a synonym of type is deprecated; in a future version of numpy, it will be understood as (type, (1,)) / '(1,)type'.\n",
      "  _np_qint32 = np.dtype([(\"qint32\", np.int32, 1)])\n",
      "/home/cuda/.local/lib/python3.6/site-packages/tensorflow/python/framework/dtypes.py:535: FutureWarning: Passing (type, 1) or '1type' as a synonym of type is deprecated; in a future version of numpy, it will be understood as (type, (1,)) / '(1,)type'.\n",
      "  np_resource = np.dtype([(\"resource\", np.ubyte, 1)])\n",
      "Using TensorFlow backend.\n"
     ]
    }
   ],
   "source": [
    "#tensorflowをtfとしてインポート\n",
    "import tensorflow as tf\n",
    "\n",
    "#pltをインポート\n",
    "%matplotlib inline\n",
    "import matplotlib.pyplot as plt\n",
    "\n",
    "import keras\n",
    "from keras.utils import np_utils\n",
    "from keras.layers.convolutional import Conv2D, MaxPooling2D\n",
    "from keras.models import Sequential, Model\n",
    "from keras.layers.core import Dense, Dropout, Activation, Flatten\n",
    "from keras.preprocessing.image import array_to_img, img_to_array, load_img\n",
    "import numpy as np\n",
    "import pandas as pd\n",
    "from sklearn.model_selection import train_test_split\n",
    "import matplotlib.pyplot as plt\n",
    "import os\n",
    "import re"
   ]
  },
  {
   "cell_type": "code",
   "execution_count": 3,
   "metadata": {},
   "outputs": [
    {
     "name": "stdout",
     "output_type": "stream",
     "text": [
      "_________________________________________________________________\n",
      "Layer (type)                 Output Shape              Param #   \n",
      "=================================================================\n",
      "conv2d_3 (Conv2D)            (None, 64, 64, 1)         10        \n",
      "_________________________________________________________________\n",
      "activation_4 (Activation)    (None, 64, 64, 1)         0         \n",
      "_________________________________________________________________\n",
      "max_pooling2d_3 (MaxPooling2 (None, 32, 32, 1)         0         \n",
      "_________________________________________________________________\n",
      "conv2d_4 (Conv2D)            (None, 32, 32, 2)         20        \n",
      "_________________________________________________________________\n",
      "activation_5 (Activation)    (None, 32, 32, 2)         0         \n",
      "_________________________________________________________________\n",
      "max_pooling2d_4 (MaxPooling2 (None, 16, 16, 2)         0         \n",
      "_________________________________________________________________\n",
      "flatten_2 (Flatten)          (None, 512)               0         \n",
      "_________________________________________________________________\n",
      "dense_2 (Dense)              (None, 5)                 2565      \n",
      "_________________________________________________________________\n",
      "activation_6 (Activation)    (None, 5)                 0         \n",
      "=================================================================\n",
      "Total params: 2,595\n",
      "Trainable params: 2,595\n",
      "Non-trainable params: 0\n",
      "_________________________________________________________________\n"
     ]
    }
   ],
   "source": [
    "#import circle.py\n",
    "from keras.models import Sequential\n",
    "from keras.layers import Activation,Dense,Dropout, Flatten\n",
    "from keras.layers import Conv2D, MaxPooling2D\n",
    "from keras.preprocessing.image import ImageDataGenerator\n",
    "\n",
    "x_train, x_test, y_train, y_test = np.load('./data/dataset.npy', allow_pickle = True)\n",
    "batch_size = 1\n",
    "epochs = 1\n",
    "\n",
    "#モデルを作成\n",
    "model = Sequential()\n",
    "#conv１層目\n",
    "model.add(Conv2D(1, (3, 3), padding='same', input_shape=(64, 64, 1)))\n",
    "model.add(Activation('relu'))\n",
    "model.add(MaxPooling2D(pool_size=(2, 2)))\n",
    "\n",
    "#conv２層目\n",
    "model.add(Conv2D(2, (3, 3),padding='same'))\n",
    "model.add(Activation('relu'))\n",
    "model.add(MaxPooling2D(pool_size=(2, 2)))\n",
    "\n",
    "#conv３層目\n",
    "#model.add(Conv2D(128, (3, 3), padding='same'))\n",
    "#model.add(Activation('relu'))\n",
    "#model.add(MaxPooling2D(pool_size=(2,2)))\n",
    "        \n",
    "#conv４層目\n",
    "#model.add(Conv2D(256, (3, 3), padding='same'))\n",
    "#model.add(Activation('relu'))\n",
    "#model.add(MaxPooling2D(pool_size=(2,2)))\n",
    "\n",
    "#conv５層目\n",
    "#model.add(Conv2D(512, (3, 3), padding='same'))\n",
    "#model.add(Activation('relu'))\n",
    "        \n",
    "#conv６層目\n",
    "#model.add(Conv2D(256, (1, 1), padding='same'))\n",
    "#model.add(Activation('relu'))\n",
    "\n",
    "#conv７層目          \n",
    "#model.add(Conv2D(512, (3, 3), padding='same'))\n",
    "#model.add(Activation('relu'))\n",
    "\n",
    "#conv８層目          \n",
    "#model.add(Conv2D(256, (1, 1), padding='same'))\n",
    "#model.add(Activation('relu'))\n",
    "          \n",
    "model.add(Flatten())\n",
    "#model.add(Dropout(0.5))\n",
    "#model.add(Dense(64))\n",
    "#model.add(Activation('relu'))\n",
    "model.add(Dense(5))\n",
    "model.add(Activation('softmax'))\n",
    "          \n",
    "# サマリーを出力\n",
    "model.summary()"
   ]
  },
  {
   "cell_type": "code",
   "execution_count": 6,
   "metadata": {},
   "outputs": [
    {
     "name": "stdout",
     "output_type": "stream",
     "text": [
      "Train on 35840 samples, validate on 8960 samples\n",
      "Epoch 1/20\n",
      "35840/35840 [==============================] - 4s 125us/step - loss: 0.0017 - acc: 0.9999 - val_loss: 0.0082 - val_acc: 0.9972\n",
      "Epoch 2/20\n",
      "35840/35840 [==============================] - 4s 118us/step - loss: 0.0014 - acc: 1.0000 - val_loss: 0.0078 - val_acc: 0.9972\n",
      "Epoch 3/20\n",
      "35840/35840 [==============================] - 4s 119us/step - loss: 0.0013 - acc: 1.0000 - val_loss: 0.0068 - val_acc: 0.9984\n",
      "Epoch 4/20\n",
      "35840/35840 [==============================] - 4s 118us/step - loss: 0.0013 - acc: 1.0000 - val_loss: 0.0067 - val_acc: 0.9977\n",
      "Epoch 5/20\n",
      "35840/35840 [==============================] - 4s 119us/step - loss: 0.0012 - acc: 1.0000 - val_loss: 0.0060 - val_acc: 0.9983\n",
      "Epoch 6/20\n",
      "35840/35840 [==============================] - 4s 119us/step - loss: 0.0011 - acc: 1.0000 - val_loss: 0.0063 - val_acc: 0.9979\n",
      "Epoch 7/20\n",
      "35840/35840 [==============================] - 4s 120us/step - loss: 0.0016 - acc: 0.9997 - val_loss: 0.0075 - val_acc: 0.9973\n",
      "Epoch 8/20\n",
      "35840/35840 [==============================] - 4s 121us/step - loss: 0.0012 - acc: 1.0000 - val_loss: 0.0057 - val_acc: 0.9982\n",
      "Epoch 9/20\n",
      "35840/35840 [==============================] - 4s 119us/step - loss: 8.3293e-04 - acc: 1.0000 - val_loss: 0.0051 - val_acc: 0.9988\n",
      "Epoch 10/20\n",
      "35840/35840 [==============================] - 4s 120us/step - loss: 8.4213e-04 - acc: 1.0000 - val_loss: 0.0048 - val_acc: 0.9984\n",
      "Epoch 11/20\n",
      "35840/35840 [==============================] - 4s 120us/step - loss: 8.3440e-04 - acc: 1.0000 - val_loss: 0.0057 - val_acc: 0.9982\n",
      "Epoch 12/20\n",
      "35840/35840 [==============================] - 4s 120us/step - loss: 9.2338e-04 - acc: 1.0000 - val_loss: 0.0068 - val_acc: 0.9978\n",
      "Epoch 13/20\n",
      "35840/35840 [==============================] - 4s 121us/step - loss: 8.8348e-04 - acc: 1.0000 - val_loss: 0.0049 - val_acc: 0.9988\n",
      "Epoch 14/20\n",
      "35840/35840 [==============================] - 4s 123us/step - loss: 7.8797e-04 - acc: 1.0000 - val_loss: 0.0062 - val_acc: 0.9980\n",
      "Epoch 15/20\n",
      "35840/35840 [==============================] - 4s 119us/step - loss: 8.0950e-04 - acc: 1.0000 - val_loss: 0.0053 - val_acc: 0.9982\n",
      "Epoch 16/20\n",
      "35840/35840 [==============================] - 4s 120us/step - loss: 6.8723e-04 - acc: 1.0000 - val_loss: 0.0051 - val_acc: 0.9985\n",
      "Epoch 17/20\n",
      "35840/35840 [==============================] - 4s 120us/step - loss: 6.3361e-04 - acc: 1.0000 - val_loss: 0.0053 - val_acc: 0.9981\n",
      "Epoch 18/20\n",
      "35840/35840 [==============================] - 4s 122us/step - loss: 7.9034e-04 - acc: 1.0000 - val_loss: 0.0059 - val_acc: 0.9979\n",
      "Epoch 19/20\n",
      "35840/35840 [==============================] - 4s 121us/step - loss: 6.3987e-04 - acc: 1.0000 - val_loss: 0.0053 - val_acc: 0.9982\n",
      "Epoch 20/20\n",
      "35840/35840 [==============================] - 4s 124us/step - loss: 4.9855e-04 - acc: 1.0000 - val_loss: 0.0049 - val_acc: 0.9981\n"
     ]
    }
   ],
   "source": [
    "#モデルのコンパイル\n",
    "WEIGHTS_PATH = 'layer2channel1_weights.hdf5'\n",
    "model.load_weights(WEIGHTS_PATH)\n",
    "model.compile(optimizer='adam',\n",
    "                           loss='categorical_crossentropy',\n",
    "                           metrics=['accuracy'])\n",
    "\n",
    "#予測\n",
    "history = model.fit(x_train, y_train, epochs=20, validation_data = (x_test, y_test))"
   ]
  },
  {
   "cell_type": "code",
   "execution_count": 5,
   "metadata": {},
   "outputs": [
    {
     "name": "stdout",
     "output_type": "stream",
     "text": [
      "8960/8960 [==============================] - 1s 95us/step\n",
      "test loss: 1.4574745453696128e-07\n",
      "test acc: 1.0\n"
     ]
    }
   ],
   "source": [
    "#学習済みのモデルでテスト\n",
    "score = model.evaluate(x_test, y_test)\n",
    "print('test loss:',score[0])\n",
    "print('test acc:',score[1])"
   ]
  },
  {
   "cell_type": "code",
   "execution_count": 6,
   "metadata": {},
   "outputs": [
    {
     "ename": "KeyError",
     "evalue": "'accuracy'",
     "output_type": "error",
     "traceback": [
      "\u001b[0;31m---------------------------------------------------------------------------\u001b[0m",
      "\u001b[0;31mKeyError\u001b[0m                                  Traceback (most recent call last)",
      "\u001b[0;32m<ipython-input-6-e8ae370d0f4b>\u001b[0m in \u001b[0;36m<module>\u001b[0;34m\u001b[0m\n\u001b[1;32m      2\u001b[0m \u001b[0mloss\u001b[0m \u001b[0;34m=\u001b[0m \u001b[0mhistory\u001b[0m\u001b[0;34m.\u001b[0m\u001b[0mhistory\u001b[0m\u001b[0;34m[\u001b[0m\u001b[0;34m'loss'\u001b[0m\u001b[0;34m]\u001b[0m\u001b[0;34m\u001b[0m\u001b[0;34m\u001b[0m\u001b[0m\n\u001b[1;32m      3\u001b[0m \u001b[0mval_loss\u001b[0m \u001b[0;34m=\u001b[0m \u001b[0mhistory\u001b[0m\u001b[0;34m.\u001b[0m\u001b[0mhistory\u001b[0m\u001b[0;34m[\u001b[0m\u001b[0;34m'val_loss'\u001b[0m\u001b[0;34m]\u001b[0m\u001b[0;34m\u001b[0m\u001b[0;34m\u001b[0m\u001b[0m\n\u001b[0;32m----> 4\u001b[0;31m \u001b[0macc\u001b[0m \u001b[0;34m=\u001b[0m \u001b[0mhistory\u001b[0m\u001b[0;34m.\u001b[0m\u001b[0mhistory\u001b[0m\u001b[0;34m[\u001b[0m\u001b[0;34m'accuracy'\u001b[0m\u001b[0;34m]\u001b[0m\u001b[0;34m\u001b[0m\u001b[0;34m\u001b[0m\u001b[0m\n\u001b[0m\u001b[1;32m      5\u001b[0m \u001b[0mval_acc\u001b[0m \u001b[0;34m=\u001b[0m \u001b[0mhistory\u001b[0m\u001b[0;34m.\u001b[0m\u001b[0mhistory\u001b[0m\u001b[0;34m[\u001b[0m\u001b[0;34m'val_accuracy'\u001b[0m\u001b[0;34m]\u001b[0m\u001b[0;34m\u001b[0m\u001b[0;34m\u001b[0m\u001b[0m\n\u001b[1;32m      6\u001b[0m \u001b[0mepochs\u001b[0m \u001b[0;34m=\u001b[0m \u001b[0mlen\u001b[0m\u001b[0;34m(\u001b[0m\u001b[0mloss\u001b[0m\u001b[0;34m)\u001b[0m\u001b[0;34m\u001b[0m\u001b[0;34m\u001b[0m\u001b[0m\n",
      "\u001b[0;31mKeyError\u001b[0m: 'accuracy'"
     ]
    }
   ],
   "source": [
    "# 学習結果を表示\n",
    "loss = history.history['loss']\n",
    "val_loss = history.history['val_loss']\n",
    "acc = history.history['accuracy']\n",
    "val_acc = history.history['val_accuracy']\n",
    "epochs = len(loss)\n",
    "\n",
    "#訓練データ(トレーニングデータ)とは、機械学習の教師あり学習において、人工知能のニューラルネットワークがあらかじめ与えられる、例題と答えについてのデータ。\n",
    "#この大量のデータをもとに、ニューラルネットワーク自体が出力結果の正否を判断し、最適化を行う。\n",
    "#統計学や機械学習において何らかの推定を行う際に、トレーニングデータだけでは学習されたモデルを十分に評価できないという問題がある。\n",
    "#この問題は過剰適合や過学習と呼ばれる。この問題を解決するために、学習に用いないデータを用意し、いくつかの学習モデルの評価を行うことがある。\n",
    "#この、評価を行うためのデータがテストデータと呼ばれる。\n",
    "#交差検証においては、標本データをあらかじめトレーニングデータとテストデータに分割し、トレーニングデータで学習し、\n",
    "#テストデータに学習モデルを適用させることで性能の評価を行う。\n",
    "plt.plot(range(epochs), loss, label='loss(training data)') #トレーニングデータに対する判定結果のloss\n",
    "plt.plot(range(epochs), val_loss, label='val_loss(test data)')\n",
    "plt.legend(loc='best')\n",
    "plt.grid()\n",
    "plt.xlabel('epoch')\n",
    "plt.ylabel('loss')\n",
    "plt.show()\n",
    "\n",
    "plt.plot(range(epochs), acc, label='acc(training data)')\n",
    "plt.plot(range(epochs), val_acc,  label='val_acc(test data)')\n",
    "plt.legend(loc='best')\n",
    "plt.grid()\n",
    "plt.xlabel('epoch')\n",
    "plt.ylabel('acc')\n",
    "plt.show()"
   ]
  },
  {
   "cell_type": "code",
   "execution_count": 6,
   "metadata": {},
   "outputs": [
    {
     "name": "stdout",
     "output_type": "stream",
     "text": [
      "8960/8960 [==============================] - 0s 50us/step\n",
      "[1.7951113e-09 1.0000000e+00]\n"
     ]
    }
   ],
   "source": [
    "classes = model.predict(x_test, batch_size=128, verbose=True)\n",
    "print(classes[0])"
   ]
  },
  {
   "cell_type": "code",
   "execution_count": 11,
   "metadata": {},
   "outputs": [],
   "source": [
    "#circleに対して、各画像のクラス確率\n",
    "from keras.preprocessing.image import img_to_array, load_img\n",
    "from keras.models import load_model\n",
    "import numpy as np\n",
    "import glob\n",
    "\n",
    "# テストする画像が入っているディレクトリ\n",
    "img_path = './data/circle/'\n",
    "\n",
    "img_list = glob.glob(img_path + '*')\n",
    "size = (64, 64, 1)\n",
    "\n",
    "for index, i in enumerate(img_list):\n",
    "    # 画像をサイズを変えて読み込み、配列化\n",
    "    test_img = img_to_array(load_img(i, grayscale=True, target_size=size))\n",
    "    # 0~1の範囲にする\n",
    "    test_img = test_img / 255\n",
    "    # 4次元配列に\n",
    "    test_img = test_img[np.newaxis, ...]\n",
    "    # 予測\n",
    "    pre = model.predict(test_img)\n",
    "    #if np.max(pre[0]) == pre[0, 0]:\n",
    "     #   print(f'{img_list[index]} -> {pre} は circle')\n",
    "    if np.max(pre[0]) == pre[0, 1]:\n",
    "        print(f'{img_list[index]} -> {pre} は other')\n",
    "        "
   ]
  },
  {
   "cell_type": "code",
   "execution_count": 25,
   "metadata": {},
   "outputs": [],
   "source": [
    "#circleに対して、各画像のクラス確率\n",
    "from keras.preprocessing.image import img_to_array, load_img\n",
    "from keras.models import load_model\n",
    "import numpy as np\n",
    "import glob\n",
    "\n",
    "# テストする画像が入っているディレクトリ\n",
    "img_path = './data/other/'\n",
    "\n",
    "img_list = glob.glob(img_path + '*')\n",
    "size = (64, 64, 1)\n",
    "\n",
    "for index, i in enumerate(img_list):\n",
    "    # 画像をサイズを変えて読み込み、配列化\n",
    "    test_img = img_to_array(load_img(i, grayscale=True, target_size=size))\n",
    "    # 0~1の範囲にする\n",
    "    test_img = test_img / 255\n",
    "    # 4次元配列に\n",
    "    test_img = test_img[np.newaxis, ...]\n",
    "    # 予測\n",
    "    pre = model.predict(test_img)\n",
    "    if np.max(pre[0]) == pre[0, 0]:\n",
    "        print(f'{img_list[index]} -> {pre} は circle')\n",
    "        #if np.max(pre[0]) == pre[0, 1]:\n",
    "         #   print(f'{img_list[index]} -> {pre} は other')"
   ]
  },
  {
   "cell_type": "code",
   "execution_count": 5,
   "metadata": {},
   "outputs": [],
   "source": [
    "#save model\n",
    "model_layer2channel1_json = model.to_json()\n",
    "open(\"model_architecture.json\", mode='w').write(model_layer2channel1_json)\n",
    "\n",
    "#save weight\n",
    "model.save_weights(\"layer2channel1_weights.hdf5\")"
   ]
  },
  {
   "cell_type": "code",
   "execution_count": 9,
   "metadata": {},
   "outputs": [
    {
     "data": {
      "text/plain": [
       "[<tf.Tensor 'conv2d_1/BiasAdd:0' shape=(?, 64, 64, 2) dtype=float32>,\n",
       " <tf.Tensor 'activation_1/Relu:0' shape=(?, 64, 64, 2) dtype=float32>,\n",
       " <tf.Tensor 'max_pooling2d_1/MaxPool:0' shape=(?, 32, 32, 2) dtype=float32>,\n",
       " <tf.Tensor 'conv2d_2/BiasAdd:0' shape=(?, 32, 32, 3) dtype=float32>,\n",
       " <tf.Tensor 'activation_2/Relu:0' shape=(?, 32, 32, 3) dtype=float32>,\n",
       " <tf.Tensor 'max_pooling2d_2/MaxPool:0' shape=(?, 16, 16, 3) dtype=float32>]"
      ]
     },
     "execution_count": 9,
     "metadata": {},
     "output_type": "execute_result"
    }
   ],
   "source": [
    "#出力する中間層を指定\n",
    "layer_outputs = [layer.output for layer in model.layers[0:6]]\n",
    "layer_outputs"
   ]
  },
  {
   "cell_type": "code",
   "execution_count": 10,
   "metadata": {},
   "outputs": [
    {
     "name": "stdout",
     "output_type": "stream",
     "text": [
      "_________________________________________________________________\n",
      "Layer (type)                 Output Shape              Param #   \n",
      "=================================================================\n",
      "conv2d_1_input (InputLayer)  (None, 64, 64, 1)         0         \n",
      "_________________________________________________________________\n",
      "conv2d_1 (Conv2D)            (None, 64, 64, 2)         20        \n",
      "_________________________________________________________________\n",
      "activation_1 (Activation)    (None, 64, 64, 2)         0         \n",
      "_________________________________________________________________\n",
      "max_pooling2d_1 (MaxPooling2 (None, 32, 32, 2)         0         \n",
      "_________________________________________________________________\n",
      "conv2d_2 (Conv2D)            (None, 32, 32, 3)         57        \n",
      "_________________________________________________________________\n",
      "activation_2 (Activation)    (None, 32, 32, 3)         0         \n",
      "_________________________________________________________________\n",
      "max_pooling2d_2 (MaxPooling2 (None, 16, 16, 3)         0         \n",
      "=================================================================\n",
      "Total params: 77\n",
      "Trainable params: 77\n",
      "Non-trainable params: 0\n",
      "_________________________________________________________________\n"
     ]
    }
   ],
   "source": [
    "#中間層を出力するモデルを作成\n",
    "activation_model = Model(inputs=model.input, outputs=layer_outputs)\n",
    "activation_model.summary()"
   ]
  },
  {
   "cell_type": "code",
   "execution_count": 20,
   "metadata": {},
   "outputs": [
    {
     "data": {
      "text/plain": [
       "array([[[[-0.2206546 ,  0.00501592, -0.26470432],\n",
       "         [ 0.9095327 ,  0.9009375 , -0.37983507]],\n",
       "\n",
       "        [[-0.22249958, -0.14039417,  0.006656  ],\n",
       "         [ 0.69379836,  0.1867752 , -0.35738868]],\n",
       "\n",
       "        [[-0.567179  ,  0.05778028, -0.16729088],\n",
       "         [ 0.35049447,  0.68656236, -0.42309698]]],\n",
       "\n",
       "\n",
       "       [[[ 0.15881315, -0.09112888,  0.27642033],\n",
       "         [ 0.6352206 , -0.01584808, -0.06245955]],\n",
       "\n",
       "        [[ 0.22239105,  0.05043314, -0.03615238],\n",
       "         [ 0.8220208 , -0.7111475 , -0.51203185]],\n",
       "\n",
       "        [[-0.02268911, -0.17690933,  0.13262643],\n",
       "         [ 0.90476656, -0.50630105, -0.3520477 ]]],\n",
       "\n",
       "\n",
       "       [[[-0.05807273, -0.06222914,  0.16537751],\n",
       "         [ 0.26103002,  0.9341995 , -0.16646078]],\n",
       "\n",
       "        [[-0.11415138,  0.0655703 ,  0.3592113 ],\n",
       "         [ 0.47086972,  0.4201988 , -0.2678395 ]],\n",
       "\n",
       "        [[ 0.10650814,  0.0505979 , -0.33318737],\n",
       "         [ 0.7077187 ,  0.308249  , -0.12868139]]]], dtype=float32)"
      ]
     },
     "execution_count": 20,
     "metadata": {},
     "output_type": "execute_result"
    }
   ],
   "source": [
    "weights = model.get_layer(\"conv2d_2\").get_weights()[0]\n",
    "weights.shape\n",
    "weights"
   ]
  },
  {
   "cell_type": "code",
   "execution_count": 24,
   "metadata": {},
   "outputs": [
    {
     "data": {
      "image/png": "[encoded data removed]",
      "text/plain": [
       "<Figure size 432x288 with 2 Axes>"
      ]
     },
     "metadata": {},
     "output_type": "display_data"
    }
   ],
   "source": [
    "def plot_conv_weights(filters):\n",
    "    filter_num = filters.shape[3]\n",
    "    \n",
    "    for i in range(filter_num):\n",
    "        plt.subplot(filter_num/6 + 1, 4, i+1)\n",
    "        plt.imshow(filters[:,:,0,i], cmap=\"gray\")\n",
    "        plt.xticks([])\n",
    "        plt.yticks([])\n",
    "        \n",
    "plot_conv_weights(model.layers[0].get_weights()[0])"
   ]
  },
  {
   "cell_type": "code",
   "execution_count": 35,
   "metadata": {},
   "outputs": [
    {
     "data": {
      "image/png": "[encoded data removed]",
      "text/plain": [
       "<Figure size 432x288 with 3 Axes>"
      ]
     },
     "metadata": {},
     "output_type": "display_data"
    }
   ],
   "source": [
    "def plot_conv_weights(filters):\n",
    "    filter_num = filters.shape[3]\n",
    "    \n",
    "    for i in range(filter_num):\n",
    "        plt.subplot(filter_num/6 + 1, 4, i+1)\n",
    "        plt.imshow(filters[:,:,0,i], cmap=\"gray\")\n",
    "        plt.xticks([])\n",
    "        plt.yticks([])\n",
    "        \n",
    "plot_conv_weights(model.layers[3].get_weights()[0])"
   ]
  },
  {
   "cell_type": "code",
   "execution_count": 27,
   "metadata": {},
   "outputs": [
    {
     "name": "stdout",
     "output_type": "stream",
     "text": [
      "(1, 64, 64, 1)\n",
      "(1, 64, 64, 2)\n"
     ]
    },
    {
     "data": {
      "image/png": "[encoded data removed]",
      "text/plain": [
       "<Figure size 432x288 with 1 Axes>"
      ]
     },
     "metadata": {},
     "output_type": "display_data"
    },
    {
     "data": {
      "image/png": "[encoded data removed]",
      "text/plain": [
       "<Figure size 432x288 with 1 Axes>"
      ]
     },
     "metadata": {},
     "output_type": "display_data"
    }
   ],
   "source": [
    "#円の特徴マップ\n",
    "#check input image\n",
    "img_path = './data/circle/circler12_1105.jpg'\n",
    "#img_list = glob.glob(img_path + '*')\n",
    "size = (64, 64, 1)\n",
    "img = load_img(img_path, grayscale = True, target_size=size)\n",
    "x = img_to_array(img)\n",
    "#x = np.expand_dims(x, axis=0)\n",
    "img_tensor = x/255\n",
    "img_tensor = img_tensor[np.newaxis, ...]\n",
    "print(img_tensor.shape)\n",
    "#plt.imshow(img_tensor[0])\n",
    "#plt.show()\n",
    "\n",
    "activations = activation_model.predict(img_tensor)\n",
    "#print(len(activations))\n",
    "#print(activations)\n",
    "\n",
    "first_layer_activation = activations[1]\n",
    "print(first_layer_activation.shape)\n",
    "\n",
    "k = 0\n",
    "for i in range(2):\n",
    "    plt.imshow(first_layer_activation[0,:,:,i],cmap=\"gray\")\n",
    "    plt.xticks([])\n",
    "    plt.yticks([])\n",
    "    plt.savefig('data/l2c23/circle/lay2chan23circle12_1105_%d.jpg'%k)\n",
    "    k = k + 1\n",
    "    plt.show()"
   ]
  },
  {
   "cell_type": "code",
   "execution_count": 37,
   "metadata": {},
   "outputs": [
    {
     "name": "stdout",
     "output_type": "stream",
     "text": [
      "(1, 64, 64, 1)\n",
      "(1, 32, 32, 3)\n"
     ]
    },
    {
     "data": {
      "image/png": "[encoded data removed]",
      "text/plain": [
       "<Figure size 432x288 with 1 Axes>"
      ]
     },
     "metadata": {},
     "output_type": "display_data"
    },
    {
     "data": {
      "image/png": "[encoded data removed]",
      "text/plain": [
       "<Figure size 432x288 with 1 Axes>"
      ]
     },
     "metadata": {},
     "output_type": "display_data"
    },
    {
     "data": {
      "image/png": "[encoded data removed]",
      "text/plain": [
       "<Figure size 432x288 with 1 Axes>"
      ]
     },
     "metadata": {},
     "output_type": "display_data"
    }
   ],
   "source": [
    "#円の特徴マップ\n",
    "#check input image\n",
    "img_path = './data/circle/circler12_1105.jpg'\n",
    "#img_list = glob.glob(img_path + '*')\n",
    "size = (64, 64, 1)\n",
    "img = load_img(img_path, grayscale = True, target_size=size)\n",
    "x = img_to_array(img)\n",
    "#x = np.expand_dims(x, axis=0)\n",
    "img_tensor = x/255\n",
    "img_tensor = img_tensor[np.newaxis, ...]\n",
    "print(img_tensor.shape)\n",
    "#plt.imshow(img_tensor[0])\n",
    "#plt.show()\n",
    "\n",
    "activations = activation_model.predict(img_tensor)\n",
    "#print(len(activations))\n",
    "#print(activations)\n",
    "\n",
    "first_layer_activation = activations[4]\n",
    "print(first_layer_activation.shape)\n",
    "\n",
    "k = 0\n",
    "for i in range(3):\n",
    "    plt.imshow(first_layer_activation[0,:,:,i],cmap=\"gray\")\n",
    "    plt.xticks([])\n",
    "    plt.yticks([])\n",
    "    plt.savefig('data/l2c23/circle/lay2chan23secondcircle12_1105_%d.jpg'%k)\n",
    "    k = k + 1\n",
    "    plt.show()"
   ]
  },
  {
   "cell_type": "code",
   "execution_count": 38,
   "metadata": {},
   "outputs": [
    {
     "name": "stdout",
     "output_type": "stream",
     "text": [
      "(1, 64, 64, 1)\n",
      "(1, 64, 64, 2)\n"
     ]
    },
    {
     "data": {
      "image/png": "[encoded data removed]",
      "text/plain": [
       "<Figure size 432x288 with 1 Axes>"
      ]
     },
     "metadata": {},
     "output_type": "display_data"
    },
    {
     "data": {
      "image/png": "[encoded data removed]",
      "text/plain": [
       "<Figure size 432x288 with 1 Axes>"
      ]
     },
     "metadata": {},
     "output_type": "display_data"
    }
   ],
   "source": [
    "#三角形の特徴マップ\n",
    "#check input image\n",
    "img_path = './data/other/triangle12_1105.jpg'\n",
    "#img_list = glob.glob(img_path + '*')\n",
    "size = (64, 64, 1)\n",
    "img = load_img(img_path, grayscale = True, target_size=size)\n",
    "x = img_to_array(img)\n",
    "#x = np.expand_dims(x, axis=0)\n",
    "img_tensor = x/255\n",
    "img_tensor = img_tensor[np.newaxis, ...]\n",
    "print(img_tensor.shape)\n",
    "#plt.imshow(img_tensor[0])\n",
    "#plt.show()\n",
    "\n",
    "activations = activation_model.predict(img_tensor)\n",
    "#print(len(activations))\n",
    "#print(activations)\n",
    "\n",
    "first_layer_activation = activations[1]\n",
    "print(first_layer_activation.shape)\n",
    "\n",
    "k = 0\n",
    "for i in range(2):\n",
    "    plt.imshow(first_layer_activation[0,:,:,i],cmap=\"gray\")\n",
    "    plt.xticks([])\n",
    "    plt.yticks([])\n",
    "    plt.savefig('data/l2c23/triangle/lay2chan23triangle12_1105_%d.jpg'%k)\n",
    "    k = k + 1\n",
    "    plt.show()"
   ]
  },
  {
   "cell_type": "code",
   "execution_count": 44,
   "metadata": {},
   "outputs": [
    {
     "name": "stdout",
     "output_type": "stream",
     "text": [
      "(1, 64, 64, 1)\n",
      "(1, 32, 32, 3)\n"
     ]
    },
    {
     "data": {
      "image/png": "[encoded data removed]",
      "text/plain": [
       "<Figure size 432x288 with 1 Axes>"
      ]
     },
     "metadata": {},
     "output_type": "display_data"
    },
    {
     "data": {
      "image/png": "[encoded data removed]",
      "text/plain": [
       "<Figure size 432x288 with 1 Axes>"
      ]
     },
     "metadata": {},
     "output_type": "display_data"
    },
    {
     "data": {
      "image/png": "[encoded data removed]",
      "text/plain": [
       "<Figure size 432x288 with 1 Axes>"
      ]
     },
     "metadata": {},
     "output_type": "display_data"
    }
   ],
   "source": [
    "#三角形の特徴マップ\n",
    "#check input image\n",
    "img_path = './data/other/triangle12_1105.jpg'\n",
    "#img_list = glob.glob(img_path + '*')\n",
    "size = (64, 64, 1)\n",
    "img = load_img(img_path, grayscale = True, target_size=size)\n",
    "x = img_to_array(img)\n",
    "#x = np.expand_dims(x, axis=0)\n",
    "img_tensor = x/255\n",
    "img_tensor = img_tensor[np.newaxis, ...]\n",
    "print(img_tensor.shape)\n",
    "#plt.imshow(img_tensor[0])\n",
    "#plt.show()\n",
    "\n",
    "activations = activation_model.predict(img_tensor)\n",
    "#print(len(activations))\n",
    "#print(activations)\n",
    "\n",
    "first_layer_activation = activations[4]\n",
    "print(first_layer_activation.shape)\n",
    "\n",
    "k = 0\n",
    "for i in range(3):\n",
    "    plt.imshow(first_layer_activation[0,:,:,i],cmap=\"gray\")\n",
    "    plt.xticks([])\n",
    "    plt.yticks([])\n",
    "    plt.savefig('data/l2c23/triangle/lay2chan23secondtriangle12_1105_%d.jpg'%k)\n",
    "    k = k + 1\n",
    "    plt.show()"
   ]
  },
  {
   "cell_type": "code",
   "execution_count": 45,
   "metadata": {},
   "outputs": [
    {
     "name": "stdout",
     "output_type": "stream",
     "text": [
      "(1, 64, 64, 1)\n",
      "(1, 64, 64, 2)\n"
     ]
    },
    {
     "data": {
      "image/png": "[encoded data removed]",
      "text/plain": [
       "<Figure size 432x288 with 1 Axes>"
      ]
     },
     "metadata": {},
     "output_type": "display_data"
    },
    {
     "data": {
      "image/png": "[encoded data removed]",
      "text/plain": [
       "<Figure size 432x288 with 1 Axes>"
      ]
     },
     "metadata": {},
     "output_type": "display_data"
    }
   ],
   "source": [
    "#四角形の特徴マップ\n",
    "#check input image\n",
    "img_path = './data/other/rectangle12_1105.jpg'\n",
    "#img_list = glob.glob(img_path + '*')\n",
    "size = (64, 64, 1)\n",
    "img = load_img(img_path, grayscale = True, target_size=size)\n",
    "x = img_to_array(img)\n",
    "#x = np.expand_dims(x, axis=0)\n",
    "img_tensor = x/255\n",
    "img_tensor = img_tensor[np.newaxis, ...]\n",
    "print(img_tensor.shape)\n",
    "#plt.imshow(img_tensor[0])\n",
    "#plt.show()\n",
    "\n",
    "activations = activation_model.predict(img_tensor)\n",
    "#print(len(activations))\n",
    "#print(activations)\n",
    "\n",
    "first_layer_activation = activations[1]\n",
    "print(first_layer_activation.shape)\n",
    "\n",
    "k = 0\n",
    "for i in range(2):\n",
    "    plt.imshow(first_layer_activation[0,:,:,i],cmap=\"gray\")\n",
    "    plt.xticks([])\n",
    "    plt.yticks([])\n",
    "    plt.savefig('data/l2c23/rectangle/lay2chan23rectangle12_1105_%d.jpg'%k)\n",
    "    k = k + 1\n",
    "    plt.show()"
   ]
  },
  {
   "cell_type": "code",
   "execution_count": 47,
   "metadata": {},
   "outputs": [
    {
     "name": "stdout",
     "output_type": "stream",
     "text": [
      "(1, 64, 64, 1)\n",
      "(1, 32, 32, 3)\n"
     ]
    },
    {
     "data": {
      "image/png": "[encoded data removed]",
      "text/plain": [
       "<Figure size 432x288 with 1 Axes>"
      ]
     },
     "metadata": {},
     "output_type": "display_data"
    },
    {
     "data": {
      "image/png": "[encoded data removed]",
      "text/plain": [
       "<Figure size 432x288 with 1 Axes>"
      ]
     },
     "metadata": {},
     "output_type": "display_data"
    },
    {
     "data": {
      "image/png": "[encoded data removed]",
      "text/plain": [
       "<Figure size 432x288 with 1 Axes>"
      ]
     },
     "metadata": {},
     "output_type": "display_data"
    }
   ],
   "source": [
    "#四角形の特徴マップ\n",
    "#check input image\n",
    "img_path = './data/other/rectangle12_1105.jpg'\n",
    "#img_list = glob.glob(img_path + '*')\n",
    "size = (64, 64, 1)\n",
    "img = load_img(img_path, grayscale = True, target_size=size)\n",
    "x = img_to_array(img)\n",
    "#x = np.expand_dims(x, axis=0)\n",
    "img_tensor = x/255\n",
    "img_tensor = img_tensor[np.newaxis, ...]\n",
    "print(img_tensor.shape)\n",
    "#plt.imshow(img_tensor[0])\n",
    "#plt.show()\n",
    "\n",
    "activations = activation_model.predict(img_tensor)\n",
    "#print(len(activations))\n",
    "#print(activations)\n",
    "\n",
    "first_layer_activation = activations[4]\n",
    "print(first_layer_activation.shape)\n",
    "\n",
    "k = 0\n",
    "for i in range(3):\n",
    "    plt.imshow(first_layer_activation[0,:,:,i],cmap=\"gray\")\n",
    "    plt.xticks([])\n",
    "    plt.yticks([])\n",
    "    plt.savefig('data/l2c23/rectangle/lay2chan23secondrectangle12_1105_%d.jpg'%k)\n",
    "    k = k + 1\n",
    "    plt.show()"
   ]
  },
  {
   "cell_type": "code",
   "execution_count": 48,
   "metadata": {},
   "outputs": [
    {
     "name": "stdout",
     "output_type": "stream",
     "text": [
      "(1, 64, 64, 1)\n",
      "(1, 64, 64, 2)\n"
     ]
    },
    {
     "data": {
      "image/png": "[encoded data removed]",
      "text/plain": [
       "<Figure size 432x288 with 1 Axes>"
      ]
     },
     "metadata": {},
     "output_type": "display_data"
    },
    {
     "data": {
      "image/png": "[encoded data removed]",
      "text/plain": [
       "<Figure size 432x288 with 1 Axes>"
      ]
     },
     "metadata": {},
     "output_type": "display_data"
    }
   ],
   "source": [
    "#五角形の特徴マップ\n",
    "#check input image\n",
    "img_path = './data/other/pentagon12_1105.jpg'\n",
    "#img_list = glob.glob(img_path + '*')\n",
    "size = (64, 64, 1)\n",
    "img = load_img(img_path, grayscale = True, target_size=size)\n",
    "x = img_to_array(img)\n",
    "#x = np.expand_dims(x, axis=0)\n",
    "img_tensor = x/255\n",
    "img_tensor = img_tensor[np.newaxis, ...]\n",
    "print(img_tensor.shape)\n",
    "#plt.imshow(img_tensor[0])\n",
    "#plt.show()\n",
    "\n",
    "activations = activation_model.predict(img_tensor)\n",
    "#print(len(activations))\n",
    "#print(activations)\n",
    "\n",
    "first_layer_activation = activations[1]\n",
    "print(first_layer_activation.shape)\n",
    "\n",
    "k = 0\n",
    "for i in range(2):\n",
    "    plt.imshow(first_layer_activation[0,:,:,i],cmap=\"gray\")\n",
    "    plt.xticks([])\n",
    "    plt.yticks([])\n",
    "    plt.savefig('data/l2c23/pentagon/lay2chan23pentagon12_1105_%d.jpg'%k)\n",
    "    k = k + 1\n",
    "    plt.show()"
   ]
  },
  {
   "cell_type": "code",
   "execution_count": 50,
   "metadata": {},
   "outputs": [
    {
     "name": "stdout",
     "output_type": "stream",
     "text": [
      "(1, 64, 64, 1)\n",
      "(1, 32, 32, 3)\n"
     ]
    },
    {
     "data": {
      "image/png": "[encoded data removed]",
      "text/plain": [
       "<Figure size 432x288 with 1 Axes>"
      ]
     },
     "metadata": {},
     "output_type": "display_data"
    },
    {
     "data": {
      "image/png": "[encoded data removed]",
      "text/plain": [
       "<Figure size 432x288 with 1 Axes>"
      ]
     },
     "metadata": {},
     "output_type": "display_data"
    },
    {
     "data": {
      "image/png": "[encoded data removed]",
      "text/plain": [
       "<Figure size 432x288 with 1 Axes>"
      ]
     },
     "metadata": {},
     "output_type": "display_data"
    }
   ],
   "source": [
    "#五角形の特徴マップ\n",
    "#check input image\n",
    "img_path = './data/other/pentagon12_1105.jpg'\n",
    "#img_list = glob.glob(img_path + '*')\n",
    "size = (64, 64, 1)\n",
    "img = load_img(img_path, grayscale = True, target_size=size)\n",
    "x = img_to_array(img)\n",
    "#x = np.expand_dims(x, axis=0)\n",
    "img_tensor = x/255\n",
    "img_tensor = img_tensor[np.newaxis, ...]\n",
    "print(img_tensor.shape)\n",
    "#plt.imshow(img_tensor[0])\n",
    "#plt.show()\n",
    "\n",
    "activations = activation_model.predict(img_tensor)\n",
    "#print(len(activations))\n",
    "#print(activations)\n",
    "\n",
    "first_layer_activation = activations[4]\n",
    "print(first_layer_activation.shape)\n",
    "\n",
    "k = 0\n",
    "for i in range(3):\n",
    "    plt.imshow(first_layer_activation[0,:,:,i],cmap=\"gray\")\n",
    "    plt.xticks([])\n",
    "    plt.yticks([])\n",
    "    plt.savefig('data/l2c23/pentagon/lay2chan23secondpentagon12_1105_%d.jpg'%k)\n",
    "    k = k + 1\n",
    "    plt.show()"
   ]
  },
  {
   "cell_type": "code",
   "execution_count": 52,
   "metadata": {},
   "outputs": [
    {
     "name": "stdout",
     "output_type": "stream",
     "text": [
      "(1, 64, 64, 1)\n",
      "(1, 64, 64, 2)\n"
     ]
    },
    {
     "data": {
      "image/png": "[encoded data removed]",
      "text/plain": [
       "<Figure size 432x288 with 1 Axes>"
      ]
     },
     "metadata": {},
     "output_type": "display_data"
    },
    {
     "data": {
      "image/png": "[encoded data removed]",
      "text/plain": [
       "<Figure size 432x288 with 1 Axes>"
      ]
     },
     "metadata": {},
     "output_type": "display_data"
    }
   ],
   "source": [
    "#六角形の特徴マップ\n",
    "#check input image\n",
    "img_path = './data/other/hexagon12_1105.jpg'\n",
    "#img_list = glob.glob(img_path + '*')\n",
    "size = (64, 64, 1)\n",
    "img = load_img(img_path, grayscale = True, target_size=size)\n",
    "x = img_to_array(img)\n",
    "#x = np.expand_dims(x, axis=0)\n",
    "img_tensor = x/255\n",
    "img_tensor = img_tensor[np.newaxis, ...]\n",
    "print(img_tensor.shape)\n",
    "#plt.imshow(img_tensor[0])\n",
    "#plt.show()\n",
    "\n",
    "activations = activation_model.predict(img_tensor)\n",
    "#print(len(activations))\n",
    "#print(activations)\n",
    "\n",
    "first_layer_activation = activations[1]\n",
    "print(first_layer_activation.shape)\n",
    "\n",
    "k = 0\n",
    "for i in range(2):\n",
    "    plt.imshow(first_layer_activation[0,:,:,i],cmap=\"gray\")\n",
    "    plt.xticks([])\n",
    "    plt.yticks([])\n",
    "    plt.savefig('data/l2c23/hexagon/lay2chan23hexagon12_1105_%d.jpg'%k)\n",
    "    k = k + 1\n",
    "    plt.show()"
   ]
  },
  {
   "cell_type": "code",
   "execution_count": 51,
   "metadata": {},
   "outputs": [
    {
     "name": "stdout",
     "output_type": "stream",
     "text": [
      "(1, 64, 64, 1)\n",
      "(1, 32, 32, 3)\n"
     ]
    },
    {
     "data": {
      "image/png": "[encoded data removed]",
      "text/plain": [
       "<Figure size 432x288 with 1 Axes>"
      ]
     },
     "metadata": {},
     "output_type": "display_data"
    },
    {
     "data": {
      "image/png": "[encoded data removed]",
      "text/plain": [
       "<Figure size 432x288 with 1 Axes>"
      ]
     },
     "metadata": {},
     "output_type": "display_data"
    },
    {
     "data": {
      "image/png": "[encoded data removed]",
      "text/plain": [
       "<Figure size 432x288 with 1 Axes>"
      ]
     },
     "metadata": {},
     "output_type": "display_data"
    }
   ],
   "source": [
    "#六角形の特徴マップ\n",
    "#check input image\n",
    "img_path = './data/other/hexagon12_1105.jpg'\n",
    "#img_list = glob.glob(img_path + '*')\n",
    "size = (64, 64, 1)\n",
    "img = load_img(img_path, grayscale = True, target_size=size)\n",
    "x = img_to_array(img)\n",
    "#x = np.expand_dims(x, axis=0)\n",
    "img_tensor = x/255\n",
    "img_tensor = img_tensor[np.newaxis, ...]\n",
    "print(img_tensor.shape)\n",
    "#plt.imshow(img_tensor[0])\n",
    "#plt.show()\n",
    "\n",
    "activations = activation_model.predict(img_tensor)\n",
    "#print(len(activations))\n",
    "#print(activations)\n",
    "\n",
    "first_layer_activation = activations[4]\n",
    "print(first_layer_activation.shape)\n",
    "\n",
    "k = 0\n",
    "for i in range(3):\n",
    "    plt.imshow(first_layer_activation[0,:,:,i],cmap=\"gray\")\n",
    "    plt.xticks([])\n",
    "    plt.yticks([])\n",
    "    plt.savefig('data/l2c23/hexagon/lay2chan23secondhexagon12_1105_%d.jpg'%k)\n",
    "    k = k + 1\n",
    "    plt.show()"
   ]
  }
 ],
 "metadata": {
  "kernelspec": {
   "display_name": "Python 3",
   "language": "python",
   "name": "python3"
  },
  "language_info": {
   "codemirror_mode": {
    "name": "ipython",
    "version": 3
   },
   "file_extension": ".py",
   "mimetype": "text/x-python",
   "name": "python",
   "nbconvert_exporter": "python",
   "pygments_lexer": "ipython3",
   "version": "3.7.3"
  }
 },
 "nbformat": 4,
 "nbformat_minor": 2
}
