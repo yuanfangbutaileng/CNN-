{
 "cells": [
  {
   "cell_type": "markdown",
   "metadata": {},
   "source": [
    "# CNN"
   ]
  },
  {
   "cell_type": "code",
   "execution_count": 1,
   "metadata": {},
   "outputs": [
    {
     "name": "stderr",
     "output_type": "stream",
     "text": [
      "D:\\ananconda\\lib\\site-packages\\tensorflow\\python\\framework\\dtypes.py:516: FutureWarning: Passing (type, 1) or '1type' as a synonym of type is deprecated; in a future version of numpy, it will be understood as (type, (1,)) / '(1,)type'.\n",
      "  _np_qint8 = np.dtype([(\"qint8\", np.int8, 1)])\n",
      "D:\\ananconda\\lib\\site-packages\\tensorflow\\python\\framework\\dtypes.py:517: FutureWarning: Passing (type, 1) or '1type' as a synonym of type is deprecated; in a future version of numpy, it will be understood as (type, (1,)) / '(1,)type'.\n",
      "  _np_quint8 = np.dtype([(\"quint8\", np.uint8, 1)])\n",
      "D:\\ananconda\\lib\\site-packages\\tensorflow\\python\\framework\\dtypes.py:518: FutureWarning: Passing (type, 1) or '1type' as a synonym of type is deprecated; in a future version of numpy, it will be understood as (type, (1,)) / '(1,)type'.\n",
      "  _np_qint16 = np.dtype([(\"qint16\", np.int16, 1)])\n",
      "D:\\ananconda\\lib\\site-packages\\tensorflow\\python\\framework\\dtypes.py:519: FutureWarning: Passing (type, 1) or '1type' as a synonym of type is deprecated; in a future version of numpy, it will be understood as (type, (1,)) / '(1,)type'.\n",
      "  _np_quint16 = np.dtype([(\"quint16\", np.uint16, 1)])\n",
      "D:\\ananconda\\lib\\site-packages\\tensorflow\\python\\framework\\dtypes.py:520: FutureWarning: Passing (type, 1) or '1type' as a synonym of type is deprecated; in a future version of numpy, it will be understood as (type, (1,)) / '(1,)type'.\n",
      "  _np_qint32 = np.dtype([(\"qint32\", np.int32, 1)])\n",
      "D:\\ananconda\\lib\\site-packages\\tensorflow\\python\\framework\\dtypes.py:525: FutureWarning: Passing (type, 1) or '1type' as a synonym of type is deprecated; in a future version of numpy, it will be understood as (type, (1,)) / '(1,)type'.\n",
      "  np_resource = np.dtype([(\"resource\", np.ubyte, 1)])\n",
      "D:\\ananconda\\lib\\site-packages\\tensorboard\\compat\\tensorflow_stub\\dtypes.py:541: FutureWarning: Passing (type, 1) or '1type' as a synonym of type is deprecated; in a future version of numpy, it will be understood as (type, (1,)) / '(1,)type'.\n",
      "  _np_qint8 = np.dtype([(\"qint8\", np.int8, 1)])\n",
      "D:\\ananconda\\lib\\site-packages\\tensorboard\\compat\\tensorflow_stub\\dtypes.py:542: FutureWarning: Passing (type, 1) or '1type' as a synonym of type is deprecated; in a future version of numpy, it will be understood as (type, (1,)) / '(1,)type'.\n",
      "  _np_quint8 = np.dtype([(\"quint8\", np.uint8, 1)])\n",
      "D:\\ananconda\\lib\\site-packages\\tensorboard\\compat\\tensorflow_stub\\dtypes.py:543: FutureWarning: Passing (type, 1) or '1type' as a synonym of type is deprecated; in a future version of numpy, it will be understood as (type, (1,)) / '(1,)type'.\n",
      "  _np_qint16 = np.dtype([(\"qint16\", np.int16, 1)])\n",
      "D:\\ananconda\\lib\\site-packages\\tensorboard\\compat\\tensorflow_stub\\dtypes.py:544: FutureWarning: Passing (type, 1) or '1type' as a synonym of type is deprecated; in a future version of numpy, it will be understood as (type, (1,)) / '(1,)type'.\n",
      "  _np_quint16 = np.dtype([(\"quint16\", np.uint16, 1)])\n",
      "D:\\ananconda\\lib\\site-packages\\tensorboard\\compat\\tensorflow_stub\\dtypes.py:545: FutureWarning: Passing (type, 1) or '1type' as a synonym of type is deprecated; in a future version of numpy, it will be understood as (type, (1,)) / '(1,)type'.\n",
      "  _np_qint32 = np.dtype([(\"qint32\", np.int32, 1)])\n",
      "D:\\ananconda\\lib\\site-packages\\tensorboard\\compat\\tensorflow_stub\\dtypes.py:550: FutureWarning: Passing (type, 1) or '1type' as a synonym of type is deprecated; in a future version of numpy, it will be understood as (type, (1,)) / '(1,)type'.\n",
      "  np_resource = np.dtype([(\"resource\", np.ubyte, 1)])\n"
     ]
    },
    {
     "data": {
      "text/plain": [
       "[name: \"/device:CPU:0\"\n",
       " device_type: \"CPU\"\n",
       " memory_limit: 268435456\n",
       " locality {\n",
       " }\n",
       " incarnation: 13936691433041437519,\n",
       " name: \"/device:GPU:0\"\n",
       " device_type: \"GPU\"\n",
       " memory_limit: 4866349465\n",
       " locality {\n",
       "   bus_id: 1\n",
       "   links {\n",
       "   }\n",
       " }\n",
       " incarnation: 11792506350269397474\n",
       " physical_device_desc: \"device: 0, name: GeForce GTX 1660 SUPER, pci bus id: 0000:07:00.0, compute capability: 7.5\"]"
      ]
     },
     "execution_count": 1,
     "metadata": {},
     "output_type": "execute_result"
    }
   ],
   "source": [
    "#TensorFlowがGPUを認識しているか確認\n",
    "from tensorflow.python.client import device_lib\n",
    "device_lib.list_local_devices()"
   ]
  },
  {
   "cell_type": "code",
   "execution_count": 2,
   "metadata": {},
   "outputs": [
    {
     "name": "stderr",
     "output_type": "stream",
     "text": [
      "Using TensorFlow backend.\n"
     ]
    }
   ],
   "source": [
    "#tensorflowをtfとしてインポート\n",
    "import tensorflow as tf\n",
    "\n",
    "#pltをインポート\n",
    "%matplotlib inline\n",
    "import matplotlib.pyplot as plt\n",
    "\n",
    "import keras\n",
    "from keras.utils import np_utils\n",
    "from keras.layers.convolutional import Conv2D, MaxPooling2D\n",
    "from keras.models import Sequential, Model\n",
    "from keras.layers.core import Dense, Dropout, Activation, Flatten\n",
    "from keras.preprocessing.image import array_to_img, img_to_array, load_img\n",
    "import numpy as np\n",
    "import pandas as pd\n",
    "from sklearn.model_selection import train_test_split\n",
    "import matplotlib.pyplot as plt\n",
    "import os\n",
    "import re"
   ]
  },
  {
   "cell_type": "code",
   "execution_count": 3,
   "metadata": {},
   "outputs": [
    {
     "name": "stdout",
     "output_type": "stream",
     "text": [
      "WARNING:tensorflow:From D:\\ananconda\\lib\\site-packages\\keras\\backend\\tensorflow_backend.py:4070: The name tf.nn.max_pool is deprecated. Please use tf.nn.max_pool2d instead.\n",
      "\n",
      "Model: \"sequential_1\"\n",
      "_________________________________________________________________\n",
      "Layer (type)                 Output Shape              Param #   \n",
      "=================================================================\n",
      "conv2d_1 (Conv2D)            (None, 64, 64, 32)        320       \n",
      "_________________________________________________________________\n",
      "activation_1 (Activation)    (None, 64, 64, 32)        0         \n",
      "_________________________________________________________________\n",
      "max_pooling2d_1 (MaxPooling2 (None, 32, 32, 32)        0         \n",
      "_________________________________________________________________\n",
      "flatten_1 (Flatten)          (None, 32768)             0         \n",
      "_________________________________________________________________\n",
      "dense_1 (Dense)              (None, 5)                 163845    \n",
      "_________________________________________________________________\n",
      "activation_2 (Activation)    (None, 5)                 0         \n",
      "=================================================================\n",
      "Total params: 164,165\n",
      "Trainable params: 164,165\n",
      "Non-trainable params: 0\n",
      "_________________________________________________________________\n"
     ]
    }
   ],
   "source": [
    "#import circle.py\n",
    "from keras.models import Sequential\n",
    "from keras.layers import Activation,Dense,Dropout, Flatten\n",
    "from keras.layers import Conv2D, MaxPooling2D\n",
    "from keras.preprocessing.image import ImageDataGenerator\n",
    "\n",
    "x_train, x_test, y_train, y_test = np.load('./data/dataset.npy', allow_pickle = True)\n",
    "batch_size = 1\n",
    "epochs = 1\n",
    "\n",
    "#モデルを作成\n",
    "model = Sequential()\n",
    "#conv１層目\n",
    "model.add(Conv2D(32, (3, 3), padding='same', input_shape=(64, 64, 1)))\n",
    "model.add(Activation('relu'))\n",
    "model.add(MaxPooling2D(pool_size=(2, 2)))\n",
    "\n",
    "#conv２層目\n",
    "#model.add(Conv2D(4, (3, 3),padding='same'))\n",
    "#model.add(Activation('relu'))\n",
    "#model.add(MaxPooling2D(pool_size=(2, 2)))\n",
    "\n",
    "#conv３層目\n",
    "#model.add(Conv2D(128, (3, 3), padding='same'))\n",
    "#model.add(Activation('relu'))\n",
    "#model.add(MaxPooling2D(pool_size=(2,2)))\n",
    "        \n",
    "#conv４層目\n",
    "#model.add(Conv2D(256, (3, 3), padding='same'))\n",
    "#model.add(Activation('relu'))\n",
    "#model.add(MaxPooling2D(pool_size=(2,2)))\n",
    "\n",
    "#conv５層目\n",
    "#model.add(Conv2D(512, (3, 3), padding='same'))\n",
    "#model.add(Activation('relu'))\n",
    "        \n",
    "#conv６層目\n",
    "#model.add(Conv2D(256, (1, 1), padding='same'))\n",
    "#model.add(Activation('relu'))\n",
    "\n",
    "#conv７層目          \n",
    "#model.add(Conv2D(512, (3, 3), padding='same'))\n",
    "#model.add(Activation('relu'))\n",
    "\n",
    "#conv８層目          \n",
    "#model.add(Conv2D(256, (1, 1), padding='same'))\n",
    "#model.add(Activation('relu'))\n",
    "          \n",
    "model.add(Flatten())\n",
    "#model.add(Dropout(0.5))\n",
    "#model.add(Dense(64))\n",
    "#model.add(Activation('relu'))\n",
    "model.add(Dense(5))\n",
    "model.add(Activation('softmax'))\n",
    "          \n",
    "# サマリーを出力\n",
    "model.summary()"
   ]
  },
  {
   "cell_type": "code",
   "execution_count": 6,
   "metadata": {},
   "outputs": [
    {
     "name": "stdout",
     "output_type": "stream",
     "text": [
      "Train on 35840 samples, validate on 8960 samples\n",
      "Epoch 1/20\n",
      "35840/35840 [==============================] - 5s 131us/step - loss: 1.6699e-04 - accuracy: 1.0000 - val_loss: 4.8578e-04 - val_accuracy: 1.0000\n",
      "Epoch 2/20\n",
      "35840/35840 [==============================] - 4s 123us/step - loss: 3.9859e-05 - accuracy: 1.0000 - val_loss: 3.1214e-04 - val_accuracy: 1.0000\n",
      "Epoch 3/20\n",
      "35840/35840 [==============================] - 4s 122us/step - loss: 1.9975e-05 - accuracy: 1.0000 - val_loss: 2.2487e-04 - val_accuracy: 1.0000\n",
      "Epoch 4/20\n",
      "35840/35840 [==============================] - 4s 125us/step - loss: 1.0276e-05 - accuracy: 1.0000 - val_loss: 2.7141e-04 - val_accuracy: 0.9999\n",
      "Epoch 5/20\n",
      "35840/35840 [==============================] - 5s 128us/step - loss: 5.9238e-06 - accuracy: 1.0000 - val_loss: 2.9537e-04 - val_accuracy: 0.9999\n",
      "Epoch 6/20\n",
      "35840/35840 [==============================] - 5s 130us/step - loss: 3.9273e-06 - accuracy: 1.0000 - val_loss: 8.5628e-05 - val_accuracy: 1.0000\n",
      "Epoch 7/20\n",
      "35840/35840 [==============================] - 5s 127us/step - loss: 2.1342e-06 - accuracy: 1.0000 - val_loss: 5.1360e-05 - val_accuracy: 1.0000\n",
      "Epoch 8/20\n",
      "35840/35840 [==============================] - 5s 128us/step - loss: 2.6047e-04 - accuracy: 0.9999 - val_loss: 1.2106e-04 - val_accuracy: 1.0000\n",
      "Epoch 9/20\n",
      "35840/35840 [==============================] - 5s 128us/step - loss: 3.1592e-06 - accuracy: 1.0000 - val_loss: 8.0009e-05 - val_accuracy: 1.0000\n",
      "Epoch 10/20\n",
      "35840/35840 [==============================] - 5s 132us/step - loss: 2.1362e-06 - accuracy: 1.0000 - val_loss: 8.9061e-05 - val_accuracy: 1.0000\n",
      "Epoch 11/20\n",
      "35840/35840 [==============================] - 5s 126us/step - loss: 1.6429e-06 - accuracy: 1.0000 - val_loss: 6.3201e-05 - val_accuracy: 1.0000\n",
      "Epoch 12/20\n",
      "35840/35840 [==============================] - 4s 122us/step - loss: 1.2903e-06 - accuracy: 1.0000 - val_loss: 6.1045e-05 - val_accuracy: 1.0000\n",
      "Epoch 13/20\n",
      "35840/35840 [==============================] - 5s 129us/step - loss: 1.0296e-06 - accuracy: 1.0000 - val_loss: 5.0076e-05 - val_accuracy: 1.0000\n",
      "Epoch 14/20\n",
      "35840/35840 [==============================] - 5s 126us/step - loss: 8.2328e-07 - accuracy: 1.0000 - val_loss: 4.9576e-05 - val_accuracy: 1.0000\n",
      "Epoch 15/20\n",
      "35840/35840 [==============================] - 5s 131us/step - loss: 6.5943e-07 - accuracy: 1.0000 - val_loss: 4.0347e-05 - val_accuracy: 1.0000\n",
      "Epoch 16/20\n",
      "35840/35840 [==============================] - 5s 130us/step - loss: 5.3372e-07 - accuracy: 1.0000 - val_loss: 3.5566e-05 - val_accuracy: 1.0000\n",
      "Epoch 17/20\n",
      "35840/35840 [==============================] - 5s 130us/step - loss: 4.3205e-07 - accuracy: 1.0000 - val_loss: 3.5795e-05 - val_accuracy: 1.0000\n",
      "Epoch 18/20\n",
      "35840/35840 [==============================] - 5s 132us/step - loss: 3.5012e-07 - accuracy: 1.0000 - val_loss: 3.0158e-05 - val_accuracy: 1.0000\n",
      "Epoch 19/20\n",
      "35840/35840 [==============================] - 5s 131us/step - loss: 2.8668e-07 - accuracy: 1.0000 - val_loss: 2.4771e-05 - val_accuracy: 1.0000\n",
      "Epoch 20/20\n",
      "35840/35840 [==============================] - 5s 129us/step - loss: 2.2791e-07 - accuracy: 1.0000 - val_loss: 2.4539e-05 - val_accuracy: 1.0000\n"
     ]
    }
   ],
   "source": [
    "#モデルのコンパイル\n",
    "#WEIGHTS_PATH = 'layer1channel8_weights.hdf5'\n",
    "#model.load_weights(WEIGHTS_PATH)\n",
    "model.compile(optimizer='adam',\n",
    "                           loss='categorical_crossentropy',\n",
    "                           metrics=['accuracy'])\n",
    "\n",
    "#予測\n",
    "history = model.fit(x_train, y_train, epochs=20, validation_data = (x_test, y_test))"
   ]
  },
  {
   "cell_type": "code",
   "execution_count": null,
   "metadata": {},
   "outputs": [],
   "source": [
    "import matplotlib.pyplot as plt\n",
    "w1=model.layer[1].get"
   ]
  },
  {
   "cell_type": "code",
   "execution_count": 5,
   "metadata": {},
   "outputs": [
    {
     "name": "stdout",
     "output_type": "stream",
     "text": [
      "8960/8960 [==============================] - 1s 66us/step\n",
      "test loss: 0.0016694263825879066\n",
      "test acc: 0.9998884201049805\n"
     ]
    }
   ],
   "source": [
    "#学習済みのモデルでテスト\n",
    "score = model.evaluate(x_test, y_test)\n",
    "print('test loss:',score[0])\n",
    "print('test acc:',score[1])"
   ]
  },
  {
   "cell_type": "code",
   "execution_count": 6,
   "metadata": {},
   "outputs": [
    {
     "ename": "KeyError",
     "evalue": "'accuracy'",
     "output_type": "error",
     "traceback": [
      "\u001b[0;31m---------------------------------------------------------------------------\u001b[0m",
      "\u001b[0;31mKeyError\u001b[0m                                  Traceback (most recent call last)",
      "\u001b[0;32m<ipython-input-6-e8ae370d0f4b>\u001b[0m in \u001b[0;36m<module>\u001b[0;34m\u001b[0m\n\u001b[1;32m      2\u001b[0m \u001b[0mloss\u001b[0m \u001b[0;34m=\u001b[0m \u001b[0mhistory\u001b[0m\u001b[0;34m.\u001b[0m\u001b[0mhistory\u001b[0m\u001b[0;34m[\u001b[0m\u001b[0;34m'loss'\u001b[0m\u001b[0;34m]\u001b[0m\u001b[0;34m\u001b[0m\u001b[0;34m\u001b[0m\u001b[0m\n\u001b[1;32m      3\u001b[0m \u001b[0mval_loss\u001b[0m \u001b[0;34m=\u001b[0m \u001b[0mhistory\u001b[0m\u001b[0;34m.\u001b[0m\u001b[0mhistory\u001b[0m\u001b[0;34m[\u001b[0m\u001b[0;34m'val_loss'\u001b[0m\u001b[0;34m]\u001b[0m\u001b[0;34m\u001b[0m\u001b[0;34m\u001b[0m\u001b[0m\n\u001b[0;32m----> 4\u001b[0;31m \u001b[0macc\u001b[0m \u001b[0;34m=\u001b[0m \u001b[0mhistory\u001b[0m\u001b[0;34m.\u001b[0m\u001b[0mhistory\u001b[0m\u001b[0;34m[\u001b[0m\u001b[0;34m'accuracy'\u001b[0m\u001b[0;34m]\u001b[0m\u001b[0;34m\u001b[0m\u001b[0;34m\u001b[0m\u001b[0m\n\u001b[0m\u001b[1;32m      5\u001b[0m \u001b[0mval_acc\u001b[0m \u001b[0;34m=\u001b[0m \u001b[0mhistory\u001b[0m\u001b[0;34m.\u001b[0m\u001b[0mhistory\u001b[0m\u001b[0;34m[\u001b[0m\u001b[0;34m'val_accuracy'\u001b[0m\u001b[0;34m]\u001b[0m\u001b[0;34m\u001b[0m\u001b[0;34m\u001b[0m\u001b[0m\n\u001b[1;32m      6\u001b[0m \u001b[0mepochs\u001b[0m \u001b[0;34m=\u001b[0m \u001b[0mlen\u001b[0m\u001b[0;34m(\u001b[0m\u001b[0mloss\u001b[0m\u001b[0;34m)\u001b[0m\u001b[0;34m\u001b[0m\u001b[0;34m\u001b[0m\u001b[0m\n",
      "\u001b[0;31mKeyError\u001b[0m: 'accuracy'"
     ]
    }
   ],
   "source": [
    "# 学習結果を表示\n",
    "loss = history.history['loss']\n",
    "val_loss = history.history['val_loss']\n",
    "acc = history.history['accuracy']\n",
    "val_acc = history.history['val_accuracy']\n",
    "epochs = len(loss)\n",
    "\n",
    "#訓練データ(トレーニングデータ)とは、機械学習の教師あり学習において、人工知能のニューラルネットワークがあらかじめ与えられる、例題と答えについてのデータ。\n",
    "#この大量のデータをもとに、ニューラルネットワーク自体が出力結果の正否を判断し、最適化を行う。\n",
    "#統計学や機械学習において何らかの推定を行う際に、トレーニングデータだけでは学習されたモデルを十分に評価できないという問題がある。\n",
    "#この問題は過剰適合や過学習と呼ばれる。この問題を解決するために、学習に用いないデータを用意し、いくつかの学習モデルの評価を行うことがある。\n",
    "#この、評価を行うためのデータがテストデータと呼ばれる。\n",
    "#交差検証においては、標本データをあらかじめトレーニングデータとテストデータに分割し、トレーニングデータで学習し、\n",
    "#テストデータに学習モデルを適用させることで性能の評価を行う。\n",
    "plt.plot(range(epochs), loss, label='loss(training data)') #トレーニングデータに対する判定結果のloss\n",
    "plt.plot(range(epochs), val_loss, label='val_loss(test data)')\n",
    "plt.legend(loc='best')\n",
    "plt.grid()\n",
    "plt.xlabel('epoch')\n",
    "plt.ylabel('loss')\n",
    "plt.show()\n",
    "\n",
    "plt.plot(range(epochs), acc, label='acc(training data)')\n",
    "plt.plot(range(epochs), val_acc,  label='val_acc(test data)')\n",
    "plt.legend(loc='best')\n",
    "plt.grid()\n",
    "plt.xlabel('epoch')\n",
    "plt.ylabel('acc')\n",
    "plt.show()"
   ]
  },
  {
   "cell_type": "code",
   "execution_count": 6,
   "metadata": {},
   "outputs": [
    {
     "name": "stdout",
     "output_type": "stream",
     "text": [
      "8960/8960 [==============================] - 1s 97us/step\n",
      "[2.5001912e-10 1.0000000e+00 1.2545765e-32 1.2896494e-10 4.6225800e-14]\n"
     ]
    }
   ],
   "source": [
    "classes = model.predict(x_test, batch_size=128, verbose=True)\n",
    "print(classes[0])"
   ]
  },
  {
   "cell_type": "code",
   "execution_count": 7,
   "metadata": {},
   "outputs": [
    {
     "name": "stderr",
     "output_type": "stream",
     "text": [
      "/Users/li/anaconda3/envs/tensorflow/lib/python3.7/site-packages/keras_preprocessing/image/utils.py:104: UserWarning: grayscale is deprecated. Please use color_mode = \"grayscale\"\n",
      "  warnings.warn('grayscale is deprecated. Please use '\n"
     ]
    }
   ],
   "source": [
    "#circleに対して、各画像のクラス確率\n",
    "from keras.preprocessing.image import img_to_array, load_img\n",
    "from keras.models import load_model\n",
    "import numpy as np\n",
    "import glob\n",
    "\n",
    "# テストする画像が入っているディレクトリ\n",
    "img_path = './data/circle/'\n",
    "\n",
    "img_list = glob.glob(img_path + '*')\n",
    "size = (64, 64, 1)\n",
    "\n",
    "for index, i in enumerate(img_list):\n",
    "    # 画像をサイズを変えて読み込み、配列化\n",
    "    test_img = img_to_array(load_img(i, grayscale=True, target_size=size))\n",
    "    # 0~1の範囲にする\n",
    "    test_img = test_img / 255\n",
    "    # 4次元配列に\n",
    "    test_img = test_img[np.newaxis, ...]\n",
    "    # 予測\n",
    "    pre = model.predict(test_img)\n",
    "    #if np.max(pre[0]) == pre[0, 0]:\n",
    "     #   print(f'{img_list[index]} -> {pre} は circle')\n",
    "    if np.max(pre[0]) == pre[0, 1]:\n",
    "        print(f'{img_list[index]} -> {pre} は other')\n",
    "        "
   ]
  },
  {
   "cell_type": "code",
   "execution_count": 8,
   "metadata": {},
   "outputs": [],
   "source": [
    "#circleに対して、各画像のクラス確率\n",
    "from keras.preprocessing.image import img_to_array, load_img\n",
    "from keras.models import load_model\n",
    "import numpy as np\n",
    "import glob\n",
    "\n",
    "# テストする画像が入っているディレクトリ\n",
    "img_path = './data/other/'\n",
    "\n",
    "img_list = glob.glob(img_path + '*')\n",
    "size = (64, 64, 1)\n",
    "\n",
    "for index, i in enumerate(img_list):\n",
    "    # 画像をサイズを変えて読み込み、配列化\n",
    "    test_img = img_to_array(load_img(i, grayscale=True, target_size=size))\n",
    "    # 0~1の範囲にする\n",
    "    test_img = test_img / 255\n",
    "    # 4次元配列に\n",
    "    test_img = test_img[np.newaxis, ...]\n",
    "    # 予測\n",
    "    pre = model.predict(test_img)\n",
    "    if np.max(pre[0]) == pre[0, 0]:\n",
    "        print(f'{img_list[index]} -> {pre} は circle')\n",
    "        #if np.max(pre[0]) == pre[0, 1]:\n",
    "         #   print(f'{img_list[index]} -> {pre} は other')"
   ]
  },
  {
   "cell_type": "code",
   "execution_count": 4,
   "metadata": {},
   "outputs": [],
   "source": [
    "#save model\n",
    "model_layer1channel8_json = model.to_json()\n",
    "open(\"model_architecture.json\", mode='w').write(model_layer1channel8_json)\n",
    "\n",
    "#save weight\n",
    "model.save_weights(\"layer1channel8_weights.hdf5\")"
   ]
  },
  {
   "cell_type": "code",
   "execution_count": 5,
   "metadata": {},
   "outputs": [
    {
     "data": {
      "text/plain": [
       "[<tf.Tensor 'conv2d_1/BiasAdd:0' shape=(?, 64, 64, 8) dtype=float32>,\n",
       " <tf.Tensor 'activation_1/Relu:0' shape=(?, 64, 64, 8) dtype=float32>,\n",
       " <tf.Tensor 'max_pooling2d_1/MaxPool:0' shape=(?, 32, 32, 8) dtype=float32>,\n",
       " <tf.Tensor 'flatten_1/Reshape:0' shape=(?, ?) dtype=float32>,\n",
       " <tf.Tensor 'dense_1/BiasAdd:0' shape=(?, 5) dtype=float32>,\n",
       " <tf.Tensor 'activation_2/Softmax:0' shape=(?, 5) dtype=float32>]"
      ]
     },
     "execution_count": 5,
     "metadata": {},
     "output_type": "execute_result"
    }
   ],
   "source": [
    "#出力する中間層を指定\n",
    "layer_outputs = [layer.output for layer in model.layers[0:6]]\n",
    "layer_outputs"
   ]
  },
  {
   "cell_type": "code",
   "execution_count": 6,
   "metadata": {},
   "outputs": [
    {
     "name": "stdout",
     "output_type": "stream",
     "text": [
      "_________________________________________________________________\n",
      "Layer (type)                 Output Shape              Param #   \n",
      "=================================================================\n",
      "conv2d_1_input (InputLayer)  (None, 64, 64, 1)         0         \n",
      "_________________________________________________________________\n",
      "conv2d_1 (Conv2D)            (None, 64, 64, 8)         80        \n",
      "_________________________________________________________________\n",
      "activation_1 (Activation)    (None, 64, 64, 8)         0         \n",
      "_________________________________________________________________\n",
      "max_pooling2d_1 (MaxPooling2 (None, 32, 32, 8)         0         \n",
      "_________________________________________________________________\n",
      "flatten_1 (Flatten)          (None, 8192)              0         \n",
      "_________________________________________________________________\n",
      "dense_1 (Dense)              (None, 5)                 40965     \n",
      "_________________________________________________________________\n",
      "activation_2 (Activation)    (None, 5)                 0         \n",
      "=================================================================\n",
      "Total params: 41,045\n",
      "Trainable params: 41,045\n",
      "Non-trainable params: 0\n",
      "_________________________________________________________________\n"
     ]
    }
   ],
   "source": [
    "#中間層を出力するモデルを作成\n",
    "activation_model = Model(inputs=model.input, outputs=layer_outputs)\n",
    "activation_model.summary()"
   ]
  },
  {
   "cell_type": "code",
   "execution_count": 8,
   "metadata": {},
   "outputs": [
    {
     "data": {
      "text/plain": [
       "array([[[[ 4.3621246e-02, -2.6512924e-01,  3.4304610e-01,\n",
       "           1.0297928e+00, -7.2914273e-01, -9.9133238e-02,\n",
       "          -1.4694642e+00, -2.1167377e-02]],\n",
       "\n",
       "        [[-1.1887960e-01,  3.5873223e-03,  2.7067858e-01,\n",
       "          -4.0591630e-01,  1.1559043e+00, -8.1977770e-02,\n",
       "           2.8632412e+00, -4.6326590e+00]],\n",
       "\n",
       "        [[-1.5914899e+00, -3.2573995e-01,  2.8261435e-01,\n",
       "          -9.4573677e-01, -5.0772452e-01,  1.3882385e-01,\n",
       "          -1.4688311e+00,  2.0313425e-01]]],\n",
       "\n",
       "\n",
       "       [[[ 1.6155336e+00,  1.0805235e+00,  1.8938045e-01,\n",
       "          -2.6719961e-01,  1.1556234e+00,  9.9197841e-01,\n",
       "          -2.1123137e+00, -6.0537344e-01]],\n",
       "\n",
       "        [[ 8.2253706e-01, -8.3200610e-01,  1.7207713e-01,\n",
       "           1.0403308e+00, -7.8152144e-01, -1.1275404e-01,\n",
       "           2.1477859e-01,  2.6851156e+00]],\n",
       "\n",
       "        [[ 7.0219308e-01,  1.0833149e+00,  1.8418801e-01,\n",
       "          -7.1399349e-01, -5.4658771e-01, -1.0683556e+00,\n",
       "          -2.0128794e+00,  1.9097182e+00]]],\n",
       "\n",
       "\n",
       "       [[[ 1.8261390e-02, -8.7091893e-01,  2.1816656e-01,\n",
       "          -7.3027498e-01, -3.1174466e-01, -1.0228992e+00,\n",
       "           3.0987903e-01, -4.6998258e+00]],\n",
       "\n",
       "        [[-6.7180865e-02,  8.2276469e-01,  2.4065594e-01,\n",
       "          -6.8285298e-01, -7.4468797e-01,  1.0232209e+00,\n",
       "           1.9156921e+00,  4.7526821e-01]],\n",
       "\n",
       "        [[-1.6213936e+00, -8.1871021e-01,  2.3019969e-01,\n",
       "           1.3724701e+00,  1.0773652e+00, -7.9216205e-02,\n",
       "           1.4724457e-01,  1.2904276e-01]]]], dtype=float32)"
      ]
     },
     "execution_count": 8,
     "metadata": {},
     "output_type": "execute_result"
    }
   ],
   "source": [
    "weights = model.get_layer(\"conv2d_1\").get_weights()[0]\n",
    "weights.shape\n",
    "weights"
   ]
  },
  {
   "cell_type": "code",
   "execution_count": 9,
   "metadata": {},
   "outputs": [
    {
     "data": {
      "image/png": "[encoded data removed]",
      "text/plain": [
       "<Figure size 432x288 with 8 Axes>"
      ]
     },
     "metadata": {},
     "output_type": "display_data"
    }
   ],
   "source": [
    "def plot_conv_weights(filters):\n",
    "    filter_num = filters.shape[3]\n",
    "    \n",
    "    for i in range(filter_num):\n",
    "        plt.subplot(filter_num/6 + 1, 4, i+1)\n",
    "        plt.imshow(filters[:,:,0,i], cmap=\"gray\")\n",
    "        plt.xticks([])\n",
    "        plt.yticks([])\n",
    "        \n",
    "plot_conv_weights(model.layers[0].get_weights()[0])"
   ]
  },
  {
   "cell_type": "code",
   "execution_count": 13,
   "metadata": {},
   "outputs": [
    {
     "name": "stdout",
     "output_type": "stream",
     "text": [
      "(1, 64, 64, 1)\n",
      "(1, 64, 64, 8)\n"
     ]
    },
    {
     "data": {
      "image/png": "[encoded data removed]",
      "text/plain": [
       "<Figure size 432x288 with 1 Axes>"
      ]
     },
     "metadata": {},
     "output_type": "display_data"
    },
    {
     "data": {
      "image/png": "[encoded data removed]",
      "text/plain": [
       "<Figure size 432x288 with 1 Axes>"
      ]
     },
     "metadata": {},
     "output_type": "display_data"
    },
    {
     "data": {
      "image/png": "[encoded data removed]",
      "text/plain": [
       "<Figure size 432x288 with 1 Axes>"
      ]
     },
     "metadata": {},
     "output_type": "display_data"
    },
    {
     "data": {
      "image/png": "[encoded data removed]",
      "text/plain": [
       "<Figure size 432x288 with 1 Axes>"
      ]
     },
     "metadata": {},
     "output_type": "display_data"
    },
    {
     "data": {
      "image/png": "[encoded data removed]",
      "text/plain": [
       "<Figure size 432x288 with 1 Axes>"
      ]
     },
     "metadata": {},
     "output_type": "display_data"
    },
    {
     "data": {
      "image/png": "[encoded data removed]",
      "text/plain": [
       "<Figure size 432x288 with 1 Axes>"
      ]
     },
     "metadata": {},
     "output_type": "display_data"
    },
    {
     "data": {
      "image/png": "[encoded data removed]",
      "text/plain": [
       "<Figure size 432x288 with 1 Axes>"
      ]
     },
     "metadata": {},
     "output_type": "display_data"
    },
    {
     "data": {
      "image/png": "[encoded data removed]",
      "text/plain": [
       "<Figure size 432x288 with 1 Axes>"
      ]
     },
     "metadata": {},
     "output_type": "display_data"
    }
   ],
   "source": [
    "#円の特徴マップ\n",
    "#check input image\n",
    "img_path = './data/circle/circler12_1105.jpg'\n",
    "#img_list = glob.glob(img_path + '*')\n",
    "size = (64, 64, 1)\n",
    "img = load_img(img_path, grayscale = True, target_size=size)\n",
    "x = img_to_array(img)\n",
    "#x = np.expand_dims(x, axis=0)\n",
    "img_tensor = x/255\n",
    "img_tensor = img_tensor[np.newaxis, ...]\n",
    "print(img_tensor.shape)\n",
    "#plt.imshow(img_tensor[0])\n",
    "#plt.show()\n",
    "\n",
    "activations = activation_model.predict(img_tensor)\n",
    "#print(len(activations))\n",
    "#print(activations)\n",
    "\n",
    "first_layer_activation = activations[1]\n",
    "print(first_layer_activation.shape)\n",
    "\n",
    "k = 0\n",
    "for i in range(8):\n",
    "    plt.imshow(first_layer_activation[0,:,:,i],cmap=\"gray\")\n",
    "    plt.xticks([])\n",
    "    plt.yticks([])\n",
    "    plt.savefig('data/l1c8/circle/circle12_1105_%d.jpg'%k)\n",
    "    k = k + 1\n",
    "    plt.show()"
   ]
  },
  {
   "cell_type": "code",
   "execution_count": 15,
   "metadata": {},
   "outputs": [
    {
     "name": "stdout",
     "output_type": "stream",
     "text": [
      "(1, 64, 64, 1)\n",
      "(1, 64, 64, 8)\n"
     ]
    },
    {
     "data": {
      "image/png": "[encoded data removed]",
      "text/plain": [
       "<Figure size 432x288 with 1 Axes>"
      ]
     },
     "metadata": {},
     "output_type": "display_data"
    },
    {
     "data": {
      "image/png": "[encoded data removed]",
      "text/plain": [
       "<Figure size 432x288 with 1 Axes>"
      ]
     },
     "metadata": {},
     "output_type": "display_data"
    },
    {
     "data": {
      "image/png": "[encoded data removed]",
      "text/plain": [
       "<Figure size 432x288 with 1 Axes>"
      ]
     },
     "metadata": {},
     "output_type": "display_data"
    },
    {
     "data": {
      "image/png": "[encoded data removed]",
      "text/plain": [
       "<Figure size 432x288 with 1 Axes>"
      ]
     },
     "metadata": {},
     "output_type": "display_data"
    },
    {
     "data": {
      "image/png": "[encoded data removed]",
      "text/plain": [
       "<Figure size 432x288 with 1 Axes>"
      ]
     },
     "metadata": {},
     "output_type": "display_data"
    },
    {
     "data": {
      "image/png": "[encoded data removed]",
      "text/plain": [
       "<Figure size 432x288 with 1 Axes>"
      ]
     },
     "metadata": {},
     "output_type": "display_data"
    },
    {
     "data": {
      "image/png": "[encoded data removed]",
      "text/plain": [
       "<Figure size 432x288 with 1 Axes>"
      ]
     },
     "metadata": {},
     "output_type": "display_data"
    },
    {
     "data": {
      "image/png": "[encoded data removed]",
      "text/plain": [
       "<Figure size 432x288 with 1 Axes>"
      ]
     },
     "metadata": {},
     "output_type": "display_data"
    }
   ],
   "source": [
    "#三角形の特徴マップ\n",
    "#check input image\n",
    "img_path = './data/triangle/triangle12_1105.jpg'\n",
    "#img_list = glob.glob(img_path + '*')\n",
    "size = (64, 64, 1)\n",
    "img = load_img(img_path, grayscale = True, target_size=size)\n",
    "x = img_to_array(img)\n",
    "#x = np.expand_dims(x, axis=0)\n",
    "img_tensor = x/255\n",
    "img_tensor = img_tensor[np.newaxis, ...]\n",
    "print(img_tensor.shape)\n",
    "#plt.imshow(img_tensor[0])\n",
    "#plt.show()\n",
    "\n",
    "activations = activation_model.predict(img_tensor)\n",
    "#print(len(activations))\n",
    "#print(activations)\n",
    "\n",
    "first_layer_activation = activations[1]\n",
    "print(first_layer_activation.shape)\n",
    "\n",
    "k = 0\n",
    "for i in range(8):\n",
    "    plt.imshow(first_layer_activation[0,:,:,i],cmap=\"gray\")\n",
    "    plt.xticks([])\n",
    "    plt.yticks([])\n",
    "    plt.savefig('data/l1c8/triangle/triangle12_1105_%d.jpg'%k)\n",
    "    k = k + 1\n",
    "    plt.show()"
   ]
  },
  {
   "cell_type": "code",
   "execution_count": 16,
   "metadata": {},
   "outputs": [
    {
     "name": "stdout",
     "output_type": "stream",
     "text": [
      "(1, 64, 64, 1)\n",
      "(1, 64, 64, 8)\n"
     ]
    },
    {
     "data": {
      "image/png": "[encoded data removed]",
      "text/plain": [
       "<Figure size 432x288 with 1 Axes>"
      ]
     },
     "metadata": {},
     "output_type": "display_data"
    },
    {
     "data": {
      "image/png": "[encoded data removed]",
      "text/plain": [
       "<Figure size 432x288 with 1 Axes>"
      ]
     },
     "metadata": {},
     "output_type": "display_data"
    },
    {
     "data": {
      "image/png": "[encoded data removed]",
      "text/plain": [
       "<Figure size 432x288 with 1 Axes>"
      ]
     },
     "metadata": {},
     "output_type": "display_data"
    },
    {
     "data": {
      "image/png": "[encoded data removed]",
      "text/plain": [
       "<Figure size 432x288 with 1 Axes>"
      ]
     },
     "metadata": {},
     "output_type": "display_data"
    },
    {
     "data": {
      "image/png": "[encoded data removed]",
      "text/plain": [
       "<Figure size 432x288 with 1 Axes>"
      ]
     },
     "metadata": {},
     "output_type": "display_data"
    },
    {
     "data": {
      "image/png": "[encoded data removed]",
      "text/plain": [
       "<Figure size 432x288 with 1 Axes>"
      ]
     },
     "metadata": {},
     "output_type": "display_data"
    },
    {
     "data": {
      "image/png": "[encoded data removed]",
      "text/plain": [
       "<Figure size 432x288 with 1 Axes>"
      ]
     },
     "metadata": {},
     "output_type": "display_data"
    },
    {
     "data": {
      "image/png": "[encoded data removed]",
      "text/plain": [
       "<Figure size 432x288 with 1 Axes>"
      ]
     },
     "metadata": {},
     "output_type": "display_data"
    }
   ],
   "source": [
    "#四角形の特徴マップ\n",
    "#check input image\n",
    "img_path = './data/rectangle/rectangle12_1105.jpg'\n",
    "#img_list = glob.glob(img_path + '*')\n",
    "size = (64, 64, 1)\n",
    "img = load_img(img_path, grayscale = True, target_size=size)\n",
    "x = img_to_array(img)\n",
    "#x = np.expand_dims(x, axis=0)\n",
    "img_tensor = x/255\n",
    "img_tensor = img_tensor[np.newaxis, ...]\n",
    "print(img_tensor.shape)\n",
    "#plt.imshow(img_tensor[0])\n",
    "#plt.show()\n",
    "\n",
    "activations = activation_model.predict(img_tensor)\n",
    "#print(len(activations))\n",
    "#print(activations)\n",
    "\n",
    "first_layer_activation = activations[1]\n",
    "print(first_layer_activation.shape)\n",
    "\n",
    "k = 0\n",
    "for i in range(8):\n",
    "    plt.imshow(first_layer_activation[0,:,:,i],cmap=\"gray\")\n",
    "    plt.xticks([])\n",
    "    plt.yticks([])\n",
    "    plt.savefig('data/l1c8/rectangle/rectangle12_1105_%d.jpg'%k)\n",
    "    k = k + 1\n",
    "    plt.show()"
   ]
  },
  {
   "cell_type": "code",
   "execution_count": 17,
   "metadata": {},
   "outputs": [
    {
     "name": "stdout",
     "output_type": "stream",
     "text": [
      "(1, 64, 64, 1)\n",
      "(1, 64, 64, 8)\n"
     ]
    },
    {
     "data": {
      "image/png": "[encoded data removed]",
      "text/plain": [
       "<Figure size 432x288 with 1 Axes>"
      ]
     },
     "metadata": {},
     "output_type": "display_data"
    },
    {
     "data": {
      "image/png": "[encoded data removed]",
      "text/plain": [
       "<Figure size 432x288 with 1 Axes>"
      ]
     },
     "metadata": {},
     "output_type": "display_data"
    },
    {
     "data": {
      "image/png": "[encoded data removed]",
      "text/plain": [
       "<Figure size 432x288 with 1 Axes>"
      ]
     },
     "metadata": {},
     "output_type": "display_data"
    },
    {
     "data": {
      "image/png": "[encoded data removed]",
      "text/plain": [
       "<Figure size 432x288 with 1 Axes>"
      ]
     },
     "metadata": {},
     "output_type": "display_data"
    },
    {
     "data": {
      "image/png": "[encoded data removed]",
      "text/plain": [
       "<Figure size 432x288 with 1 Axes>"
      ]
     },
     "metadata": {},
     "output_type": "display_data"
    },
    {
     "data": {
      "image/png": "[encoded data removed]",
      "text/plain": [
       "<Figure size 432x288 with 1 Axes>"
      ]
     },
     "metadata": {},
     "output_type": "display_data"
    },
    {
     "data": {
      "image/png": "[encoded data removed]",
      "text/plain": [
       "<Figure size 432x288 with 1 Axes>"
      ]
     },
     "metadata": {},
     "output_type": "display_data"
    },
    {
     "data": {
      "image/png": "[encoded data removed]",
      "text/plain": [
       "<Figure size 432x288 with 1 Axes>"
      ]
     },
     "metadata": {},
     "output_type": "display_data"
    }
   ],
   "source": [
    "#五角形の特徴マップ\n",
    "#check input image\n",
    "img_path = './data/pentagon/pentagon12_1105.jpg'\n",
    "#img_list = glob.glob(img_path + '*')\n",
    "size = (64, 64, 1)\n",
    "img = load_img(img_path, grayscale = True, target_size=size)\n",
    "x = img_to_array(img)\n",
    "#x = np.expand_dims(x, axis=0)\n",
    "img_tensor = x/255\n",
    "img_tensor = img_tensor[np.newaxis, ...]\n",
    "print(img_tensor.shape)\n",
    "#plt.imshow(img_tensor[0])\n",
    "#plt.show()\n",
    "\n",
    "activations = activation_model.predict(img_tensor)\n",
    "#print(len(activations))\n",
    "#print(activations)\n",
    "\n",
    "first_layer_activation = activations[1]\n",
    "print(first_layer_activation.shape)\n",
    "\n",
    "k = 0\n",
    "for i in range(8):\n",
    "    plt.imshow(first_layer_activation[0,:,:,i],cmap=\"gray\")\n",
    "    plt.xticks([])\n",
    "    plt.yticks([])\n",
    "    plt.savefig('data/l1c8/pentagon/pentagon12_1105_%d.jpg'%k)\n",
    "    k = k + 1\n",
    "    plt.show()"
   ]
  },
  {
   "cell_type": "code",
   "execution_count": 18,
   "metadata": {},
   "outputs": [
    {
     "name": "stdout",
     "output_type": "stream",
     "text": [
      "(1, 64, 64, 1)\n",
      "(1, 64, 64, 8)\n"
     ]
    },
    {
     "data": {
      "image/png": "[encoded data removed]",
      "text/plain": [
       "<Figure size 432x288 with 1 Axes>"
      ]
     },
     "metadata": {},
     "output_type": "display_data"
    },
    {
     "data": {
      "image/png": "[encoded data removed]",
      "text/plain": [
       "<Figure size 432x288 with 1 Axes>"
      ]
     },
     "metadata": {},
     "output_type": "display_data"
    },
    {
     "data": {
      "image/png": "[encoded data removed]",
      "text/plain": [
       "<Figure size 432x288 with 1 Axes>"
      ]
     },
     "metadata": {},
     "output_type": "display_data"
    },
    {
     "data": {
      "image/png": "[encoded data removed]",
      "text/plain": [
       "<Figure size 432x288 with 1 Axes>"
      ]
     },
     "metadata": {},
     "output_type": "display_data"
    },
    {
     "data": {
      "image/png": "[encoded data removed]",
      "text/plain": [
       "<Figure size 432x288 with 1 Axes>"
      ]
     },
     "metadata": {},
     "output_type": "display_data"
    },
    {
     "data": {
      "image/png": "[encoded data removed]",
      "text/plain": [
       "<Figure size 432x288 with 1 Axes>"
      ]
     },
     "metadata": {},
     "output_type": "display_data"
    },
    {
     "data": {
      "image/png": "[encoded data removed]",
      "text/plain": [
       "<Figure size 432x288 with 1 Axes>"
      ]
     },
     "metadata": {},
     "output_type": "display_data"
    },
    {
     "data": {
      "image/png": "[encoded data removed]",
      "text/plain": [
       "<Figure size 432x288 with 1 Axes>"
      ]
     },
     "metadata": {},
     "output_type": "display_data"
    }
   ],
   "source": [
    "#六角形の特徴マップ\n",
    "#check input image\n",
    "img_path = './data/hexagon/hexagon12_1105.jpg'\n",
    "#img_list = glob.glob(img_path + '*')\n",
    "size = (64, 64, 1)\n",
    "img = load_img(img_path, grayscale = True, target_size=size)\n",
    "x = img_to_array(img)\n",
    "#x = np.expand_dims(x, axis=0)\n",
    "img_tensor = x/255\n",
    "img_tensor = img_tensor[np.newaxis, ...]\n",
    "print(img_tensor.shape)\n",
    "#plt.imshow(img_tensor[0])\n",
    "#plt.show()\n",
    "\n",
    "activations = activation_model.predict(img_tensor)\n",
    "#print(len(activations))\n",
    "#print(activations)\n",
    "\n",
    "first_layer_activation = activations[1]\n",
    "print(first_layer_activation.shape)\n",
    "\n",
    "k = 0\n",
    "for i in range(8):\n",
    "    plt.imshow(first_layer_activation[0,:,:,i],cmap=\"gray\")\n",
    "    plt.xticks([])\n",
    "    plt.yticks([])\n",
    "    plt.savefig('data/l1c8/hexagon/hexagon12_1105_%d.jpg'%k)\n",
    "    k = k + 1\n",
    "    plt.show()"
   ]
  }
 ],
 "metadata": {
  "kernelspec": {
   "display_name": "Python 3",
   "language": "python",
   "name": "python3"
  },
  "language_info": {
   "codemirror_mode": {
    "name": "ipython",
    "version": 3
   },
   "file_extension": ".py",
   "mimetype": "text/x-python",
   "name": "python",
   "nbconvert_exporter": "python",
   "pygments_lexer": "ipython3",
   "version": "3.7.6"
  }
 },
 "nbformat": 4,
 "nbformat_minor": 2
}
