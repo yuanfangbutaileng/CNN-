{
 "cells": [
  {
   "cell_type": "markdown",
   "metadata": {},
   "source": [
    "# CNN"
   ]
  },
  {
   "cell_type": "code",
   "execution_count": 2,
   "metadata": {},
   "outputs": [
    {
     "data": {
      "text/plain": [
       "[name: \"/device:CPU:0\"\n",
       " device_type: \"CPU\"\n",
       " memory_limit: 268435456\n",
       " locality {\n",
       " }\n",
       " incarnation: 12938270538072806019]"
      ]
     },
     "execution_count": 2,
     "metadata": {},
     "output_type": "execute_result"
    }
   ],
   "source": [
    "#TensorFlowがGPUを認識しているか確認\n",
    "from tensorflow.python.client import device_lib\n",
    "device_lib.list_local_devices()"
   ]
  },
  {
   "cell_type": "code",
   "execution_count": 3,
   "metadata": {},
   "outputs": [
    {
     "name": "stderr",
     "output_type": "stream",
     "text": [
      "Using TensorFlow backend.\n"
     ]
    }
   ],
   "source": [
    "#tensorflowをtfとしてインポート\n",
    "import tensorflow as tf\n",
    "\n",
    "#pltをインポート\n",
    "%matplotlib inline\n",
    "import matplotlib.pyplot as plt\n",
    "\n",
    "import keras\n",
    "from keras.utils import np_utils\n",
    "from keras.layers.convolutional import Conv2D, MaxPooling2D\n",
    "from keras.models import Sequential, Model\n",
    "from keras.layers.core import Dense, Dropout, Activation, Flatten\n",
    "from keras.preprocessing.image import array_to_img, img_to_array, load_img\n",
    "import numpy as np\n",
    "import pandas as pd\n",
    "from sklearn.model_selection import train_test_split\n",
    "import matplotlib.pyplot as plt\n",
    "import os\n",
    "import re"
   ]
  },
  {
   "cell_type": "code",
   "execution_count": 4,
   "metadata": {},
   "outputs": [
    {
     "name": "stdout",
     "output_type": "stream",
     "text": [
      "WARNING:tensorflow:From /Users/li/anaconda3/envs/tensorflow/lib/python3.7/site-packages/tensorflow/python/framework/op_def_library.py:263: colocate_with (from tensorflow.python.framework.ops) is deprecated and will be removed in a future version.\n",
      "Instructions for updating:\n",
      "Colocations handled automatically by placer.\n",
      "_________________________________________________________________\n",
      "Layer (type)                 Output Shape              Param #   \n",
      "=================================================================\n",
      "conv2d_1 (Conv2D)            (None, 64, 64, 7)         70        \n",
      "_________________________________________________________________\n",
      "activation_1 (Activation)    (None, 64, 64, 7)         0         \n",
      "_________________________________________________________________\n",
      "max_pooling2d_1 (MaxPooling2 (None, 32, 32, 7)         0         \n",
      "_________________________________________________________________\n",
      "flatten_1 (Flatten)          (None, 7168)              0         \n",
      "_________________________________________________________________\n",
      "dense_1 (Dense)              (None, 5)                 35845     \n",
      "_________________________________________________________________\n",
      "activation_2 (Activation)    (None, 5)                 0         \n",
      "=================================================================\n",
      "Total params: 35,915\n",
      "Trainable params: 35,915\n",
      "Non-trainable params: 0\n",
      "_________________________________________________________________\n"
     ]
    }
   ],
   "source": [
    "#import circle.py\n",
    "from keras.models import Sequential\n",
    "from keras.layers import Activation,Dense,Dropout, Flatten\n",
    "from keras.layers import Conv2D, MaxPooling2D\n",
    "from keras.preprocessing.image import ImageDataGenerator\n",
    "\n",
    "x_train, x_test, y_train, y_test = np.load('./data/dataset.npy', allow_pickle = True)\n",
    "batch_size = 1\n",
    "epochs = 1\n",
    "\n",
    "#モデルを作成\n",
    "model = Sequential()\n",
    "#conv１層目\n",
    "model.add(Conv2D(7, (3, 3), padding='same', input_shape=(64, 64, 1)))\n",
    "model.add(Activation('relu'))\n",
    "model.add(MaxPooling2D(pool_size=(2, 2)))\n",
    "\n",
    "#conv２層目\n",
    "#model.add(Conv2D(4, (3, 3),padding='same'))\n",
    "#model.add(Activation('relu'))\n",
    "#model.add(MaxPooling2D(pool_size=(2, 2)))\n",
    "\n",
    "#conv３層目\n",
    "#model.add(Conv2D(128, (3, 3), padding='same'))\n",
    "#model.add(Activation('relu'))\n",
    "#model.add(MaxPooling2D(pool_size=(2,2)))\n",
    "        \n",
    "#conv４層目\n",
    "#model.add(Conv2D(256, (3, 3), padding='same'))\n",
    "#model.add(Activation('relu'))\n",
    "#model.add(MaxPooling2D(pool_size=(2,2)))\n",
    "\n",
    "#conv５層目\n",
    "#model.add(Conv2D(512, (3, 3), padding='same'))\n",
    "#model.add(Activation('relu'))\n",
    "        \n",
    "#conv６層目\n",
    "#model.add(Conv2D(256, (1, 1), padding='same'))\n",
    "#model.add(Activation('relu'))\n",
    "\n",
    "#conv７層目          \n",
    "#model.add(Conv2D(512, (3, 3), padding='same'))\n",
    "#model.add(Activation('relu'))\n",
    "\n",
    "#conv８層目          \n",
    "#model.add(Conv2D(256, (1, 1), padding='same'))\n",
    "#model.add(Activation('relu'))\n",
    "          \n",
    "model.add(Flatten())\n",
    "#model.add(Dropout(0.5))\n",
    "#model.add(Dense(64))\n",
    "#model.add(Activation('relu'))\n",
    "model.add(Dense(5))\n",
    "model.add(Activation('softmax'))\n",
    "          \n",
    "# サマリーを出力\n",
    "model.summary()"
   ]
  },
  {
   "cell_type": "code",
   "execution_count": 5,
   "metadata": {
    "scrolled": true
   },
   "outputs": [
    {
     "name": "stdout",
     "output_type": "stream",
     "text": [
      "WARNING:tensorflow:From /Users/li/anaconda3/envs/tensorflow/lib/python3.7/site-packages/tensorflow/python/ops/math_ops.py:3066: to_int32 (from tensorflow.python.ops.math_ops) is deprecated and will be removed in a future version.\n",
      "Instructions for updating:\n",
      "Use tf.cast instead.\n",
      "Train on 35840 samples, validate on 8960 samples\n",
      "Epoch 1/30\n",
      "35840/35840 [==============================] - 106s 3ms/step - loss: 1.1236 - acc: 0.5536 - val_loss: 0.7752 - val_acc: 0.7465\n",
      "Epoch 2/30\n",
      "35840/35840 [==============================] - 104s 3ms/step - loss: 0.5629 - acc: 0.8423 - val_loss: 0.4204 - val_acc: 0.8915\n",
      "Epoch 3/30\n",
      "35840/35840 [==============================] - 105s 3ms/step - loss: 0.3126 - acc: 0.9359 - val_loss: 0.2561 - val_acc: 0.9390\n",
      "Epoch 4/30\n",
      "35840/35840 [==============================] - 102s 3ms/step - loss: 0.1843 - acc: 0.9756 - val_loss: 0.1596 - val_acc: 0.9781\n",
      "Epoch 5/30\n",
      "35840/35840 [==============================] - 102s 3ms/step - loss: 0.1132 - acc: 0.9926 - val_loss: 0.1047 - val_acc: 0.9913\n",
      "Epoch 6/30\n",
      "35840/35840 [==============================] - 104s 3ms/step - loss: 0.0711 - acc: 0.9976 - val_loss: 0.0782 - val_acc: 0.9915\n",
      "Epoch 7/30\n",
      "35840/35840 [==============================] - 102s 3ms/step - loss: 0.0457 - acc: 0.9994 - val_loss: 0.0489 - val_acc: 0.9967\n",
      "Epoch 8/30\n",
      "35840/35840 [==============================] - 102s 3ms/step - loss: 0.0294 - acc: 0.9999 - val_loss: 0.0339 - val_acc: 0.9990\n",
      "Epoch 9/30\n",
      "35840/35840 [==============================] - 108s 3ms/step - loss: 0.0195 - acc: 0.9999 - val_loss: 0.0263 - val_acc: 0.9997\n",
      "Epoch 10/30\n",
      "35840/35840 [==============================] - 152s 4ms/step - loss: 0.0132 - acc: 1.0000 - val_loss: 0.0182 - val_acc: 0.9994\n",
      "Epoch 11/30\n",
      "35840/35840 [==============================] - 164s 5ms/step - loss: 0.0091 - acc: 1.0000 - val_loss: 0.0130 - val_acc: 0.9998\n",
      "Epoch 12/30\n",
      "35840/35840 [==============================] - 166s 5ms/step - loss: 0.0061 - acc: 1.0000 - val_loss: 0.0103 - val_acc: 0.9999\n",
      "Epoch 13/30\n",
      "35840/35840 [==============================] - 161s 5ms/step - loss: 0.0041 - acc: 1.0000 - val_loss: 0.0069 - val_acc: 0.9999\n",
      "Epoch 14/30\n",
      "35840/35840 [==============================] - 137s 4ms/step - loss: 0.0029 - acc: 1.0000 - val_loss: 0.0053 - val_acc: 0.9999\n",
      "Epoch 15/30\n",
      "35840/35840 [==============================] - 123s 3ms/step - loss: 0.0020 - acc: 1.0000 - val_loss: 0.0044 - val_acc: 1.0000\n",
      "Epoch 16/30\n",
      "35840/35840 [==============================] - 178s 5ms/step - loss: 0.0020 - acc: 0.9999 - val_loss: 0.0035 - val_acc: 1.0000\n",
      "Epoch 17/30\n",
      "35840/35840 [==============================] - 163s 5ms/step - loss: 0.0011 - acc: 1.0000 - val_loss: 0.0028 - val_acc: 0.9999\n",
      "Epoch 18/30\n",
      "35840/35840 [==============================] - 135s 4ms/step - loss: 7.8844e-04 - acc: 1.0000 - val_loss: 0.0028 - val_acc: 0.9999\n",
      "Epoch 19/30\n",
      "35840/35840 [==============================] - 146s 4ms/step - loss: 6.2546e-04 - acc: 1.0000 - val_loss: 0.0018 - val_acc: 1.0000\n",
      "Epoch 20/30\n",
      "35840/35840 [==============================] - 144s 4ms/step - loss: 5.8136e-04 - acc: 1.0000 - val_loss: 0.0015 - val_acc: 1.0000\n",
      "Epoch 21/30\n",
      "35840/35840 [==============================] - 141s 4ms/step - loss: 3.2525e-04 - acc: 1.0000 - val_loss: 0.0012 - val_acc: 1.0000\n",
      "Epoch 22/30\n",
      "35840/35840 [==============================] - 139s 4ms/step - loss: 4.7959e-04 - acc: 1.0000 - val_loss: 0.0016 - val_acc: 1.0000\n",
      "Epoch 23/30\n",
      "35840/35840 [==============================] - 129s 4ms/step - loss: 2.6792e-04 - acc: 1.0000 - val_loss: 0.0012 - val_acc: 0.9999\n",
      "Epoch 24/30\n",
      "35840/35840 [==============================] - 131s 4ms/step - loss: 1.8171e-04 - acc: 1.0000 - val_loss: 9.4120e-04 - val_acc: 0.9999\n",
      "Epoch 25/30\n",
      "35840/35840 [==============================] - 133s 4ms/step - loss: 1.4365e-04 - acc: 1.0000 - val_loss: 7.2958e-04 - val_acc: 1.0000\n",
      "Epoch 26/30\n",
      "35840/35840 [==============================] - 131s 4ms/step - loss: 1.0937e-04 - acc: 1.0000 - val_loss: 6.6793e-04 - val_acc: 1.0000\n",
      "Epoch 27/30\n",
      "35840/35840 [==============================] - 139s 4ms/step - loss: 1.1689e-04 - acc: 1.0000 - val_loss: 5.2971e-04 - val_acc: 1.0000\n",
      "Epoch 28/30\n",
      "35840/35840 [==============================] - 145s 4ms/step - loss: 6.8082e-05 - acc: 1.0000 - val_loss: 4.0092e-04 - val_acc: 1.0000\n",
      "Epoch 29/30\n",
      "35840/35840 [==============================] - 139s 4ms/step - loss: 5.9318e-05 - acc: 1.0000 - val_loss: 3.2340e-04 - val_acc: 1.0000\n",
      "Epoch 30/30\n",
      "35840/35840 [==============================] - 137s 4ms/step - loss: 3.8601e-05 - acc: 1.0000 - val_loss: 5.9337e-04 - val_acc: 0.9998\n"
     ]
    },
    {
     "data": {
      "image/png": "[encoded data removed]",
      "text/plain": [
       "<Figure size 432x288 with 1 Axes>"
      ]
     },
     "metadata": {
      "needs_background": "light"
     },
     "output_type": "display_data"
    }
   ],
   "source": [
    "#モデルのコンパイル\n",
    "model.compile(optimizer='adam',\n",
    "                           loss='categorical_crossentropy',\n",
    "                           metrics=['accuracy'])\n",
    "history = model.fit(x_train, y_train, epochs=30, validation_data = (x_test, y_test))\n",
    "\n",
    "# 绘制训练 & 验证的准确率值\n",
    "plt.plot(history.history['acc'])\n",
    "plt.plot(history.history['val_acc'])\n",
    "plt.title('Model accuracy')\n",
    "plt.ylabel('Accuracy')\n",
    "plt.xlabel('Epoch')\n",
    "plt.legend(['Train', 'Test'], loc='upper left')\n",
    "plt.show()"
   ]
  },
  {
   "cell_type": "code",
   "execution_count": 6,
   "metadata": {},
   "outputs": [
    {
     "name": "stdout",
     "output_type": "stream",
     "text": [
      "8960/8960 [==============================] - 12s 1ms/step\n",
      "test loss: 0.0005933653046245776\n",
      "test acc: 0.9997767857142857\n"
     ]
    }
   ],
   "source": [
    "#学習済みのモデルでテスト\n",
    "score = model.evaluate(x_test, y_test)\n",
    "print('test loss:',score[0])\n",
    "print('test acc:',score[1])"
   ]
  },
  {
   "cell_type": "code",
   "execution_count": 6,
   "metadata": {},
   "outputs": [
    {
     "ename": "KeyError",
     "evalue": "'accuracy'",
     "output_type": "error",
     "traceback": [
      "\u001b[0;31m---------------------------------------------------------------------------\u001b[0m",
      "\u001b[0;31mKeyError\u001b[0m                                  Traceback (most recent call last)",
      "\u001b[0;32m<ipython-input-6-e8ae370d0f4b>\u001b[0m in \u001b[0;36m<module>\u001b[0;34m\u001b[0m\n\u001b[1;32m      2\u001b[0m \u001b[0mloss\u001b[0m \u001b[0;34m=\u001b[0m \u001b[0mhistory\u001b[0m\u001b[0;34m.\u001b[0m\u001b[0mhistory\u001b[0m\u001b[0;34m[\u001b[0m\u001b[0;34m'loss'\u001b[0m\u001b[0;34m]\u001b[0m\u001b[0;34m\u001b[0m\u001b[0;34m\u001b[0m\u001b[0m\n\u001b[1;32m      3\u001b[0m \u001b[0mval_loss\u001b[0m \u001b[0;34m=\u001b[0m \u001b[0mhistory\u001b[0m\u001b[0;34m.\u001b[0m\u001b[0mhistory\u001b[0m\u001b[0;34m[\u001b[0m\u001b[0;34m'val_loss'\u001b[0m\u001b[0;34m]\u001b[0m\u001b[0;34m\u001b[0m\u001b[0;34m\u001b[0m\u001b[0m\n\u001b[0;32m----> 4\u001b[0;31m \u001b[0macc\u001b[0m \u001b[0;34m=\u001b[0m \u001b[0mhistory\u001b[0m\u001b[0;34m.\u001b[0m\u001b[0mhistory\u001b[0m\u001b[0;34m[\u001b[0m\u001b[0;34m'accuracy'\u001b[0m\u001b[0;34m]\u001b[0m\u001b[0;34m\u001b[0m\u001b[0;34m\u001b[0m\u001b[0m\n\u001b[0m\u001b[1;32m      5\u001b[0m \u001b[0mval_acc\u001b[0m \u001b[0;34m=\u001b[0m \u001b[0mhistory\u001b[0m\u001b[0;34m.\u001b[0m\u001b[0mhistory\u001b[0m\u001b[0;34m[\u001b[0m\u001b[0;34m'val_accuracy'\u001b[0m\u001b[0;34m]\u001b[0m\u001b[0;34m\u001b[0m\u001b[0;34m\u001b[0m\u001b[0m\n\u001b[1;32m      6\u001b[0m \u001b[0mepochs\u001b[0m \u001b[0;34m=\u001b[0m \u001b[0mlen\u001b[0m\u001b[0;34m(\u001b[0m\u001b[0mloss\u001b[0m\u001b[0;34m)\u001b[0m\u001b[0;34m\u001b[0m\u001b[0;34m\u001b[0m\u001b[0m\n",
      "\u001b[0;31mKeyError\u001b[0m: 'accuracy'"
     ]
    }
   ],
   "source": [
    "# 学習結果を表示\n",
    "loss = history.history['loss']\n",
    "val_loss = history.history['val_loss']\n",
    "acc = history.history['accuracy']\n",
    "val_acc = history.history['val_accuracy']\n",
    "epochs = len(loss)\n",
    "\n",
    "#訓練データ(トレーニングデータ)とは、機械学習の教師あり学習において、人工知能のニューラルネットワークがあらかじめ与えられる、例題と答えについてのデータ。\n",
    "#この大量のデータをもとに、ニューラルネットワーク自体が出力結果の正否を判断し、最適化を行う。\n",
    "#統計学や機械学習において何らかの推定を行う際に、トレーニングデータだけでは学習されたモデルを十分に評価できないという問題がある。\n",
    "#この問題は過剰適合や過学習と呼ばれる。この問題を解決するために、学習に用いないデータを用意し、いくつかの学習モデルの評価を行うことがある。\n",
    "#この、評価を行うためのデータがテストデータと呼ばれる。\n",
    "#交差検証においては、標本データをあらかじめトレーニングデータとテストデータに分割し、トレーニングデータで学習し、\n",
    "#テストデータに学習モデルを適用させることで性能の評価を行う。\n",
    "plt.plot(range(epochs), loss, label='loss(training data)') #トレーニングデータに対する判定結果のloss\n",
    "plt.plot(range(epochs), val_loss, label='val_loss(test data)')\n",
    "plt.legend(loc='best')\n",
    "plt.grid()\n",
    "plt.xlabel('epoch')\n",
    "plt.ylabel('loss')\n",
    "plt.show()\n",
    "\n",
    "plt.plot(range(epochs), acc, label='acc(training data)')\n",
    "plt.plot(range(epochs), val_acc,  label='val_acc(test data)')\n",
    "plt.legend(loc='best')\n",
    "plt.grid()\n",
    "plt.xlabel('epoch')\n",
    "plt.ylabel('acc')\n",
    "plt.show()"
   ]
  },
  {
   "cell_type": "code",
   "execution_count": 11,
   "metadata": {},
   "outputs": [
    {
     "name": "stdout",
     "output_type": "stream",
     "text": [
      "8960/8960 [==============================] - 8s 907us/step\n",
      "[3.3010949e-06 6.4293775e-09 9.9999666e-01 3.2711588e-20 1.6818234e-08]\n"
     ]
    }
   ],
   "source": [
    "classes = model.predict(x_test, batch_size=128, verbose=True)\n",
    "print(classes[1])"
   ]
  },
  {
   "cell_type": "code",
   "execution_count": 13,
   "metadata": {},
   "outputs": [],
   "source": [
    "#circleに対して、各画像のクラス確率\n",
    "from keras.preprocessing.image import img_to_array, load_img\n",
    "from keras.models import load_model\n",
    "import numpy as np\n",
    "import glob\n",
    "\n",
    "# テストする画像が入っているディレクトリ\n",
    "img_path = './data/circle/'\n",
    "\n",
    "img_list = glob.glob(img_path + '*')\n",
    "size = (64, 64, 1)\n",
    "\n",
    "for index, i in enumerate(img_list):\n",
    "    # 画像をサイズを変えて読み込み、配列化\n",
    "    test_img = img_to_array(load_img(i, grayscale=True, target_size=size))\n",
    "    # 0~1の範囲にする\n",
    "    test_img = test_img / 255\n",
    "    # 4次元配列に\n",
    "    test_img = test_img[np.newaxis, ...]\n",
    "    # 予測\n",
    "    pre = model.predict(test_img)\n",
    "    #if np.max(pre[0]) == pre[0, 0]:\n",
    "     #   print(f'{img_list[index]} -> {pre} は circle')\n",
    "    if np.max(pre[0]) == pre[0, 1]:\n",
    "        print(f'{img_list[index]} -> {pre} は other')\n",
    "        "
   ]
  },
  {
   "cell_type": "code",
   "execution_count": 10,
   "metadata": {},
   "outputs": [],
   "source": [
    "#circleに対して、各画像のクラス確率\n",
    "from keras.preprocessing.image import img_to_array, load_img\n",
    "from keras.models import load_model\n",
    "import numpy as np\n",
    "import glob\n",
    "\n",
    "# テストする画像が入っているディレクトリ\n",
    "img_path = './data/other/'\n",
    "\n",
    "img_list = glob.glob(img_path + '*')\n",
    "size = (64, 64, 1)\n",
    "\n",
    "for index, i in enumerate(img_list):\n",
    "    # 画像をサイズを変えて読み込み、配列化\n",
    "    test_img = img_to_array(load_img(i, grayscale=True, target_size=size))\n",
    "    # 0~1の範囲にする\n",
    "    test_img = test_img / 255\n",
    "    # 4次元配列に\n",
    "    test_img = test_img[np.newaxis, ...]\n",
    "    # 予測\n",
    "    pre = model.predict(test_img)\n",
    "    if np.max(pre[0]) == pre[0, 0]:\n",
    "        print(f'{img_list[index]} -> {pre} は circle')\n",
    "        #if np.max(pre[0]) == pre[0, 1]:\n",
    "         #   print(f'{img_list[index]} -> {pre} は other')"
   ]
  },
  {
   "cell_type": "code",
   "execution_count": 14,
   "metadata": {},
   "outputs": [],
   "source": [
    "#save model\n",
    "model_layer1channel7_json = model.to_json()\n",
    "open(\"model_architecture.json\", mode='w').write(model_layer1channel7_json)\n",
    "\n",
    "#save weight\n",
    "model.save_weights(\"layer1channel7_weights.hdf5\")"
   ]
  },
  {
   "cell_type": "code",
   "execution_count": 15,
   "metadata": {},
   "outputs": [
    {
     "data": {
      "text/plain": [
       "[<tf.Tensor 'conv2d_1/BiasAdd:0' shape=(?, 64, 64, 7) dtype=float32>,\n",
       " <tf.Tensor 'activation_1/Relu:0' shape=(?, 64, 64, 7) dtype=float32>,\n",
       " <tf.Tensor 'max_pooling2d_1/MaxPool:0' shape=(?, 32, 32, 7) dtype=float32>,\n",
       " <tf.Tensor 'flatten_1/Reshape:0' shape=(?, ?) dtype=float32>,\n",
       " <tf.Tensor 'dense_1/BiasAdd:0' shape=(?, 5) dtype=float32>,\n",
       " <tf.Tensor 'activation_2/Softmax:0' shape=(?, 5) dtype=float32>]"
      ]
     },
     "execution_count": 15,
     "metadata": {},
     "output_type": "execute_result"
    }
   ],
   "source": [
    "#出力する中間層を指定\n",
    "layer_outputs = [layer.output for layer in model.layers[0:6]]\n",
    "layer_outputs"
   ]
  },
  {
   "cell_type": "code",
   "execution_count": 16,
   "metadata": {},
   "outputs": [
    {
     "name": "stdout",
     "output_type": "stream",
     "text": [
      "_________________________________________________________________\n",
      "Layer (type)                 Output Shape              Param #   \n",
      "=================================================================\n",
      "conv2d_1_input (InputLayer)  (None, 64, 64, 1)         0         \n",
      "_________________________________________________________________\n",
      "conv2d_1 (Conv2D)            (None, 64, 64, 7)         70        \n",
      "_________________________________________________________________\n",
      "activation_1 (Activation)    (None, 64, 64, 7)         0         \n",
      "_________________________________________________________________\n",
      "max_pooling2d_1 (MaxPooling2 (None, 32, 32, 7)         0         \n",
      "_________________________________________________________________\n",
      "flatten_1 (Flatten)          (None, 7168)              0         \n",
      "_________________________________________________________________\n",
      "dense_1 (Dense)              (None, 5)                 35845     \n",
      "_________________________________________________________________\n",
      "activation_2 (Activation)    (None, 5)                 0         \n",
      "=================================================================\n",
      "Total params: 35,915\n",
      "Trainable params: 35,915\n",
      "Non-trainable params: 0\n",
      "_________________________________________________________________\n"
     ]
    }
   ],
   "source": [
    "#中間層を出力するモデルを作成\n",
    "activation_model = Model(inputs=model.input, outputs=layer_outputs)\n",
    "activation_model.summary()"
   ]
  },
  {
   "cell_type": "code",
   "execution_count": 24,
   "metadata": {},
   "outputs": [
    {
     "data": {
      "text/plain": [
       "array([[[[-0.6500723 , -0.24612564,  0.01077619, -1.7503383 ,\n",
       "          -2.3329906 ,  0.9242527 , -0.0235086 ]],\n",
       "\n",
       "        [[ 1.2495949 ,  0.9250989 , -0.01423501,  0.60640275,\n",
       "           1.5908973 , -1.2541078 ,  0.41412112]],\n",
       "\n",
       "        [[-0.65082765, -0.8724959 , -0.546606  , -1.7659045 ,\n",
       "          -2.3539345 ,  0.9757401 ,  0.27494928]]],\n",
       "\n",
       "\n",
       "       [[[-0.6392134 ,  0.3848047 ,  0.5949894 ,  1.8292418 ,\n",
       "          -1.6042446 , -1.2900462 ,  0.12773673]],\n",
       "\n",
       "        [[ 0.7585206 , -1.6148646 ,  0.3338512 , -0.3083871 ,\n",
       "           2.3997667 ,  1.1965467 ,  0.24398734]],\n",
       "\n",
       "        [[-0.08654847,  1.2742503 ,  0.14269225,  1.864334  ,\n",
       "          -1.6121835 , -1.1186618 ,  0.26587853]]],\n",
       "\n",
       "\n",
       "       [[[-0.2634682 , -0.18870021,  0.01908158, -0.07679923,\n",
       "          -0.10250683,  0.3517658 , -0.31879684]],\n",
       "\n",
       "        [[ 1.0312637 ,  0.6860065 , -0.00428221, -0.8588207 ,\n",
       "           1.7427056 ,  0.01540274,  0.40836233]],\n",
       "\n",
       "        [[-0.9612037 , -0.47717148, -0.6037252 , -0.08704335,\n",
       "          -0.08864016,  0.13067444,  0.33364058]]]], dtype=float32)"
      ]
     },
     "execution_count": 24,
     "metadata": {},
     "output_type": "execute_result"
    }
   ],
   "source": [
    "weights = model.get_layer(\"conv2d_1\").get_weights()[0]\n",
    "weights.shape\n",
    "\n",
    "weights"
   ]
  },
  {
   "cell_type": "code",
   "execution_count": 20,
   "metadata": {},
   "outputs": [
    {
     "data": {
      "image/png": "[encoded data removed]",
      "text/plain": [
       "<Figure size 432x288 with 7 Axes>"
      ]
     },
     "metadata": {},
     "output_type": "display_data"
    }
   ],
   "source": [
    "def plot_conv_weights(filters):\n",
    "    filter_num = filters.shape[3]\n",
    "    \n",
    "    for i in range(filter_num):\n",
    "        plt.subplot(filter_num/6 + 1, 4, i+1)\n",
    "        plt.imshow(filters[:,:,0,i], cmap=\"gray\")\n",
    "        plt.xticks([])\n",
    "        plt.yticks([])\n",
    "        \n",
    "plot_conv_weights(model.layers[0].get_weights()[0])"
   ]
  },
  {
   "cell_type": "code",
   "execution_count": 32,
   "metadata": {},
   "outputs": [
    {
     "name": "stdout",
     "output_type": "stream",
     "text": [
      "(1, 64, 64, 1)\n",
      "(1, 64, 64, 7)\n"
     ]
    },
    {
     "data": {
      "image/png": "[encoded data removed]",
      "text/plain": [
       "<Figure size 432x288 with 1 Axes>"
      ]
     },
     "metadata": {},
     "output_type": "display_data"
    },
    {
     "data": {
      "image/png": "[encoded data removed]",
      "text/plain": [
       "<Figure size 432x288 with 1 Axes>"
      ]
     },
     "metadata": {},
     "output_type": "display_data"
    },
    {
     "data": {
      "image/png": "[encoded data removed]",
      "text/plain": [
       "<Figure size 432x288 with 1 Axes>"
      ]
     },
     "metadata": {},
     "output_type": "display_data"
    },
    {
     "data": {
      "image/png": "[encoded data removed]",
      "text/plain": [
       "<Figure size 432x288 with 1 Axes>"
      ]
     },
     "metadata": {},
     "output_type": "display_data"
    },
    {
     "data": {
      "image/png": "[encoded data removed]",
      "text/plain": [
       "<Figure size 432x288 with 1 Axes>"
      ]
     },
     "metadata": {},
     "output_type": "display_data"
    },
    {
     "data": {
      "image/png": "[encoded data removed]",
      "text/plain": [
       "<Figure size 432x288 with 1 Axes>"
      ]
     },
     "metadata": {},
     "output_type": "display_data"
    },
    {
     "data": {
      "image/png": "[encoded data removed]",
      "text/plain": [
       "<Figure size 432x288 with 1 Axes>"
      ]
     },
     "metadata": {},
     "output_type": "display_data"
    }
   ],
   "source": [
    "#円の特徴マップ\n",
    "#check input image\n",
    "img_path = './data/circle/circler20_1.jpg'\n",
    "#img_list = glob.glob(img_path + '*')\n",
    "size = (64, 64, 1)\n",
    "img = load_img(img_path, grayscale = True, target_size=size)\n",
    "x = img_to_array(img)\n",
    "#x = np.expand_dims(x, axis=0)\n",
    "img_tensor = x/255\n",
    "img_tensor = img_tensor[np.newaxis, ...]\n",
    "print(img_tensor.shape)\n",
    "#plt.imshow(img_tensor[0])\n",
    "#plt.show()\n",
    "\n",
    "activations = activation_model.predict(img_tensor)\n",
    "#print(len(activations))\n",
    "#print(activations)\n",
    "\n",
    "first_layer_activation = activations[1]\n",
    "print(first_layer_activation.shape)\n",
    "\n",
    "\n",
    "for i in range(7):\n",
    "    plt.imshow(first_layer_activation[0,:,:,i],cmap=\"gray\")\n",
    "    plt.xticks([])\n",
    "    plt.yticks([])  \n",
    "    plt.show()"
   ]
  },
  {
   "cell_type": "code",
   "execution_count": 33,
   "metadata": {},
   "outputs": [
    {
     "name": "stdout",
     "output_type": "stream",
     "text": [
      "(1, 64, 64, 1)\n",
      "(1, 64, 64, 7)\n"
     ]
    },
    {
     "data": {
      "image/png": "[encoded data removed]",
      "text/plain": [
       "<Figure size 432x288 with 1 Axes>"
      ]
     },
     "metadata": {},
     "output_type": "display_data"
    },
    {
     "data": {
      "image/png": "[encoded data removed]",
      "text/plain": [
       "<Figure size 432x288 with 1 Axes>"
      ]
     },
     "metadata": {},
     "output_type": "display_data"
    },
    {
     "data": {
      "image/png": "[encoded data removed]",
      "text/plain": [
       "<Figure size 432x288 with 1 Axes>"
      ]
     },
     "metadata": {},
     "output_type": "display_data"
    },
    {
     "data": {
      "image/png": "[encoded data removed]",
      "text/plain": [
       "<Figure size 432x288 with 1 Axes>"
      ]
     },
     "metadata": {},
     "output_type": "display_data"
    },
    {
     "data": {
      "image/png": "[encoded data removed]",
      "text/plain": [
       "<Figure size 432x288 with 1 Axes>"
      ]
     },
     "metadata": {},
     "output_type": "display_data"
    },
    {
     "data": {
      "image/png": "[encoded data removed]",
      "text/plain": [
       "<Figure size 432x288 with 1 Axes>"
      ]
     },
     "metadata": {},
     "output_type": "display_data"
    },
    {
     "data": {
      "image/png": "[encoded data removed]",
      "text/plain": [
       "<Figure size 432x288 with 1 Axes>"
      ]
     },
     "metadata": {},
     "output_type": "display_data"
    }
   ],
   "source": [
    "#三角形の特徴マップ\n",
    "#check input image\n",
    "img_path = './data/triangle/triangle20_1.jpg'\n",
    "#img_list = glob.glob(img_path + '*')\n",
    "size = (64, 64, 1)\n",
    "img = load_img(img_path, grayscale = True, target_size=size)\n",
    "x = img_to_array(img)\n",
    "#x = np.expand_dims(x, axis=0)\n",
    "img_tensor = x/255\n",
    "img_tensor = img_tensor[np.newaxis, ...]\n",
    "print(img_tensor.shape)\n",
    "#plt.imshow(img_tensor[0])\n",
    "#plt.show()\n",
    "\n",
    "activations = activation_model.predict(img_tensor)\n",
    "#print(len(activations))\n",
    "#print(activations)\n",
    "\n",
    "first_layer_activation = activations[1]\n",
    "print(first_layer_activation.shape)\n",
    "\n",
    "k = 0\n",
    "for i in range(7):\n",
    "    plt.imshow(first_layer_activation[0,:,:,i],cmap=\"gray\")\n",
    "    plt.xticks([])\n",
    "    plt.yticks([])\n",
    "    k = k + 1\n",
    "    plt.show()"
   ]
  },
  {
   "cell_type": "code",
   "execution_count": 34,
   "metadata": {},
   "outputs": [
    {
     "name": "stdout",
     "output_type": "stream",
     "text": [
      "(1, 64, 64, 1)\n",
      "(1, 64, 64, 7)\n"
     ]
    },
    {
     "data": {
      "image/png": "[encoded data removed]",
      "text/plain": [
       "<Figure size 432x288 with 1 Axes>"
      ]
     },
     "metadata": {},
     "output_type": "display_data"
    },
    {
     "data": {
      "image/png": "[encoded data removed]",
      "text/plain": [
       "<Figure size 432x288 with 1 Axes>"
      ]
     },
     "metadata": {},
     "output_type": "display_data"
    },
    {
     "data": {
      "image/png": "[encoded data removed]",
      "text/plain": [
       "<Figure size 432x288 with 1 Axes>"
      ]
     },
     "metadata": {},
     "output_type": "display_data"
    },
    {
     "data": {
      "image/png": "[encoded data removed]",
      "text/plain": [
       "<Figure size 432x288 with 1 Axes>"
      ]
     },
     "metadata": {},
     "output_type": "display_data"
    },
    {
     "data": {
      "image/png": "[encoded data removed]",
      "text/plain": [
       "<Figure size 432x288 with 1 Axes>"
      ]
     },
     "metadata": {},
     "output_type": "display_data"
    },
    {
     "data": {
      "image/png": "[encoded data removed]",
      "text/plain": [
       "<Figure size 432x288 with 1 Axes>"
      ]
     },
     "metadata": {},
     "output_type": "display_data"
    },
    {
     "data": {
      "image/png": "[encoded data removed]",
      "text/plain": [
       "<Figure size 432x288 with 1 Axes>"
      ]
     },
     "metadata": {},
     "output_type": "display_data"
    }
   ],
   "source": [
    "#四角形の特徴マップ\n",
    "#check input image\n",
    "img_path = './data/rectangle/rectangle20_1.jpg'\n",
    "#img_list = glob.glob(img_path + '*')\n",
    "size = (64, 64, 1)\n",
    "img = load_img(img_path, grayscale = True, target_size=size)\n",
    "x = img_to_array(img)\n",
    "#x = np.expand_dims(x, axis=0)\n",
    "img_tensor = x/255\n",
    "img_tensor = img_tensor[np.newaxis, ...]\n",
    "print(img_tensor.shape)\n",
    "#plt.imshow(img_tensor[0])\n",
    "#plt.show()\n",
    "\n",
    "activations = activation_model.predict(img_tensor)\n",
    "#print(len(activations))\n",
    "#print(activations)\n",
    "\n",
    "first_layer_activation = activations[1]\n",
    "print(first_layer_activation.shape)\n",
    "\n",
    "k = 0\n",
    "for i in range(7):\n",
    "    plt.imshow(first_layer_activation[0,:,:,i],cmap=\"gray\")\n",
    "    plt.xticks([])\n",
    "    plt.yticks([])\n",
    "    k = k + 1\n",
    "    plt.show()"
   ]
  },
  {
   "cell_type": "code",
   "execution_count": 35,
   "metadata": {},
   "outputs": [
    {
     "name": "stdout",
     "output_type": "stream",
     "text": [
      "(1, 64, 64, 1)\n",
      "(1, 64, 64, 7)\n"
     ]
    },
    {
     "data": {
      "image/png": "[encoded data removed]",
      "text/plain": [
       "<Figure size 432x288 with 1 Axes>"
      ]
     },
     "metadata": {},
     "output_type": "display_data"
    },
    {
     "data": {
      "image/png": "[encoded data removed]",
      "text/plain": [
       "<Figure size 432x288 with 1 Axes>"
      ]
     },
     "metadata": {},
     "output_type": "display_data"
    },
    {
     "data": {
      "image/png": "[encoded data removed]",
      "text/plain": [
       "<Figure size 432x288 with 1 Axes>"
      ]
     },
     "metadata": {},
     "output_type": "display_data"
    },
    {
     "data": {
      "image/png": "[encoded data removed]",
      "text/plain": [
       "<Figure size 432x288 with 1 Axes>"
      ]
     },
     "metadata": {},
     "output_type": "display_data"
    },
    {
     "data": {
      "image/png": "[encoded data removed]",
      "text/plain": [
       "<Figure size 432x288 with 1 Axes>"
      ]
     },
     "metadata": {},
     "output_type": "display_data"
    },
    {
     "data": {
      "image/png": "[encoded data removed]",
      "text/plain": [
       "<Figure size 432x288 with 1 Axes>"
      ]
     },
     "metadata": {},
     "output_type": "display_data"
    },
    {
     "data": {
      "image/png": "[encoded data removed]",
      "text/plain": [
       "<Figure size 432x288 with 1 Axes>"
      ]
     },
     "metadata": {},
     "output_type": "display_data"
    }
   ],
   "source": [
    "#五角形の特徴マップ\n",
    "#check input image\n",
    "img_path = './data/pentagon/pentagon20_1.jpg'\n",
    "#img_list = glob.glob(img_path + '*')\n",
    "size = (64, 64, 1)\n",
    "img = load_img(img_path, grayscale = True, target_size=size)\n",
    "x = img_to_array(img)\n",
    "#x = np.expand_dims(x, axis=0)\n",
    "img_tensor = x/255\n",
    "img_tensor = img_tensor[np.newaxis, ...]\n",
    "print(img_tensor.shape)\n",
    "#plt.imshow(img_tensor[0])\n",
    "#plt.show()\n",
    "\n",
    "activations = activation_model.predict(img_tensor)\n",
    "#print(len(activations))\n",
    "#print(activations)\n",
    "\n",
    "first_layer_activation = activations[1]\n",
    "print(first_layer_activation.shape)\n",
    "\n",
    "k = 0\n",
    "for i in range(7):\n",
    "    plt.imshow(first_layer_activation[0,:,:,i],cmap=\"gray\")\n",
    "    plt.xticks([])\n",
    "    plt.yticks([])\n",
    "    k = k + 1\n",
    "    plt.show()"
   ]
  },
  {
   "cell_type": "code",
   "execution_count": 36,
   "metadata": {},
   "outputs": [
    {
     "name": "stdout",
     "output_type": "stream",
     "text": [
      "(1, 64, 64, 1)\n",
      "(1, 64, 64, 7)\n"
     ]
    },
    {
     "data": {
      "image/png": "[encoded data removed]",
      "text/plain": [
       "<Figure size 432x288 with 1 Axes>"
      ]
     },
     "metadata": {},
     "output_type": "display_data"
    },
    {
     "data": {
      "image/png": "[encoded data removed]",
      "text/plain": [
       "<Figure size 432x288 with 1 Axes>"
      ]
     },
     "metadata": {},
     "output_type": "display_data"
    },
    {
     "data": {
      "image/png": "[encoded data removed]",
      "text/plain": [
       "<Figure size 432x288 with 1 Axes>"
      ]
     },
     "metadata": {},
     "output_type": "display_data"
    },
    {
     "data": {
      "image/png": "[encoded data removed]",
      "text/plain": [
       "<Figure size 432x288 with 1 Axes>"
      ]
     },
     "metadata": {},
     "output_type": "display_data"
    },
    {
     "data": {
      "image/png": "[encoded data removed]",
      "text/plain": [
       "<Figure size 432x288 with 1 Axes>"
      ]
     },
     "metadata": {},
     "output_type": "display_data"
    },
    {
     "data": {
      "image/png": "[encoded data removed]",
      "text/plain": [
       "<Figure size 432x288 with 1 Axes>"
      ]
     },
     "metadata": {},
     "output_type": "display_data"
    },
    {
     "data": {
      "image/png": "[encoded data removed]",
      "text/plain": [
       "<Figure size 432x288 with 1 Axes>"
      ]
     },
     "metadata": {},
     "output_type": "display_data"
    }
   ],
   "source": [
    "#六角形の特徴マップ\n",
    "#check input image\n",
    "img_path = './data/hexagon/hexagon20_1.jpg'\n",
    "#img_list = glob.glob(img_path + '*')\n",
    "size = (64, 64, 1)\n",
    "img = load_img(img_path, grayscale = True, target_size=size)\n",
    "x = img_to_array(img)\n",
    "#x = np.expand_dims(x, axis=0)\n",
    "img_tensor = x/255\n",
    "img_tensor = img_tensor[np.newaxis, ...]\n",
    "print(img_tensor.shape)\n",
    "#plt.imshow(img_tensor[0])\n",
    "#plt.show()\n",
    "\n",
    "activations = activation_model.predict(img_tensor)\n",
    "#print(len(activations))\n",
    "#print(activations)\n",
    "\n",
    "first_layer_activation = activations[1]\n",
    "print(first_layer_activation.shape)\n",
    "\n",
    "k = 0\n",
    "for i in range(7):\n",
    "    plt.imshow(first_layer_activation[0,:,:,i],cmap=\"gray\")\n",
    "    plt.xticks([])\n",
    "    plt.yticks([])\n",
    "    k = k + 1\n",
    "    plt.show()"
   ]
  },
  {
   "cell_type": "code",
   "execution_count": null,
   "metadata": {},
   "outputs": [],
   "source": []
  }
 ],
 "metadata": {
  "kernelspec": {
   "display_name": "Python 3",
   "language": "python",
   "name": "python3"
  },
  "language_info": {
   "codemirror_mode": {
    "name": "ipython",
    "version": 3
   },
   "file_extension": ".py",
   "mimetype": "text/x-python",
   "name": "python",
   "nbconvert_exporter": "python",
   "pygments_lexer": "ipython3",
   "version": "3.7.3"
  }
 },
 "nbformat": 4,
 "nbformat_minor": 2
}
